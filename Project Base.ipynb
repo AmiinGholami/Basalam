{
 "cells": [
  {
   "cell_type": "markdown",
   "metadata": {},
   "source": [
    "# DigiNext Bootcamp Project"
   ]
  },
  {
   "cell_type": "code",
   "execution_count": 1,
   "metadata": {},
   "outputs": [],
   "source": [
    "import numpy as np\n",
    "import pandas as pd\n",
    "import matplotlib as matplot\n",
    "import seaborn as sns\n",
    "import matplotlib.pyplot as plt\n",
    "import plotly.express as px\n",
    "import plotly.graph_objects as go\n",
    "from sklearn.preprocessing import TargetEncoder"
   ]
  },
  {
   "cell_type": "markdown",
   "metadata": {},
   "source": [
    "## Product Dataset"
   ]
  },
  {
   "cell_type": "code",
   "execution_count": 2,
   "metadata": {},
   "outputs": [
    {
     "name": "stderr",
     "output_type": "stream",
     "text": [
      "/var/folders/rp/jsdh10cj68lf8yq9pr76clp80000gn/T/ipykernel_1930/1451024866.py:1: DtypeWarning: Columns (18,35,36,37,38,42) have mixed types. Specify dtype option on import or set low_memory=False.\n",
      "  df_products = pd.read_csv('BaSalam.products.csv')\n"
     ]
    }
   ],
   "source": [
    "df_products = pd.read_csv('BaSalam.products.csv')"
   ]
  },
  {
   "cell_type": "code",
   "execution_count": null,
   "metadata": {},
   "outputs": [
    {
     "data": {
      "application/vnd.microsoft.datawrangler.viewer.v0+json": {
       "columns": [
        {
         "name": "index",
         "rawType": "int64",
         "type": "integer"
        },
        {
         "name": "_id",
         "rawType": "int64",
         "type": "integer"
        },
        {
         "name": "_score",
         "rawType": "float64",
         "type": "float"
        },
        {
         "name": "sales_count_week",
         "rawType": "int64",
         "type": "integer"
        },
        {
         "name": "name",
         "rawType": "object",
         "type": "string"
        },
        {
         "name": "price",
         "rawType": "float64",
         "type": "float"
        },
        {
         "name": "status_id",
         "rawType": "float64",
         "type": "float"
        },
        {
         "name": "status_title",
         "rawType": "object",
         "type": "string"
        },
        {
         "name": "stock",
         "rawType": "float64",
         "type": "float"
        },
        {
         "name": "photo_MEDIUM",
         "rawType": "object",
         "type": "string"
        },
        {
         "name": "photo_SMALL",
         "rawType": "object",
         "type": "string"
        },
        {
         "name": "rating_average",
         "rawType": "float64",
         "type": "float"
        },
        {
         "name": "rating_count",
         "rawType": "float64",
         "type": "float"
        },
        {
         "name": "rating_signals",
         "rawType": "float64",
         "type": "float"
        },
        {
         "name": "primaryPrice",
         "rawType": "float64",
         "type": "float"
        },
        {
         "name": "preparationDays",
         "rawType": "float64",
         "type": "float"
        },
        {
         "name": "weight",
         "rawType": "float64",
         "type": "float"
        },
        {
         "name": "categoryId",
         "rawType": "float64",
         "type": "float"
        },
        {
         "name": "has_delivery",
         "rawType": "object",
         "type": "unknown"
        },
        {
         "name": "has_variation",
         "rawType": "object",
         "type": "unknown"
        },
        {
         "name": "new_categoryId",
         "rawType": "float64",
         "type": "float"
        },
        {
         "name": "navigation_id",
         "rawType": "float64",
         "type": "float"
        },
        {
         "name": "vendor_name",
         "rawType": "object",
         "type": "string"
        },
        {
         "name": "vendor_identifier",
         "rawType": "object",
         "type": "string"
        },
        {
         "name": "vendor_statusId",
         "rawType": "float64",
         "type": "float"
        },
        {
         "name": "vendor_freeShippingToIran",
         "rawType": "float64",
         "type": "float"
        },
        {
         "name": "vendor_freeShippingToSameCity",
         "rawType": "float64",
         "type": "float"
        },
        {
         "name": "vendor_cityId",
         "rawType": "float64",
         "type": "float"
        },
        {
         "name": "vendor_provinceId",
         "rawType": "float64",
         "type": "float"
        },
        {
         "name": "vendor_has_delivery",
         "rawType": "object",
         "type": "unknown"
        },
        {
         "name": "vendor_score",
         "rawType": "float64",
         "type": "float"
        },
        {
         "name": "vendor_id",
         "rawType": "float64",
         "type": "float"
        },
        {
         "name": "vendor_status_id",
         "rawType": "float64",
         "type": "float"
        },
        {
         "name": "vendor_status_title",
         "rawType": "object",
         "type": "string"
        },
        {
         "name": "vendor_owner_city",
         "rawType": "object",
         "type": "string"
        },
        {
         "name": "vendor_owner_id",
         "rawType": "float64",
         "type": "float"
        },
        {
         "name": "isFreeShipping",
         "rawType": "object",
         "type": "unknown"
        },
        {
         "name": "IsAvailable",
         "rawType": "object",
         "type": "unknown"
        },
        {
         "name": "IsSaleable",
         "rawType": "object",
         "type": "unknown"
        },
        {
         "name": "mainAttribute",
         "rawType": "object",
         "type": "string"
        },
        {
         "name": "categoryTitle",
         "rawType": "object",
         "type": "string"
        },
        {
         "name": "published",
         "rawType": "object",
         "type": "unknown"
        },
        {
         "name": "video_ORIGINAL",
         "rawType": "object",
         "type": "unknown"
        },
        {
         "name": "promotions",
         "rawType": "object",
         "type": "unknown"
        }
       ],
       "conversionMethod": "pd.DataFrame",
       "ref": "e909234a-667b-4d40-ad83-94f7e58352b4",
       "rows": [
        [
         "0",
         "9873883",
         "468.75",
         "14",
         "پسته فندقی خندان امسالی یک کیلویی تضمین کیفیت و مرجوعی. ",
         "5170000.0",
         "2976.0",
         "در دسترس",
         "746.0",
         "https://statics.basalam.com/public-17/users/PekJ2J/03-01/8k4i2zeJwVZPZfWOKGAZv5PfzTgrVMOsx6mwWw70H9YVOYcXiM.jpg_512X512X70.jpg",
         "https://statics.basalam.com/public-17/users/PekJ2J/03-01/8k4i2zeJwVZPZfWOKGAZv5PfzTgrVMOsx6mwWw70H9YVOYcXiM.jpg_256X256X70.jpg",
         "4.7",
         "80.0",
         "80.0",
         "6000000.0",
         "5.0",
         "1000.0",
         "0.0",
         "True",
         "False",
         "191.0",
         "2032.0",
         "فروشگاه بزرگ برتر(ارسال رایگان باخرید760هزار)",
         "khoshkbarbartar",
         "2987.0",
         "7600000.0",
         "2970000.0",
         "2143.0",
         "12.0",
         "True",
         "0.0",
         "783928.0",
         "2987.0",
         "فعال",
         "قاین",
         "13052433.0",
         "False",
         "True",
         "True",
         "1000 گرم",
         "میوه تازه",
         null,
         null,
         null
        ],
        [
         "1",
         "21808",
         "466.66666",
         "13",
         "روغن زیتون فدک 1 لیتری مزرعه ارگانیک فدک سید احمد بلند نظر",
         "6600000.0",
         "2976.0",
         "در دسترس",
         "4.0",
         "https://statics.basalam.com/public-3/users/J2/1802/iKSAAND1FxR7ihiEZf6SeWycAwazoAg1XsDUHX9B.jpg_512X512X70.jpg",
         "https://statics.basalam.com/public-3/users/J2/1802/iKSAAND1FxR7ihiEZf6SeWycAwazoAg1XsDUHX9B.jpg_256X256X70.jpg",
         "4.9",
         "1480.0",
         "1480.0",
         "0.0",
         "1.0",
         "900.0",
         "160.0",
         "True",
         "False",
         "154.0",
         null,
         "مزرعه زیتون فدک سید احمد بلندنظر",
         "fadak",
         "2987.0",
         null,
         null,
         "2531.0",
         "21.0",
         "True",
         "1.0",
         "15.0",
         "2987.0",
         "فعال",
         "قم",
         "20.0",
         "False",
         "True",
         "True",
         "900 گرم",
         "روغن‌های خوراکی",
         "True",
         "https://basalam-com.arvanvod.ir/yOpvGE3e0D/x3QEYXDgbR/origin_X9dD0umzC7sOO15G0qe6Ds0z6tUWLbn4dtd927Ey.mp4",
         null
        ],
        [
         "2",
         "10215970",
         "464.2857",
         "12",
         "عناب درجه یک  بیرجند یک کیلویی. تضمین کیفیت و مرجوعی ",
         "1360000.0",
         "2976.0",
         "در دسترس",
         "813.0",
         "https://statics.basalam.com/public-13/users/PekJ2J/10-13/aYjGy3O1ACtl8IsjKS3pUtgAL4FGALHLsxW6jeen2W0KodCnxT.jpg_512X512X70.jpg",
         "https://statics.basalam.com/public-13/users/PekJ2J/10-13/aYjGy3O1ACtl8IsjKS3pUtgAL4FGALHLsxW6jeen2W0KodCnxT.jpg_256X256X70.jpg",
         "5.0",
         "41.0",
         "41.0",
         "1650000.0",
         "5.0",
         "1000.0",
         "0.0",
         "True",
         "False",
         "191.0",
         null,
         "فروشگاه بزرگ برتر(ارسال رایگان باخرید760هزار)",
         "khoshkbarbartar",
         "2987.0",
         "7600000.0",
         "2970000.0",
         "2143.0",
         "12.0",
         "True",
         "0.0",
         "783928.0",
         "2987.0",
         "فعال",
         "قاین",
         "13052433.0",
         "False",
         "True",
         "True",
         "1000 گرم",
         "میوه تازه",
         null,
         null,
         null
        ],
        [
         "3",
         "11061637",
         "461.53845",
         "11",
         "هل سبز اکبر بنفش50گرمی.  سبز ودرشت وبسیار معطر",
         "1054000.0",
         "2976.0",
         "در دسترس",
         "1708.0",
         "https://statics.basalam.com/public-14/users/ME2PO/11-25/rhIqFvxyW1oxOyV421JHgQE5PLdZczxDhE9odEvTbqEt1rzTax.jpg_512X512X70.jpg",
         "https://statics.basalam.com/public-14/users/ME2PO/11-25/rhIqFvxyW1oxOyV421JHgQE5PLdZczxDhE9odEvTbqEt1rzTax.jpg_256X256X70.jpg",
         "5.0",
         "8.0",
         "8.0",
         "1250000.0",
         "5.0",
         "50.0",
         "0.0",
         "True",
         "False",
         "133.0",
         null,
         "زرشک وزعفران برتر قاینات",
         "intertopme",
         "2987.0",
         "5870000.0",
         "37000.0",
         "2143.0",
         "12.0",
         "True",
         "1.0",
         "369193.0",
         "2987.0",
         "فعال",
         "قاین",
         "1145924.0",
         "False",
         "True",
         "True",
         "50 گرم",
         "ادویه",
         null,
         null,
         null
        ],
        [
         "4",
         "10843522",
         "461.53845",
         "11",
         "زرشک دانه اناری اعلا 1402(یک کیلویی).محصول تضمین کیفیت ومرجوعی داره",
         "1830000.0",
         "2976.0",
         "در دسترس",
         "1509.0",
         "https://statics.basalam.com/public-16/users/LZD4l/02-04/9Uwo8R8J2ScQlEKDjFYNVlf7UYWDiRF45KGUlbbzueqy5SLJEC.jpg_512X512X70.jpg",
         "https://statics.basalam.com/public-16/users/LZD4l/02-04/9Uwo8R8J2ScQlEKDjFYNVlf7UYWDiRF45KGUlbbzueqy5SLJEC.jpg_256X256X70.jpg",
         "4.9",
         "34.0",
         "34.0",
         "2100000.0",
         "5.0",
         "1000.0",
         "0.0",
         "True",
         "False",
         "191.0",
         null,
         "خشکبار تواضع(ارسال رایگان باخرید847هزار)",
         "narmilatak",
         "2987.0",
         "8470000.0",
         "5470000.0",
         "2143.0",
         "12.0",
         "True",
         "1.0",
         "814012.0",
         "2987.0",
         "فعال",
         "قاین",
         "1246369.0",
         "False",
         "True",
         "True",
         "1000 گرم",
         "میوه تازه",
         null,
         null,
         null
        ]
       ],
       "shape": {
        "columns": 43,
        "rows": 5
       }
      },
      "text/html": [
       "<div>\n",
       "<style scoped>\n",
       "    .dataframe tbody tr th:only-of-type {\n",
       "        vertical-align: middle;\n",
       "    }\n",
       "\n",
       "    .dataframe tbody tr th {\n",
       "        vertical-align: top;\n",
       "    }\n",
       "\n",
       "    .dataframe thead th {\n",
       "        text-align: right;\n",
       "    }\n",
       "</style>\n",
       "<table border=\"1\" class=\"dataframe\">\n",
       "  <thead>\n",
       "    <tr style=\"text-align: right;\">\n",
       "      <th></th>\n",
       "      <th>_id</th>\n",
       "      <th>_score</th>\n",
       "      <th>sales_count_week</th>\n",
       "      <th>name</th>\n",
       "      <th>price</th>\n",
       "      <th>status_id</th>\n",
       "      <th>status_title</th>\n",
       "      <th>stock</th>\n",
       "      <th>photo_MEDIUM</th>\n",
       "      <th>photo_SMALL</th>\n",
       "      <th>...</th>\n",
       "      <th>vendor_owner_city</th>\n",
       "      <th>vendor_owner_id</th>\n",
       "      <th>isFreeShipping</th>\n",
       "      <th>IsAvailable</th>\n",
       "      <th>IsSaleable</th>\n",
       "      <th>mainAttribute</th>\n",
       "      <th>categoryTitle</th>\n",
       "      <th>published</th>\n",
       "      <th>video_ORIGINAL</th>\n",
       "      <th>promotions</th>\n",
       "    </tr>\n",
       "  </thead>\n",
       "  <tbody>\n",
       "    <tr>\n",
       "      <th>0</th>\n",
       "      <td>9873883</td>\n",
       "      <td>468.75000</td>\n",
       "      <td>14</td>\n",
       "      <td>پسته فندقی خندان امسالی یک کیلویی تضمین کیفیت ...</td>\n",
       "      <td>5170000.0</td>\n",
       "      <td>2976.0</td>\n",
       "      <td>در دسترس</td>\n",
       "      <td>746.0</td>\n",
       "      <td>https://statics.basalam.com/public-17/users/Pe...</td>\n",
       "      <td>https://statics.basalam.com/public-17/users/Pe...</td>\n",
       "      <td>...</td>\n",
       "      <td>قاین</td>\n",
       "      <td>13052433.0</td>\n",
       "      <td>False</td>\n",
       "      <td>True</td>\n",
       "      <td>True</td>\n",
       "      <td>1000 گرم</td>\n",
       "      <td>میوه تازه</td>\n",
       "      <td>NaN</td>\n",
       "      <td>NaN</td>\n",
       "      <td>NaN</td>\n",
       "    </tr>\n",
       "    <tr>\n",
       "      <th>1</th>\n",
       "      <td>21808</td>\n",
       "      <td>466.66666</td>\n",
       "      <td>13</td>\n",
       "      <td>روغن زیتون فدک 1 لیتری مزرعه ارگانیک فدک سید ا...</td>\n",
       "      <td>6600000.0</td>\n",
       "      <td>2976.0</td>\n",
       "      <td>در دسترس</td>\n",
       "      <td>4.0</td>\n",
       "      <td>https://statics.basalam.com/public-3/users/J2/...</td>\n",
       "      <td>https://statics.basalam.com/public-3/users/J2/...</td>\n",
       "      <td>...</td>\n",
       "      <td>قم</td>\n",
       "      <td>20.0</td>\n",
       "      <td>False</td>\n",
       "      <td>True</td>\n",
       "      <td>True</td>\n",
       "      <td>900 گرم</td>\n",
       "      <td>روغن‌های خوراکی</td>\n",
       "      <td>True</td>\n",
       "      <td>https://basalam-com.arvanvod.ir/yOpvGE3e0D/x3Q...</td>\n",
       "      <td>NaN</td>\n",
       "    </tr>\n",
       "    <tr>\n",
       "      <th>2</th>\n",
       "      <td>10215970</td>\n",
       "      <td>464.28570</td>\n",
       "      <td>12</td>\n",
       "      <td>عناب درجه یک  بیرجند یک کیلویی. تضمین کیفیت و ...</td>\n",
       "      <td>1360000.0</td>\n",
       "      <td>2976.0</td>\n",
       "      <td>در دسترس</td>\n",
       "      <td>813.0</td>\n",
       "      <td>https://statics.basalam.com/public-13/users/Pe...</td>\n",
       "      <td>https://statics.basalam.com/public-13/users/Pe...</td>\n",
       "      <td>...</td>\n",
       "      <td>قاین</td>\n",
       "      <td>13052433.0</td>\n",
       "      <td>False</td>\n",
       "      <td>True</td>\n",
       "      <td>True</td>\n",
       "      <td>1000 گرم</td>\n",
       "      <td>میوه تازه</td>\n",
       "      <td>NaN</td>\n",
       "      <td>NaN</td>\n",
       "      <td>NaN</td>\n",
       "    </tr>\n",
       "    <tr>\n",
       "      <th>3</th>\n",
       "      <td>11061637</td>\n",
       "      <td>461.53845</td>\n",
       "      <td>11</td>\n",
       "      <td>هل سبز اکبر بنفش50گرمی.  سبز ودرشت وبسیار معطر</td>\n",
       "      <td>1054000.0</td>\n",
       "      <td>2976.0</td>\n",
       "      <td>در دسترس</td>\n",
       "      <td>1708.0</td>\n",
       "      <td>https://statics.basalam.com/public-14/users/ME...</td>\n",
       "      <td>https://statics.basalam.com/public-14/users/ME...</td>\n",
       "      <td>...</td>\n",
       "      <td>قاین</td>\n",
       "      <td>1145924.0</td>\n",
       "      <td>False</td>\n",
       "      <td>True</td>\n",
       "      <td>True</td>\n",
       "      <td>50 گرم</td>\n",
       "      <td>ادویه</td>\n",
       "      <td>NaN</td>\n",
       "      <td>NaN</td>\n",
       "      <td>NaN</td>\n",
       "    </tr>\n",
       "    <tr>\n",
       "      <th>4</th>\n",
       "      <td>10843522</td>\n",
       "      <td>461.53845</td>\n",
       "      <td>11</td>\n",
       "      <td>زرشک دانه اناری اعلا 1402(یک کیلویی).محصول تضم...</td>\n",
       "      <td>1830000.0</td>\n",
       "      <td>2976.0</td>\n",
       "      <td>در دسترس</td>\n",
       "      <td>1509.0</td>\n",
       "      <td>https://statics.basalam.com/public-16/users/LZ...</td>\n",
       "      <td>https://statics.basalam.com/public-16/users/LZ...</td>\n",
       "      <td>...</td>\n",
       "      <td>قاین</td>\n",
       "      <td>1246369.0</td>\n",
       "      <td>False</td>\n",
       "      <td>True</td>\n",
       "      <td>True</td>\n",
       "      <td>1000 گرم</td>\n",
       "      <td>میوه تازه</td>\n",
       "      <td>NaN</td>\n",
       "      <td>NaN</td>\n",
       "      <td>NaN</td>\n",
       "    </tr>\n",
       "  </tbody>\n",
       "</table>\n",
       "<p>5 rows × 43 columns</p>\n",
       "</div>"
      ],
      "text/plain": [
       "        _id     _score  sales_count_week  \\\n",
       "0   9873883  468.75000                14   \n",
       "1     21808  466.66666                13   \n",
       "2  10215970  464.28570                12   \n",
       "3  11061637  461.53845                11   \n",
       "4  10843522  461.53845                11   \n",
       "\n",
       "                                                name      price  status_id  \\\n",
       "0  پسته فندقی خندان امسالی یک کیلویی تضمین کیفیت ...  5170000.0     2976.0   \n",
       "1  روغن زیتون فدک 1 لیتری مزرعه ارگانیک فدک سید ا...  6600000.0     2976.0   \n",
       "2  عناب درجه یک  بیرجند یک کیلویی. تضمین کیفیت و ...  1360000.0     2976.0   \n",
       "3     هل سبز اکبر بنفش50گرمی.  سبز ودرشت وبسیار معطر  1054000.0     2976.0   \n",
       "4  زرشک دانه اناری اعلا 1402(یک کیلویی).محصول تضم...  1830000.0     2976.0   \n",
       "\n",
       "  status_title   stock                                       photo_MEDIUM  \\\n",
       "0     در دسترس   746.0  https://statics.basalam.com/public-17/users/Pe...   \n",
       "1     در دسترس     4.0  https://statics.basalam.com/public-3/users/J2/...   \n",
       "2     در دسترس   813.0  https://statics.basalam.com/public-13/users/Pe...   \n",
       "3     در دسترس  1708.0  https://statics.basalam.com/public-14/users/ME...   \n",
       "4     در دسترس  1509.0  https://statics.basalam.com/public-16/users/LZ...   \n",
       "\n",
       "                                         photo_SMALL  ...  vendor_owner_city  \\\n",
       "0  https://statics.basalam.com/public-17/users/Pe...  ...               قاین   \n",
       "1  https://statics.basalam.com/public-3/users/J2/...  ...                 قم   \n",
       "2  https://statics.basalam.com/public-13/users/Pe...  ...               قاین   \n",
       "3  https://statics.basalam.com/public-14/users/ME...  ...               قاین   \n",
       "4  https://statics.basalam.com/public-16/users/LZ...  ...               قاین   \n",
       "\n",
       "   vendor_owner_id  isFreeShipping  IsAvailable  IsSaleable  mainAttribute  \\\n",
       "0       13052433.0           False         True        True       1000 گرم   \n",
       "1             20.0           False         True        True        900 گرم   \n",
       "2       13052433.0           False         True        True       1000 گرم   \n",
       "3        1145924.0           False         True        True         50 گرم   \n",
       "4        1246369.0           False         True        True       1000 گرم   \n",
       "\n",
       "     categoryTitle published  \\\n",
       "0        میوه تازه       NaN   \n",
       "1  روغن‌های خوراکی      True   \n",
       "2        میوه تازه       NaN   \n",
       "3            ادویه       NaN   \n",
       "4        میوه تازه       NaN   \n",
       "\n",
       "                                      video_ORIGINAL  promotions  \n",
       "0                                                NaN         NaN  \n",
       "1  https://basalam-com.arvanvod.ir/yOpvGE3e0D/x3Q...         NaN  \n",
       "2                                                NaN         NaN  \n",
       "3                                                NaN         NaN  \n",
       "4                                                NaN         NaN  \n",
       "\n",
       "[5 rows x 43 columns]"
      ]
     },
     "execution_count": 3,
     "metadata": {},
     "output_type": "execute_result"
    }
   ],
   "source": [
    "df_products.head()"
   ]
  },
  {
   "cell_type": "markdown",
   "metadata": {},
   "source": [
    "### DataCleaning"
   ]
  },
  {
   "cell_type": "code",
   "execution_count": 5,
   "metadata": {},
   "outputs": [
    {
     "data": {
      "application/vnd.microsoft.datawrangler.viewer.v0+json": {
       "columns": [
        {
         "name": "index",
         "rawType": "int64",
         "type": "integer"
        },
        {
         "name": "weight",
         "rawType": "float64",
         "type": "float"
        },
        {
         "name": "mainAttribute",
         "rawType": "object",
         "type": "unknown"
        }
       ],
       "conversionMethod": "pd.DataFrame",
       "ref": "f9f53f9f-2192-497f-a703-698d7be8e300",
       "rows": [
        [
         "0",
         "1000.0",
         "1000 گرم"
        ],
        [
         "1",
         "900.0",
         "900 گرم"
        ],
        [
         "2",
         "1000.0",
         "1000 گرم"
        ],
        [
         "3",
         "50.0",
         "50 گرم"
        ],
        [
         "4",
         "1000.0",
         "1000 گرم"
        ],
        [
         "5",
         "250.0",
         "250 گرم"
        ],
        [
         "6",
         "1000.0",
         "1000 گرم"
        ],
        [
         "7",
         "25.0",
         "25 گرم"
        ],
        [
         "8",
         "500.0",
         "500 گرم"
        ],
        [
         "9",
         "10000.0",
         "10000 گرم"
        ],
        [
         "10",
         "250.0",
         "250 گرم"
        ],
        [
         "11",
         "500.0",
         "500 گرم"
        ],
        [
         "12",
         "550.0",
         "550 گرم"
        ],
        [
         "13",
         "500.0",
         "500 گرم"
        ],
        [
         "14",
         "500.0",
         "500 گرم"
        ],
        [
         "15",
         "1000.0",
         "1000 گرم"
        ],
        [
         "16",
         "375.0",
         "375 گرم"
        ],
        [
         "17",
         "250.0",
         "250 گرم"
        ],
        [
         "18",
         "150000.0",
         "150000 گرم"
        ],
        [
         "19",
         "10000.0",
         "10000 گرم"
        ],
        [
         "20",
         "500.0",
         "500 گرم"
        ],
        [
         "21",
         "1000.0",
         "1000 گرم"
        ],
        [
         "22",
         "2000.0",
         "2000 گرم"
        ],
        [
         "23",
         "250.0",
         "250 گرم"
        ],
        [
         "24",
         "1000.0",
         "1000 گرم"
        ],
        [
         "25",
         "100.0",
         "100 گرم"
        ],
        [
         "26",
         "1000.0",
         "1000 گرم"
        ],
        [
         "27",
         "2400.0",
         "2400 گرم"
        ],
        [
         "28",
         "10000.0",
         "10000 گرم"
        ],
        [
         "29",
         "500.0",
         "500 گرم"
        ],
        [
         "30",
         "1000.0",
         "1000 گرم"
        ],
        [
         "31",
         "1000.0",
         "1000 گرم"
        ],
        [
         "32",
         "1000.0",
         "1000 گرم"
        ],
        [
         "33",
         "200.0",
         "200 گرم"
        ],
        [
         "34",
         "1000.0",
         "1000 گرم"
        ],
        [
         "35",
         "15.0",
         "15 گرم"
        ],
        [
         "36",
         "1000.0",
         "1000 گرم"
        ],
        [
         "37",
         "200.0",
         "200 گرم"
        ],
        [
         "38",
         "3000.0",
         "3000 گرم"
        ],
        [
         "39",
         "20.0",
         "20 گرم"
        ],
        [
         "40",
         "550.0",
         "550 گرم"
        ],
        [
         "41",
         "70.0",
         "70 گرم"
        ],
        [
         "42",
         "1000.0",
         "1000 گرم"
        ],
        [
         "43",
         "1000.0",
         "1000 گرم"
        ],
        [
         "44",
         "400.0",
         "400 گرم"
        ],
        [
         "45",
         "750.0",
         "750 گرم"
        ],
        [
         "46",
         "50.0",
         "50 گرم"
        ],
        [
         "47",
         "3000.0",
         "3000 گرم"
        ],
        [
         "48",
         "1000.0",
         "1000 گرم"
        ],
        [
         "49",
         "900.0",
         "900 گرم"
        ]
       ],
       "shape": {
        "columns": 2,
        "rows": 2411358
       }
      },
      "text/html": [
       "<div>\n",
       "<style scoped>\n",
       "    .dataframe tbody tr th:only-of-type {\n",
       "        vertical-align: middle;\n",
       "    }\n",
       "\n",
       "    .dataframe tbody tr th {\n",
       "        vertical-align: top;\n",
       "    }\n",
       "\n",
       "    .dataframe thead th {\n",
       "        text-align: right;\n",
       "    }\n",
       "</style>\n",
       "<table border=\"1\" class=\"dataframe\">\n",
       "  <thead>\n",
       "    <tr style=\"text-align: right;\">\n",
       "      <th></th>\n",
       "      <th>weight</th>\n",
       "      <th>mainAttribute</th>\n",
       "    </tr>\n",
       "  </thead>\n",
       "  <tbody>\n",
       "    <tr>\n",
       "      <th>0</th>\n",
       "      <td>1000.0</td>\n",
       "      <td>1000 گرم</td>\n",
       "    </tr>\n",
       "    <tr>\n",
       "      <th>1</th>\n",
       "      <td>900.0</td>\n",
       "      <td>900 گرم</td>\n",
       "    </tr>\n",
       "    <tr>\n",
       "      <th>2</th>\n",
       "      <td>1000.0</td>\n",
       "      <td>1000 گرم</td>\n",
       "    </tr>\n",
       "    <tr>\n",
       "      <th>3</th>\n",
       "      <td>50.0</td>\n",
       "      <td>50 گرم</td>\n",
       "    </tr>\n",
       "    <tr>\n",
       "      <th>4</th>\n",
       "      <td>1000.0</td>\n",
       "      <td>1000 گرم</td>\n",
       "    </tr>\n",
       "    <tr>\n",
       "      <th>...</th>\n",
       "      <td>...</td>\n",
       "      <td>...</td>\n",
       "    </tr>\n",
       "    <tr>\n",
       "      <th>2411353</th>\n",
       "      <td>25.0</td>\n",
       "      <td>NaN</td>\n",
       "    </tr>\n",
       "    <tr>\n",
       "      <th>2411354</th>\n",
       "      <td>40.0</td>\n",
       "      <td>NaN</td>\n",
       "    </tr>\n",
       "    <tr>\n",
       "      <th>2411355</th>\n",
       "      <td>30.0</td>\n",
       "      <td>NaN</td>\n",
       "    </tr>\n",
       "    <tr>\n",
       "      <th>2411356</th>\n",
       "      <td>10.0</td>\n",
       "      <td>NaN</td>\n",
       "    </tr>\n",
       "    <tr>\n",
       "      <th>2411357</th>\n",
       "      <td>15.0</td>\n",
       "      <td>NaN</td>\n",
       "    </tr>\n",
       "  </tbody>\n",
       "</table>\n",
       "<p>2411358 rows × 2 columns</p>\n",
       "</div>"
      ],
      "text/plain": [
       "         weight mainAttribute\n",
       "0        1000.0      1000 گرم\n",
       "1         900.0       900 گرم\n",
       "2        1000.0      1000 گرم\n",
       "3          50.0        50 گرم\n",
       "4        1000.0      1000 گرم\n",
       "...         ...           ...\n",
       "2411353    25.0           NaN\n",
       "2411354    40.0           NaN\n",
       "2411355    30.0           NaN\n",
       "2411356    10.0           NaN\n",
       "2411357    15.0           NaN\n",
       "\n",
       "[2411358 rows x 2 columns]"
      ]
     },
     "execution_count": 5,
     "metadata": {},
     "output_type": "execute_result"
    }
   ],
   "source": [
    "df_weight = df_products[['weight', 'mainAttribute']]\n",
    "df_weight"
   ]
  },
  {
   "cell_type": "code",
   "execution_count": 6,
   "metadata": {},
   "outputs": [
    {
     "data": {
      "application/vnd.microsoft.datawrangler.viewer.v0+json": {
       "columns": [
        {
         "name": "index",
         "rawType": "int64",
         "type": "integer"
        },
        {
         "name": "_score",
         "rawType": "float64",
         "type": "float"
        },
        {
         "name": "rating_average",
         "rawType": "float64",
         "type": "float"
        }
       ],
       "conversionMethod": "pd.DataFrame",
       "ref": "de312451-611b-430f-b191-683024f409e3",
       "rows": [
        [
         "0",
         "468.75",
         "4.7"
        ],
        [
         "1",
         "466.66666",
         "4.9"
        ],
        [
         "2",
         "464.2857",
         "5.0"
        ],
        [
         "3",
         "461.53845",
         "5.0"
        ],
        [
         "4",
         "461.53845",
         "4.9"
        ],
        [
         "5",
         "461.53845",
         "4.0"
        ],
        [
         "6",
         "458.33334",
         "4.7"
        ],
        [
         "7",
         "458.33334",
         "5.0"
        ],
        [
         "8",
         "458.33334",
         "4.8"
        ],
        [
         "9",
         "454.54544",
         "4.5"
        ],
        [
         "10",
         "454.54544",
         "5.0"
        ],
        [
         "11",
         "454.54544",
         "5.0"
        ],
        [
         "12",
         "454.54544",
         "5.0"
        ],
        [
         "13",
         "454.54544",
         "5.0"
        ],
        [
         "14",
         "454.54544",
         "5.0"
        ],
        [
         "15",
         "454.54544",
         "4.8"
        ],
        [
         "16",
         "450.0",
         "4.8"
        ],
        [
         "17",
         "444.44446",
         "4.4"
        ],
        [
         "18",
         "437.5",
         "4.7"
        ],
        [
         "19",
         "437.5",
         "4.0"
        ],
        [
         "20",
         "437.5",
         "5.0"
        ],
        [
         "21",
         "437.5",
         "4.8"
        ],
        [
         "22",
         "437.5",
         "5.0"
        ],
        [
         "23",
         "428.57144",
         "4.0"
        ],
        [
         "24",
         "428.57144",
         "5.0"
        ],
        [
         "25",
         "428.57144",
         "4.7"
        ],
        [
         "26",
         "428.57144",
         "4.9"
        ],
        [
         "27",
         "428.57144",
         "5.0"
        ],
        [
         "28",
         "428.57144",
         "4.5"
        ],
        [
         "29",
         "428.57144",
         "4.8"
        ],
        [
         "30",
         "428.57144",
         "4.4"
        ],
        [
         "31",
         "428.57144",
         "4.6"
        ],
        [
         "32",
         "428.57144",
         "4.8"
        ],
        [
         "33",
         "428.57144",
         "4.9"
        ],
        [
         "34",
         "428.57144",
         "4.9"
        ],
        [
         "35",
         "428.57144",
         "4.5"
        ],
        [
         "36",
         "428.57144",
         "4.1"
        ],
        [
         "37",
         "428.57144",
         "4.8"
        ],
        [
         "38",
         "428.57144",
         "4.6"
        ],
        [
         "39",
         "428.57144",
         "4.7"
        ],
        [
         "40",
         "416.66666",
         "4.7"
        ],
        [
         "41",
         "416.66666",
         "0.0"
        ],
        [
         "42",
         "416.66666",
         "4.6"
        ],
        [
         "43",
         "416.66666",
         "4.4"
        ],
        [
         "44",
         "416.66666",
         "5.0"
        ],
        [
         "45",
         "416.66666",
         "4.0"
        ],
        [
         "46",
         "416.66666",
         "5.0"
        ],
        [
         "47",
         "416.66666",
         "4.7"
        ],
        [
         "48",
         "416.66666",
         "4.9"
        ],
        [
         "49",
         "416.66666",
         "4.6"
        ]
       ],
       "shape": {
        "columns": 2,
        "rows": 2411358
       }
      },
      "text/html": [
       "<div>\n",
       "<style scoped>\n",
       "    .dataframe tbody tr th:only-of-type {\n",
       "        vertical-align: middle;\n",
       "    }\n",
       "\n",
       "    .dataframe tbody tr th {\n",
       "        vertical-align: top;\n",
       "    }\n",
       "\n",
       "    .dataframe thead th {\n",
       "        text-align: right;\n",
       "    }\n",
       "</style>\n",
       "<table border=\"1\" class=\"dataframe\">\n",
       "  <thead>\n",
       "    <tr style=\"text-align: right;\">\n",
       "      <th></th>\n",
       "      <th>_score</th>\n",
       "      <th>rating_average</th>\n",
       "    </tr>\n",
       "  </thead>\n",
       "  <tbody>\n",
       "    <tr>\n",
       "      <th>0</th>\n",
       "      <td>468.75000</td>\n",
       "      <td>4.7</td>\n",
       "    </tr>\n",
       "    <tr>\n",
       "      <th>1</th>\n",
       "      <td>466.66666</td>\n",
       "      <td>4.9</td>\n",
       "    </tr>\n",
       "    <tr>\n",
       "      <th>2</th>\n",
       "      <td>464.28570</td>\n",
       "      <td>5.0</td>\n",
       "    </tr>\n",
       "    <tr>\n",
       "      <th>3</th>\n",
       "      <td>461.53845</td>\n",
       "      <td>5.0</td>\n",
       "    </tr>\n",
       "    <tr>\n",
       "      <th>4</th>\n",
       "      <td>461.53845</td>\n",
       "      <td>4.9</td>\n",
       "    </tr>\n",
       "    <tr>\n",
       "      <th>...</th>\n",
       "      <td>...</td>\n",
       "      <td>...</td>\n",
       "    </tr>\n",
       "    <tr>\n",
       "      <th>2411353</th>\n",
       "      <td>0.00000</td>\n",
       "      <td>0.0</td>\n",
       "    </tr>\n",
       "    <tr>\n",
       "      <th>2411354</th>\n",
       "      <td>0.00000</td>\n",
       "      <td>0.0</td>\n",
       "    </tr>\n",
       "    <tr>\n",
       "      <th>2411355</th>\n",
       "      <td>0.00000</td>\n",
       "      <td>0.0</td>\n",
       "    </tr>\n",
       "    <tr>\n",
       "      <th>2411356</th>\n",
       "      <td>0.00000</td>\n",
       "      <td>0.0</td>\n",
       "    </tr>\n",
       "    <tr>\n",
       "      <th>2411357</th>\n",
       "      <td>0.00000</td>\n",
       "      <td>0.0</td>\n",
       "    </tr>\n",
       "  </tbody>\n",
       "</table>\n",
       "<p>2411358 rows × 2 columns</p>\n",
       "</div>"
      ],
      "text/plain": [
       "            _score  rating_average\n",
       "0        468.75000             4.7\n",
       "1        466.66666             4.9\n",
       "2        464.28570             5.0\n",
       "3        461.53845             5.0\n",
       "4        461.53845             4.9\n",
       "...            ...             ...\n",
       "2411353    0.00000             0.0\n",
       "2411354    0.00000             0.0\n",
       "2411355    0.00000             0.0\n",
       "2411356    0.00000             0.0\n",
       "2411357    0.00000             0.0\n",
       "\n",
       "[2411358 rows x 2 columns]"
      ]
     },
     "execution_count": 6,
     "metadata": {},
     "output_type": "execute_result"
    }
   ],
   "source": [
    "df_score = df_products[['_score', 'rating_average']]\n",
    "df_score"
   ]
  },
  {
   "cell_type": "code",
   "execution_count": 7,
   "metadata": {},
   "outputs": [
    {
     "data": {
      "application/vnd.microsoft.datawrangler.viewer.v0+json": {
       "columns": [
        {
         "name": "index",
         "rawType": "int64",
         "type": "integer"
        },
        {
         "name": "vendor_statusId",
         "rawType": "float64",
         "type": "float"
        },
        {
         "name": "vendor_status_id",
         "rawType": "float64",
         "type": "float"
        },
        {
         "name": "vendor_status_title",
         "rawType": "object",
         "type": "unknown"
        }
       ],
       "conversionMethod": "pd.DataFrame",
       "ref": "49872370-0759-4290-839e-90fd812479a2",
       "rows": [
        [
         "0",
         "2987.0",
         "2987.0",
         "فعال"
        ],
        [
         "1",
         "2987.0",
         "2987.0",
         "فعال"
        ],
        [
         "2",
         "2987.0",
         "2987.0",
         "فعال"
        ],
        [
         "3",
         "2987.0",
         "2987.0",
         "فعال"
        ],
        [
         "4",
         "2987.0",
         "2987.0",
         "فعال"
        ],
        [
         "5",
         "2987.0",
         "2987.0",
         "فعال"
        ],
        [
         "6",
         "2987.0",
         "2987.0",
         "فعال"
        ],
        [
         "7",
         "2987.0",
         "2987.0",
         "فعال"
        ],
        [
         "8",
         "2987.0",
         "2987.0",
         "فعال"
        ],
        [
         "9",
         "2987.0",
         "2987.0",
         "فعال"
        ],
        [
         "10",
         "2987.0",
         "2987.0",
         "فعال"
        ],
        [
         "11",
         "2987.0",
         "2987.0",
         "فعال"
        ],
        [
         "12",
         "2987.0",
         "2987.0",
         "فعال"
        ],
        [
         "13",
         "2987.0",
         "2987.0",
         "فعال"
        ],
        [
         "14",
         "2987.0",
         "2987.0",
         "فعال"
        ],
        [
         "15",
         "2987.0",
         "2987.0",
         "فعال"
        ],
        [
         "16",
         "2987.0",
         "2987.0",
         "فعال"
        ],
        [
         "17",
         "2987.0",
         "2987.0",
         "فعال"
        ],
        [
         "18",
         "2987.0",
         "2987.0",
         "فعال"
        ],
        [
         "19",
         "2987.0",
         "2987.0",
         "فعال"
        ],
        [
         "20",
         "2987.0",
         "2987.0",
         "فعال"
        ],
        [
         "21",
         "2987.0",
         "2987.0",
         "فعال"
        ],
        [
         "22",
         "2987.0",
         "2987.0",
         "فعال"
        ],
        [
         "23",
         "2987.0",
         "2987.0",
         "فعال"
        ],
        [
         "24",
         "2987.0",
         "2987.0",
         "فعال"
        ],
        [
         "25",
         "2987.0",
         "2987.0",
         "فعال"
        ],
        [
         "26",
         "2987.0",
         "2987.0",
         "فعال"
        ],
        [
         "27",
         "2987.0",
         "2987.0",
         "فعال"
        ],
        [
         "28",
         "2987.0",
         "2987.0",
         "فعال"
        ],
        [
         "29",
         "2987.0",
         "2987.0",
         "فعال"
        ],
        [
         "30",
         "2987.0",
         "2987.0",
         "فعال"
        ],
        [
         "31",
         "2987.0",
         "2987.0",
         "فعال"
        ],
        [
         "32",
         "2987.0",
         "2987.0",
         "فعال"
        ],
        [
         "33",
         "2987.0",
         "2987.0",
         "فعال"
        ],
        [
         "34",
         "2987.0",
         "2987.0",
         "فعال"
        ],
        [
         "35",
         "2987.0",
         "2987.0",
         "فعال"
        ],
        [
         "36",
         "2987.0",
         "2987.0",
         "فعال"
        ],
        [
         "37",
         "2987.0",
         "2987.0",
         "فعال"
        ],
        [
         "38",
         "2987.0",
         "2987.0",
         "فعال"
        ],
        [
         "39",
         "2987.0",
         "2987.0",
         "فعال"
        ],
        [
         "40",
         "2987.0",
         "2987.0",
         "فعال"
        ],
        [
         "41",
         "2987.0",
         "2987.0",
         "فعال"
        ],
        [
         "42",
         "2987.0",
         "2987.0",
         "فعال"
        ],
        [
         "43",
         "2987.0",
         "2987.0",
         "فعال"
        ],
        [
         "44",
         "2987.0",
         "2987.0",
         "فعال"
        ],
        [
         "45",
         "2987.0",
         "2987.0",
         "فعال"
        ],
        [
         "46",
         "2987.0",
         "2987.0",
         "فعال"
        ],
        [
         "47",
         "2987.0",
         "2987.0",
         "فعال"
        ],
        [
         "48",
         "2987.0",
         "2987.0",
         "فعال"
        ],
        [
         "49",
         "2987.0",
         "2987.0",
         "فعال"
        ]
       ],
       "shape": {
        "columns": 3,
        "rows": 2411358
       }
      },
      "text/html": [
       "<div>\n",
       "<style scoped>\n",
       "    .dataframe tbody tr th:only-of-type {\n",
       "        vertical-align: middle;\n",
       "    }\n",
       "\n",
       "    .dataframe tbody tr th {\n",
       "        vertical-align: top;\n",
       "    }\n",
       "\n",
       "    .dataframe thead th {\n",
       "        text-align: right;\n",
       "    }\n",
       "</style>\n",
       "<table border=\"1\" class=\"dataframe\">\n",
       "  <thead>\n",
       "    <tr style=\"text-align: right;\">\n",
       "      <th></th>\n",
       "      <th>vendor_statusId</th>\n",
       "      <th>vendor_status_id</th>\n",
       "      <th>vendor_status_title</th>\n",
       "    </tr>\n",
       "  </thead>\n",
       "  <tbody>\n",
       "    <tr>\n",
       "      <th>0</th>\n",
       "      <td>2987.0</td>\n",
       "      <td>2987.0</td>\n",
       "      <td>فعال</td>\n",
       "    </tr>\n",
       "    <tr>\n",
       "      <th>1</th>\n",
       "      <td>2987.0</td>\n",
       "      <td>2987.0</td>\n",
       "      <td>فعال</td>\n",
       "    </tr>\n",
       "    <tr>\n",
       "      <th>2</th>\n",
       "      <td>2987.0</td>\n",
       "      <td>2987.0</td>\n",
       "      <td>فعال</td>\n",
       "    </tr>\n",
       "    <tr>\n",
       "      <th>3</th>\n",
       "      <td>2987.0</td>\n",
       "      <td>2987.0</td>\n",
       "      <td>فعال</td>\n",
       "    </tr>\n",
       "    <tr>\n",
       "      <th>4</th>\n",
       "      <td>2987.0</td>\n",
       "      <td>2987.0</td>\n",
       "      <td>فعال</td>\n",
       "    </tr>\n",
       "    <tr>\n",
       "      <th>...</th>\n",
       "      <td>...</td>\n",
       "      <td>...</td>\n",
       "      <td>...</td>\n",
       "    </tr>\n",
       "    <tr>\n",
       "      <th>2411353</th>\n",
       "      <td>2987.0</td>\n",
       "      <td>2987.0</td>\n",
       "      <td>فعال</td>\n",
       "    </tr>\n",
       "    <tr>\n",
       "      <th>2411354</th>\n",
       "      <td>2987.0</td>\n",
       "      <td>2987.0</td>\n",
       "      <td>فعال</td>\n",
       "    </tr>\n",
       "    <tr>\n",
       "      <th>2411355</th>\n",
       "      <td>2987.0</td>\n",
       "      <td>2987.0</td>\n",
       "      <td>فعال</td>\n",
       "    </tr>\n",
       "    <tr>\n",
       "      <th>2411356</th>\n",
       "      <td>2987.0</td>\n",
       "      <td>2987.0</td>\n",
       "      <td>فعال</td>\n",
       "    </tr>\n",
       "    <tr>\n",
       "      <th>2411357</th>\n",
       "      <td>2987.0</td>\n",
       "      <td>2987.0</td>\n",
       "      <td>فعال</td>\n",
       "    </tr>\n",
       "  </tbody>\n",
       "</table>\n",
       "<p>2411358 rows × 3 columns</p>\n",
       "</div>"
      ],
      "text/plain": [
       "         vendor_statusId  vendor_status_id vendor_status_title\n",
       "0                 2987.0            2987.0                فعال\n",
       "1                 2987.0            2987.0                فعال\n",
       "2                 2987.0            2987.0                فعال\n",
       "3                 2987.0            2987.0                فعال\n",
       "4                 2987.0            2987.0                فعال\n",
       "...                  ...               ...                 ...\n",
       "2411353           2987.0            2987.0                فعال\n",
       "2411354           2987.0            2987.0                فعال\n",
       "2411355           2987.0            2987.0                فعال\n",
       "2411356           2987.0            2987.0                فعال\n",
       "2411357           2987.0            2987.0                فعال\n",
       "\n",
       "[2411358 rows x 3 columns]"
      ]
     },
     "execution_count": 7,
     "metadata": {},
     "output_type": "execute_result"
    }
   ],
   "source": [
    "df_status = df_products[['vendor_statusId', 'vendor_status_id','vendor_status_title']]\n",
    "df_status"
   ]
  },
  {
   "cell_type": "code",
   "execution_count": 8,
   "metadata": {},
   "outputs": [
    {
     "data": {
      "application/vnd.microsoft.datawrangler.viewer.v0+json": {
       "columns": [
        {
         "name": "index",
         "rawType": "int64",
         "type": "integer"
        },
        {
         "name": "categoryId",
         "rawType": "float64",
         "type": "float"
        },
        {
         "name": "new_categoryId",
         "rawType": "float64",
         "type": "float"
        },
        {
         "name": "categoryTitle",
         "rawType": "object",
         "type": "unknown"
        }
       ],
       "conversionMethod": "pd.DataFrame",
       "ref": "9ba859e4-3987-463f-ab82-64a192b2cd96",
       "rows": [
        [
         "0",
         "0.0",
         "191.0",
         "میوه تازه"
        ],
        [
         "1",
         "160.0",
         "154.0",
         "روغن‌های خوراکی"
        ],
        [
         "2",
         "0.0",
         "191.0",
         "میوه تازه"
        ],
        [
         "3",
         "0.0",
         "133.0",
         "ادویه"
        ],
        [
         "4",
         "0.0",
         "191.0",
         "میوه تازه"
        ],
        [
         "5",
         "1295.0",
         "148.0",
         "ترشی"
        ],
        [
         "6",
         "0.0",
         "172.0",
         "عسل"
        ],
        [
         "7",
         "0.0",
         "133.0",
         "ادویه"
        ],
        [
         "8",
         "0.0",
         "147.0",
         "مربا"
        ],
        [
         "9",
         "0.0",
         "152.0",
         "برنج"
        ],
        [
         "10",
         null,
         "157.0",
         "قند و شکر"
        ],
        [
         "11",
         "0.0",
         "191.0",
         "میوه تازه"
        ],
        [
         "12",
         null,
         "157.0",
         "قند و شکر"
        ],
        [
         "13",
         "0.0",
         "191.0",
         "میوه تازه"
        ],
        [
         "14",
         "0.0",
         "191.0",
         "میوه تازه"
        ],
        [
         "15",
         "0.0",
         "113.0",
         "آجیل"
        ],
        [
         "16",
         "0.0",
         "156.0",
         "غلات"
        ],
        [
         "17",
         "0.0",
         "165.0",
         "شکلات و آبنبات"
        ],
        [
         "18",
         "0.0",
         "142.0",
         "ارده"
        ],
        [
         "19",
         "0.0",
         "152.0",
         "برنج"
        ],
        [
         "20",
         "0.0",
         "151.0",
         "آرد"
        ],
        [
         "21",
         "0.0",
         "142.0",
         "ارده"
        ],
        [
         "22",
         "0.0",
         "161.0",
         "تنقلات"
        ],
        [
         "23",
         null,
         "116.0",
         "بادام زمینی"
        ],
        [
         "24",
         null,
         "172.0",
         "عسل"
        ],
        [
         "25",
         "0.0",
         "133.0",
         "ادویه"
        ],
        [
         "26",
         "0.0",
         "190.0",
         "صیفی تازه"
        ],
        [
         "27",
         null,
         "113.0",
         "آجیل"
        ],
        [
         "28",
         "0.0",
         "152.0",
         "برنج"
        ],
        [
         "29",
         "1641.0",
         "115.0",
         "بادام درختی"
        ],
        [
         "30",
         "0.0",
         "138.0",
         "زعفران"
        ],
        [
         "31",
         "1021.0",
         "172.0",
         "عسل"
        ],
        [
         "32",
         "0.0",
         "118.0",
         "پسته"
        ],
        [
         "33",
         "0.0",
         "161.0",
         "تنقلات"
        ],
        [
         "34",
         "1100.0",
         "194.0",
         "چای"
        ],
        [
         "35",
         "0.0",
         "165.0",
         "شکلات و آبنبات"
        ],
        [
         "36",
         null,
         "125.0",
         "میوه خشک"
        ],
        [
         "37",
         "0.0",
         "161.0",
         "تنقلات"
        ],
        [
         "38",
         "0.0",
         "120.0",
         "خرما"
        ],
        [
         "39",
         "1517.0",
         "138.0",
         "زعفران"
        ],
        [
         "40",
         "0.0",
         "138.0",
         "زعفران"
        ],
        [
         "41",
         null,
         "158.0",
         "ماکارونی، پاستا و رشته"
        ],
        [
         "42",
         "1009.0",
         "153.0",
         "حبوبات و سویا"
        ],
        [
         "43",
         "0.0",
         "194.0",
         "چای"
        ],
        [
         "44",
         "0.0",
         "133.0",
         "ادویه"
        ],
        [
         "45",
         "0.0",
         "183.0",
         "تخم سایر طیور"
        ],
        [
         "46",
         "0.0",
         "163.0",
         "دسر"
        ],
        [
         "47",
         "0.0",
         "172.0",
         "عسل"
        ],
        [
         "48",
         "0.0",
         "196.0",
         "عرقیات"
        ],
        [
         "49",
         "0.0",
         "194.0",
         "چای"
        ]
       ],
       "shape": {
        "columns": 3,
        "rows": 2411358
       }
      },
      "text/html": [
       "<div>\n",
       "<style scoped>\n",
       "    .dataframe tbody tr th:only-of-type {\n",
       "        vertical-align: middle;\n",
       "    }\n",
       "\n",
       "    .dataframe tbody tr th {\n",
       "        vertical-align: top;\n",
       "    }\n",
       "\n",
       "    .dataframe thead th {\n",
       "        text-align: right;\n",
       "    }\n",
       "</style>\n",
       "<table border=\"1\" class=\"dataframe\">\n",
       "  <thead>\n",
       "    <tr style=\"text-align: right;\">\n",
       "      <th></th>\n",
       "      <th>categoryId</th>\n",
       "      <th>new_categoryId</th>\n",
       "      <th>categoryTitle</th>\n",
       "    </tr>\n",
       "  </thead>\n",
       "  <tbody>\n",
       "    <tr>\n",
       "      <th>0</th>\n",
       "      <td>0.0</td>\n",
       "      <td>191.0</td>\n",
       "      <td>میوه تازه</td>\n",
       "    </tr>\n",
       "    <tr>\n",
       "      <th>1</th>\n",
       "      <td>160.0</td>\n",
       "      <td>154.0</td>\n",
       "      <td>روغن‌های خوراکی</td>\n",
       "    </tr>\n",
       "    <tr>\n",
       "      <th>2</th>\n",
       "      <td>0.0</td>\n",
       "      <td>191.0</td>\n",
       "      <td>میوه تازه</td>\n",
       "    </tr>\n",
       "    <tr>\n",
       "      <th>3</th>\n",
       "      <td>0.0</td>\n",
       "      <td>133.0</td>\n",
       "      <td>ادویه</td>\n",
       "    </tr>\n",
       "    <tr>\n",
       "      <th>4</th>\n",
       "      <td>0.0</td>\n",
       "      <td>191.0</td>\n",
       "      <td>میوه تازه</td>\n",
       "    </tr>\n",
       "    <tr>\n",
       "      <th>...</th>\n",
       "      <td>...</td>\n",
       "      <td>...</td>\n",
       "      <td>...</td>\n",
       "    </tr>\n",
       "    <tr>\n",
       "      <th>2411353</th>\n",
       "      <td>0.0</td>\n",
       "      <td>1015.0</td>\n",
       "      <td>سایر لوازم الکتریکی همراه</td>\n",
       "    </tr>\n",
       "    <tr>\n",
       "      <th>2411354</th>\n",
       "      <td>0.0</td>\n",
       "      <td>1015.0</td>\n",
       "      <td>سایر لوازم الکتریکی همراه</td>\n",
       "    </tr>\n",
       "    <tr>\n",
       "      <th>2411355</th>\n",
       "      <td>0.0</td>\n",
       "      <td>1015.0</td>\n",
       "      <td>سایر لوازم الکتریکی همراه</td>\n",
       "    </tr>\n",
       "    <tr>\n",
       "      <th>2411356</th>\n",
       "      <td>0.0</td>\n",
       "      <td>1015.0</td>\n",
       "      <td>سایر لوازم الکتریکی همراه</td>\n",
       "    </tr>\n",
       "    <tr>\n",
       "      <th>2411357</th>\n",
       "      <td>NaN</td>\n",
       "      <td>1015.0</td>\n",
       "      <td>سایر لوازم الکتریکی همراه</td>\n",
       "    </tr>\n",
       "  </tbody>\n",
       "</table>\n",
       "<p>2411358 rows × 3 columns</p>\n",
       "</div>"
      ],
      "text/plain": [
       "         categoryId  new_categoryId              categoryTitle\n",
       "0               0.0           191.0                  میوه تازه\n",
       "1             160.0           154.0            روغن‌های خوراکی\n",
       "2               0.0           191.0                  میوه تازه\n",
       "3               0.0           133.0                      ادویه\n",
       "4               0.0           191.0                  میوه تازه\n",
       "...             ...             ...                        ...\n",
       "2411353         0.0          1015.0  سایر لوازم الکتریکی همراه\n",
       "2411354         0.0          1015.0  سایر لوازم الکتریکی همراه\n",
       "2411355         0.0          1015.0  سایر لوازم الکتریکی همراه\n",
       "2411356         0.0          1015.0  سایر لوازم الکتریکی همراه\n",
       "2411357         NaN          1015.0  سایر لوازم الکتریکی همراه\n",
       "\n",
       "[2411358 rows x 3 columns]"
      ]
     },
     "execution_count": 8,
     "metadata": {},
     "output_type": "execute_result"
    }
   ],
   "source": [
    "df_cat = df_products[['categoryId', 'new_categoryId','categoryTitle']]\n",
    "df_cat"
   ]
  },
  {
   "cell_type": "code",
   "execution_count": 9,
   "metadata": {},
   "outputs": [
    {
     "data": {
      "application/vnd.microsoft.datawrangler.viewer.v0+json": {
       "columns": [
        {
         "name": "index",
         "rawType": "int64",
         "type": "integer"
        },
        {
         "name": "sales_count_week",
         "rawType": "int64",
         "type": "integer"
        },
        {
         "name": "IsSaleable",
         "rawType": "object",
         "type": "unknown"
        },
        {
         "name": "IsAvailable",
         "rawType": "object",
         "type": "unknown"
        }
       ],
       "conversionMethod": "pd.DataFrame",
       "ref": "29aa5452-e41c-4624-a784-f020a29f656e",
       "rows": [
        [
         "0",
         "14",
         "True",
         "True"
        ],
        [
         "1",
         "13",
         "True",
         "True"
        ],
        [
         "2",
         "12",
         "True",
         "True"
        ],
        [
         "3",
         "11",
         "True",
         "True"
        ],
        [
         "4",
         "11",
         "True",
         "True"
        ],
        [
         "5",
         "11",
         "True",
         "True"
        ],
        [
         "6",
         "10",
         "True",
         "True"
        ],
        [
         "7",
         "10",
         "True",
         "True"
        ],
        [
         "8",
         "10",
         "True",
         "True"
        ],
        [
         "9",
         "9",
         "True",
         "True"
        ],
        [
         "10",
         "9",
         "True",
         "True"
        ],
        [
         "11",
         "9",
         "True",
         "True"
        ],
        [
         "12",
         "9",
         "True",
         "True"
        ],
        [
         "13",
         "9",
         "True",
         "True"
        ],
        [
         "14",
         "9",
         "True",
         "True"
        ],
        [
         "15",
         "9",
         "True",
         "True"
        ],
        [
         "16",
         "8",
         "True",
         "True"
        ],
        [
         "17",
         "7",
         "True",
         "True"
        ],
        [
         "18",
         "6",
         "True",
         "True"
        ],
        [
         "19",
         "6",
         "True",
         "True"
        ],
        [
         "20",
         "6",
         "True",
         "True"
        ],
        [
         "21",
         "6",
         "True",
         "True"
        ],
        [
         "22",
         "6",
         "True",
         "True"
        ],
        [
         "23",
         "5",
         "True",
         "True"
        ],
        [
         "24",
         "5",
         "True",
         "True"
        ],
        [
         "25",
         "5",
         "True",
         "True"
        ],
        [
         "26",
         "5",
         "True",
         "True"
        ],
        [
         "27",
         "5",
         "True",
         "True"
        ],
        [
         "28",
         "5",
         "True",
         "True"
        ],
        [
         "29",
         "5",
         "True",
         "True"
        ],
        [
         "30",
         "5",
         "True",
         "True"
        ],
        [
         "31",
         "5",
         "True",
         "True"
        ],
        [
         "32",
         "5",
         "True",
         "True"
        ],
        [
         "33",
         "5",
         "True",
         "True"
        ],
        [
         "34",
         "5",
         "True",
         "True"
        ],
        [
         "35",
         "5",
         "True",
         "True"
        ],
        [
         "36",
         "5",
         "True",
         "True"
        ],
        [
         "37",
         "5",
         "True",
         "True"
        ],
        [
         "38",
         "5",
         "True",
         "True"
        ],
        [
         "39",
         "5",
         "True",
         "True"
        ],
        [
         "40",
         "4",
         "True",
         "True"
        ],
        [
         "41",
         "4",
         "True",
         "True"
        ],
        [
         "42",
         "4",
         "True",
         "True"
        ],
        [
         "43",
         "4",
         "True",
         "True"
        ],
        [
         "44",
         "4",
         "True",
         "True"
        ],
        [
         "45",
         "4",
         "True",
         "True"
        ],
        [
         "46",
         "4",
         "True",
         "True"
        ],
        [
         "47",
         "4",
         "True",
         "True"
        ],
        [
         "48",
         "4",
         "True",
         "True"
        ],
        [
         "49",
         "4",
         "True",
         "True"
        ]
       ],
       "shape": {
        "columns": 3,
        "rows": 2411358
       }
      },
      "text/html": [
       "<div>\n",
       "<style scoped>\n",
       "    .dataframe tbody tr th:only-of-type {\n",
       "        vertical-align: middle;\n",
       "    }\n",
       "\n",
       "    .dataframe tbody tr th {\n",
       "        vertical-align: top;\n",
       "    }\n",
       "\n",
       "    .dataframe thead th {\n",
       "        text-align: right;\n",
       "    }\n",
       "</style>\n",
       "<table border=\"1\" class=\"dataframe\">\n",
       "  <thead>\n",
       "    <tr style=\"text-align: right;\">\n",
       "      <th></th>\n",
       "      <th>sales_count_week</th>\n",
       "      <th>IsSaleable</th>\n",
       "      <th>IsAvailable</th>\n",
       "    </tr>\n",
       "  </thead>\n",
       "  <tbody>\n",
       "    <tr>\n",
       "      <th>0</th>\n",
       "      <td>14</td>\n",
       "      <td>True</td>\n",
       "      <td>True</td>\n",
       "    </tr>\n",
       "    <tr>\n",
       "      <th>1</th>\n",
       "      <td>13</td>\n",
       "      <td>True</td>\n",
       "      <td>True</td>\n",
       "    </tr>\n",
       "    <tr>\n",
       "      <th>2</th>\n",
       "      <td>12</td>\n",
       "      <td>True</td>\n",
       "      <td>True</td>\n",
       "    </tr>\n",
       "    <tr>\n",
       "      <th>3</th>\n",
       "      <td>11</td>\n",
       "      <td>True</td>\n",
       "      <td>True</td>\n",
       "    </tr>\n",
       "    <tr>\n",
       "      <th>4</th>\n",
       "      <td>11</td>\n",
       "      <td>True</td>\n",
       "      <td>True</td>\n",
       "    </tr>\n",
       "    <tr>\n",
       "      <th>...</th>\n",
       "      <td>...</td>\n",
       "      <td>...</td>\n",
       "      <td>...</td>\n",
       "    </tr>\n",
       "    <tr>\n",
       "      <th>2411353</th>\n",
       "      <td>0</td>\n",
       "      <td>True</td>\n",
       "      <td>True</td>\n",
       "    </tr>\n",
       "    <tr>\n",
       "      <th>2411354</th>\n",
       "      <td>0</td>\n",
       "      <td>True</td>\n",
       "      <td>True</td>\n",
       "    </tr>\n",
       "    <tr>\n",
       "      <th>2411355</th>\n",
       "      <td>0</td>\n",
       "      <td>True</td>\n",
       "      <td>True</td>\n",
       "    </tr>\n",
       "    <tr>\n",
       "      <th>2411356</th>\n",
       "      <td>0</td>\n",
       "      <td>True</td>\n",
       "      <td>True</td>\n",
       "    </tr>\n",
       "    <tr>\n",
       "      <th>2411357</th>\n",
       "      <td>0</td>\n",
       "      <td>True</td>\n",
       "      <td>True</td>\n",
       "    </tr>\n",
       "  </tbody>\n",
       "</table>\n",
       "<p>2411358 rows × 3 columns</p>\n",
       "</div>"
      ],
      "text/plain": [
       "         sales_count_week IsSaleable IsAvailable\n",
       "0                      14       True        True\n",
       "1                      13       True        True\n",
       "2                      12       True        True\n",
       "3                      11       True        True\n",
       "4                      11       True        True\n",
       "...                   ...        ...         ...\n",
       "2411353                 0       True        True\n",
       "2411354                 0       True        True\n",
       "2411355                 0       True        True\n",
       "2411356                 0       True        True\n",
       "2411357                 0       True        True\n",
       "\n",
       "[2411358 rows x 3 columns]"
      ]
     },
     "execution_count": 9,
     "metadata": {},
     "output_type": "execute_result"
    }
   ],
   "source": [
    "df_sale = df_products[['sales_count_week', 'IsSaleable', 'IsAvailable']]\n",
    "df_sale"
   ]
  },
  {
   "cell_type": "code",
   "execution_count": 10,
   "metadata": {},
   "outputs": [
    {
     "data": {
      "text/plain": [
       "Index(['_id', '_score', 'sales_count_week', 'name', 'price', 'status_id',\n",
       "       'status_title', 'stock', 'photo_MEDIUM', 'photo_SMALL',\n",
       "       'rating_average', 'rating_count', 'rating_signals', 'primaryPrice',\n",
       "       'preparationDays', 'weight', 'categoryId', 'has_delivery',\n",
       "       'has_variation', 'new_categoryId', 'navigation_id', 'vendor_name',\n",
       "       'vendor_identifier', 'vendor_statusId', 'vendor_freeShippingToIran',\n",
       "       'vendor_freeShippingToSameCity', 'vendor_cityId', 'vendor_provinceId',\n",
       "       'vendor_has_delivery', 'vendor_score', 'vendor_id', 'vendor_status_id',\n",
       "       'vendor_status_title', 'vendor_owner_city', 'vendor_owner_id',\n",
       "       'isFreeShipping', 'IsAvailable', 'IsSaleable', 'mainAttribute',\n",
       "       'categoryTitle', 'published', 'video_ORIGINAL', 'promotions'],\n",
       "      dtype='object')"
      ]
     },
     "execution_count": 10,
     "metadata": {},
     "output_type": "execute_result"
    }
   ],
   "source": [
    "df_products.columns"
   ]
  },
  {
   "cell_type": "code",
   "execution_count": 11,
   "metadata": {},
   "outputs": [],
   "source": [
    "df_products_light = df_products.drop(['promotions','video_ORIGINAL','published','IsSaleable','photo_SMALL', 'rating_signals','mainAttribute','categoryId', 'navigation_id','vendor_statusId', 'vendor_status_id',  'vendor_status_title'], axis=1)"
   ]
  },
  {
   "cell_type": "code",
   "execution_count": 12,
   "metadata": {},
   "outputs": [],
   "source": [
    "df_products_light = df_products_light.drop(['status_title'], axis=1)"
   ]
  },
  {
   "cell_type": "code",
   "execution_count": 13,
   "metadata": {},
   "outputs": [],
   "source": [
    "df_products_light = df_products_light.drop(['IsAvailable'], axis=1)"
   ]
  },
  {
   "cell_type": "code",
   "execution_count": 14,
   "metadata": {},
   "outputs": [
    {
     "name": "stdout",
     "output_type": "stream",
     "text": [
      "<class 'pandas.core.frame.DataFrame'>\n",
      "RangeIndex: 2411358 entries, 0 to 2411357\n",
      "Data columns (total 29 columns):\n",
      " #   Column                         Dtype  \n",
      "---  ------                         -----  \n",
      " 0   _id                            int64  \n",
      " 1   _score                         float64\n",
      " 2   sales_count_week               int64  \n",
      " 3   name                           object \n",
      " 4   price                          float64\n",
      " 5   status_id                      float64\n",
      " 6   stock                          float64\n",
      " 7   photo_MEDIUM                   object \n",
      " 8   rating_average                 float64\n",
      " 9   rating_count                   float64\n",
      " 10  primaryPrice                   float64\n",
      " 11  preparationDays                float64\n",
      " 12  weight                         float64\n",
      " 13  has_delivery                   object \n",
      " 14  has_variation                  object \n",
      " 15  new_categoryId                 float64\n",
      " 16  vendor_name                    object \n",
      " 17  vendor_identifier              object \n",
      " 18  vendor_freeShippingToIran      float64\n",
      " 19  vendor_freeShippingToSameCity  float64\n",
      " 20  vendor_cityId                  float64\n",
      " 21  vendor_provinceId              float64\n",
      " 22  vendor_has_delivery            object \n",
      " 23  vendor_score                   float64\n",
      " 24  vendor_id                      float64\n",
      " 25  vendor_owner_city              object \n",
      " 26  vendor_owner_id                float64\n",
      " 27  isFreeShipping                 object \n",
      " 28  categoryTitle                  object \n",
      "dtypes: float64(17), int64(2), object(10)\n",
      "memory usage: 533.5+ MB\n"
     ]
    }
   ],
   "source": [
    "df_products_light.info()"
   ]
  },
  {
   "cell_type": "code",
   "execution_count": 15,
   "metadata": {},
   "outputs": [],
   "source": [
    "df_products_light[\"price\"] = df_products_light[\"price\"].fillna(df_products_light[\"price\"].median())"
   ]
  },
  {
   "cell_type": "code",
   "execution_count": 16,
   "metadata": {},
   "outputs": [
    {
     "data": {
      "application/vnd.microsoft.datawrangler.viewer.v0+json": {
       "columns": [
        {
         "name": "index",
         "rawType": "int64",
         "type": "integer"
        },
        {
         "name": "_id",
         "rawType": "int64",
         "type": "integer"
        },
        {
         "name": "_score",
         "rawType": "float64",
         "type": "float"
        },
        {
         "name": "sales_count_week",
         "rawType": "int64",
         "type": "integer"
        },
        {
         "name": "name",
         "rawType": "object",
         "type": "string"
        },
        {
         "name": "price",
         "rawType": "float64",
         "type": "float"
        },
        {
         "name": "status_id",
         "rawType": "float64",
         "type": "float"
        },
        {
         "name": "stock",
         "rawType": "float64",
         "type": "float"
        },
        {
         "name": "photo_MEDIUM",
         "rawType": "object",
         "type": "string"
        },
        {
         "name": "rating_average",
         "rawType": "float64",
         "type": "float"
        },
        {
         "name": "rating_count",
         "rawType": "float64",
         "type": "float"
        },
        {
         "name": "primaryPrice",
         "rawType": "float64",
         "type": "float"
        },
        {
         "name": "preparationDays",
         "rawType": "float64",
         "type": "float"
        },
        {
         "name": "weight",
         "rawType": "float64",
         "type": "float"
        },
        {
         "name": "has_delivery",
         "rawType": "object",
         "type": "unknown"
        },
        {
         "name": "has_variation",
         "rawType": "object",
         "type": "unknown"
        },
        {
         "name": "new_categoryId",
         "rawType": "float64",
         "type": "float"
        },
        {
         "name": "vendor_name",
         "rawType": "object",
         "type": "string"
        },
        {
         "name": "vendor_identifier",
         "rawType": "object",
         "type": "string"
        },
        {
         "name": "vendor_freeShippingToIran",
         "rawType": "float64",
         "type": "float"
        },
        {
         "name": "vendor_freeShippingToSameCity",
         "rawType": "float64",
         "type": "float"
        },
        {
         "name": "vendor_cityId",
         "rawType": "float64",
         "type": "float"
        },
        {
         "name": "vendor_provinceId",
         "rawType": "float64",
         "type": "float"
        },
        {
         "name": "vendor_has_delivery",
         "rawType": "object",
         "type": "unknown"
        },
        {
         "name": "vendor_score",
         "rawType": "float64",
         "type": "float"
        },
        {
         "name": "vendor_id",
         "rawType": "float64",
         "type": "float"
        },
        {
         "name": "vendor_owner_city",
         "rawType": "object",
         "type": "string"
        },
        {
         "name": "vendor_owner_id",
         "rawType": "float64",
         "type": "float"
        },
        {
         "name": "isFreeShipping",
         "rawType": "object",
         "type": "unknown"
        },
        {
         "name": "categoryTitle",
         "rawType": "object",
         "type": "string"
        }
       ],
       "conversionMethod": "pd.DataFrame",
       "ref": "3d4d3153-8efe-457f-a22b-c98ccaf72b26",
       "rows": [
        [
         "0",
         "9873883",
         "468.75",
         "14",
         "پسته فندقی خندان امسالی یک کیلویی تضمین کیفیت و مرجوعی. ",
         "5170000.0",
         "2976.0",
         "746.0",
         "https://statics.basalam.com/public-17/users/PekJ2J/03-01/8k4i2zeJwVZPZfWOKGAZv5PfzTgrVMOsx6mwWw70H9YVOYcXiM.jpg_512X512X70.jpg",
         "4.7",
         "80.0",
         "6000000.0",
         "5.0",
         "1000.0",
         "True",
         "False",
         "191.0",
         "فروشگاه بزرگ برتر(ارسال رایگان باخرید760هزار)",
         "khoshkbarbartar",
         "7600000.0",
         "2970000.0",
         "2143.0",
         "12.0",
         "True",
         "0.0",
         "783928.0",
         "قاین",
         "13052433.0",
         "False",
         "میوه تازه"
        ],
        [
         "1",
         "21808",
         "466.66666",
         "13",
         "روغن زیتون فدک 1 لیتری مزرعه ارگانیک فدک سید احمد بلند نظر",
         "6600000.0",
         "2976.0",
         "4.0",
         "https://statics.basalam.com/public-3/users/J2/1802/iKSAAND1FxR7ihiEZf6SeWycAwazoAg1XsDUHX9B.jpg_512X512X70.jpg",
         "4.9",
         "1480.0",
         "0.0",
         "1.0",
         "900.0",
         "True",
         "False",
         "154.0",
         "مزرعه زیتون فدک سید احمد بلندنظر",
         "fadak",
         null,
         null,
         "2531.0",
         "21.0",
         "True",
         "1.0",
         "15.0",
         "قم",
         "20.0",
         "False",
         "روغن‌های خوراکی"
        ],
        [
         "2",
         "10215970",
         "464.2857",
         "12",
         "عناب درجه یک  بیرجند یک کیلویی. تضمین کیفیت و مرجوعی ",
         "1360000.0",
         "2976.0",
         "813.0",
         "https://statics.basalam.com/public-13/users/PekJ2J/10-13/aYjGy3O1ACtl8IsjKS3pUtgAL4FGALHLsxW6jeen2W0KodCnxT.jpg_512X512X70.jpg",
         "5.0",
         "41.0",
         "1650000.0",
         "5.0",
         "1000.0",
         "True",
         "False",
         "191.0",
         "فروشگاه بزرگ برتر(ارسال رایگان باخرید760هزار)",
         "khoshkbarbartar",
         "7600000.0",
         "2970000.0",
         "2143.0",
         "12.0",
         "True",
         "0.0",
         "783928.0",
         "قاین",
         "13052433.0",
         "False",
         "میوه تازه"
        ],
        [
         "3",
         "11061637",
         "461.53845",
         "11",
         "هل سبز اکبر بنفش50گرمی.  سبز ودرشت وبسیار معطر",
         "1054000.0",
         "2976.0",
         "1708.0",
         "https://statics.basalam.com/public-14/users/ME2PO/11-25/rhIqFvxyW1oxOyV421JHgQE5PLdZczxDhE9odEvTbqEt1rzTax.jpg_512X512X70.jpg",
         "5.0",
         "8.0",
         "1250000.0",
         "5.0",
         "50.0",
         "True",
         "False",
         "133.0",
         "زرشک وزعفران برتر قاینات",
         "intertopme",
         "5870000.0",
         "37000.0",
         "2143.0",
         "12.0",
         "True",
         "1.0",
         "369193.0",
         "قاین",
         "1145924.0",
         "False",
         "ادویه"
        ],
        [
         "4",
         "10843522",
         "461.53845",
         "11",
         "زرشک دانه اناری اعلا 1402(یک کیلویی).محصول تضمین کیفیت ومرجوعی داره",
         "1830000.0",
         "2976.0",
         "1509.0",
         "https://statics.basalam.com/public-16/users/LZD4l/02-04/9Uwo8R8J2ScQlEKDjFYNVlf7UYWDiRF45KGUlbbzueqy5SLJEC.jpg_512X512X70.jpg",
         "4.9",
         "34.0",
         "2100000.0",
         "5.0",
         "1000.0",
         "True",
         "False",
         "191.0",
         "خشکبار تواضع(ارسال رایگان باخرید847هزار)",
         "narmilatak",
         "8470000.0",
         "5470000.0",
         "2143.0",
         "12.0",
         "True",
         "1.0",
         "814012.0",
         "قاین",
         "1246369.0",
         "False",
         "میوه تازه"
        ]
       ],
       "shape": {
        "columns": 29,
        "rows": 5
       }
      },
      "text/html": [
       "<div>\n",
       "<style scoped>\n",
       "    .dataframe tbody tr th:only-of-type {\n",
       "        vertical-align: middle;\n",
       "    }\n",
       "\n",
       "    .dataframe tbody tr th {\n",
       "        vertical-align: top;\n",
       "    }\n",
       "\n",
       "    .dataframe thead th {\n",
       "        text-align: right;\n",
       "    }\n",
       "</style>\n",
       "<table border=\"1\" class=\"dataframe\">\n",
       "  <thead>\n",
       "    <tr style=\"text-align: right;\">\n",
       "      <th></th>\n",
       "      <th>_id</th>\n",
       "      <th>_score</th>\n",
       "      <th>sales_count_week</th>\n",
       "      <th>name</th>\n",
       "      <th>price</th>\n",
       "      <th>status_id</th>\n",
       "      <th>stock</th>\n",
       "      <th>photo_MEDIUM</th>\n",
       "      <th>rating_average</th>\n",
       "      <th>rating_count</th>\n",
       "      <th>...</th>\n",
       "      <th>vendor_freeShippingToSameCity</th>\n",
       "      <th>vendor_cityId</th>\n",
       "      <th>vendor_provinceId</th>\n",
       "      <th>vendor_has_delivery</th>\n",
       "      <th>vendor_score</th>\n",
       "      <th>vendor_id</th>\n",
       "      <th>vendor_owner_city</th>\n",
       "      <th>vendor_owner_id</th>\n",
       "      <th>isFreeShipping</th>\n",
       "      <th>categoryTitle</th>\n",
       "    </tr>\n",
       "  </thead>\n",
       "  <tbody>\n",
       "    <tr>\n",
       "      <th>0</th>\n",
       "      <td>9873883</td>\n",
       "      <td>468.75000</td>\n",
       "      <td>14</td>\n",
       "      <td>پسته فندقی خندان امسالی یک کیلویی تضمین کیفیت ...</td>\n",
       "      <td>5170000.0</td>\n",
       "      <td>2976.0</td>\n",
       "      <td>746.0</td>\n",
       "      <td>https://statics.basalam.com/public-17/users/Pe...</td>\n",
       "      <td>4.7</td>\n",
       "      <td>80.0</td>\n",
       "      <td>...</td>\n",
       "      <td>2970000.0</td>\n",
       "      <td>2143.0</td>\n",
       "      <td>12.0</td>\n",
       "      <td>True</td>\n",
       "      <td>0.0</td>\n",
       "      <td>783928.0</td>\n",
       "      <td>قاین</td>\n",
       "      <td>13052433.0</td>\n",
       "      <td>False</td>\n",
       "      <td>میوه تازه</td>\n",
       "    </tr>\n",
       "    <tr>\n",
       "      <th>1</th>\n",
       "      <td>21808</td>\n",
       "      <td>466.66666</td>\n",
       "      <td>13</td>\n",
       "      <td>روغن زیتون فدک 1 لیتری مزرعه ارگانیک فدک سید ا...</td>\n",
       "      <td>6600000.0</td>\n",
       "      <td>2976.0</td>\n",
       "      <td>4.0</td>\n",
       "      <td>https://statics.basalam.com/public-3/users/J2/...</td>\n",
       "      <td>4.9</td>\n",
       "      <td>1480.0</td>\n",
       "      <td>...</td>\n",
       "      <td>NaN</td>\n",
       "      <td>2531.0</td>\n",
       "      <td>21.0</td>\n",
       "      <td>True</td>\n",
       "      <td>1.0</td>\n",
       "      <td>15.0</td>\n",
       "      <td>قم</td>\n",
       "      <td>20.0</td>\n",
       "      <td>False</td>\n",
       "      <td>روغن‌های خوراکی</td>\n",
       "    </tr>\n",
       "    <tr>\n",
       "      <th>2</th>\n",
       "      <td>10215970</td>\n",
       "      <td>464.28570</td>\n",
       "      <td>12</td>\n",
       "      <td>عناب درجه یک  بیرجند یک کیلویی. تضمین کیفیت و ...</td>\n",
       "      <td>1360000.0</td>\n",
       "      <td>2976.0</td>\n",
       "      <td>813.0</td>\n",
       "      <td>https://statics.basalam.com/public-13/users/Pe...</td>\n",
       "      <td>5.0</td>\n",
       "      <td>41.0</td>\n",
       "      <td>...</td>\n",
       "      <td>2970000.0</td>\n",
       "      <td>2143.0</td>\n",
       "      <td>12.0</td>\n",
       "      <td>True</td>\n",
       "      <td>0.0</td>\n",
       "      <td>783928.0</td>\n",
       "      <td>قاین</td>\n",
       "      <td>13052433.0</td>\n",
       "      <td>False</td>\n",
       "      <td>میوه تازه</td>\n",
       "    </tr>\n",
       "    <tr>\n",
       "      <th>3</th>\n",
       "      <td>11061637</td>\n",
       "      <td>461.53845</td>\n",
       "      <td>11</td>\n",
       "      <td>هل سبز اکبر بنفش50گرمی.  سبز ودرشت وبسیار معطر</td>\n",
       "      <td>1054000.0</td>\n",
       "      <td>2976.0</td>\n",
       "      <td>1708.0</td>\n",
       "      <td>https://statics.basalam.com/public-14/users/ME...</td>\n",
       "      <td>5.0</td>\n",
       "      <td>8.0</td>\n",
       "      <td>...</td>\n",
       "      <td>37000.0</td>\n",
       "      <td>2143.0</td>\n",
       "      <td>12.0</td>\n",
       "      <td>True</td>\n",
       "      <td>1.0</td>\n",
       "      <td>369193.0</td>\n",
       "      <td>قاین</td>\n",
       "      <td>1145924.0</td>\n",
       "      <td>False</td>\n",
       "      <td>ادویه</td>\n",
       "    </tr>\n",
       "    <tr>\n",
       "      <th>4</th>\n",
       "      <td>10843522</td>\n",
       "      <td>461.53845</td>\n",
       "      <td>11</td>\n",
       "      <td>زرشک دانه اناری اعلا 1402(یک کیلویی).محصول تضم...</td>\n",
       "      <td>1830000.0</td>\n",
       "      <td>2976.0</td>\n",
       "      <td>1509.0</td>\n",
       "      <td>https://statics.basalam.com/public-16/users/LZ...</td>\n",
       "      <td>4.9</td>\n",
       "      <td>34.0</td>\n",
       "      <td>...</td>\n",
       "      <td>5470000.0</td>\n",
       "      <td>2143.0</td>\n",
       "      <td>12.0</td>\n",
       "      <td>True</td>\n",
       "      <td>1.0</td>\n",
       "      <td>814012.0</td>\n",
       "      <td>قاین</td>\n",
       "      <td>1246369.0</td>\n",
       "      <td>False</td>\n",
       "      <td>میوه تازه</td>\n",
       "    </tr>\n",
       "  </tbody>\n",
       "</table>\n",
       "<p>5 rows × 29 columns</p>\n",
       "</div>"
      ],
      "text/plain": [
       "        _id     _score  sales_count_week  \\\n",
       "0   9873883  468.75000                14   \n",
       "1     21808  466.66666                13   \n",
       "2  10215970  464.28570                12   \n",
       "3  11061637  461.53845                11   \n",
       "4  10843522  461.53845                11   \n",
       "\n",
       "                                                name      price  status_id  \\\n",
       "0  پسته فندقی خندان امسالی یک کیلویی تضمین کیفیت ...  5170000.0     2976.0   \n",
       "1  روغن زیتون فدک 1 لیتری مزرعه ارگانیک فدک سید ا...  6600000.0     2976.0   \n",
       "2  عناب درجه یک  بیرجند یک کیلویی. تضمین کیفیت و ...  1360000.0     2976.0   \n",
       "3     هل سبز اکبر بنفش50گرمی.  سبز ودرشت وبسیار معطر  1054000.0     2976.0   \n",
       "4  زرشک دانه اناری اعلا 1402(یک کیلویی).محصول تضم...  1830000.0     2976.0   \n",
       "\n",
       "    stock                                       photo_MEDIUM  rating_average  \\\n",
       "0   746.0  https://statics.basalam.com/public-17/users/Pe...             4.7   \n",
       "1     4.0  https://statics.basalam.com/public-3/users/J2/...             4.9   \n",
       "2   813.0  https://statics.basalam.com/public-13/users/Pe...             5.0   \n",
       "3  1708.0  https://statics.basalam.com/public-14/users/ME...             5.0   \n",
       "4  1509.0  https://statics.basalam.com/public-16/users/LZ...             4.9   \n",
       "\n",
       "   rating_count  ...  vendor_freeShippingToSameCity  vendor_cityId  \\\n",
       "0          80.0  ...                      2970000.0         2143.0   \n",
       "1        1480.0  ...                            NaN         2531.0   \n",
       "2          41.0  ...                      2970000.0         2143.0   \n",
       "3           8.0  ...                        37000.0         2143.0   \n",
       "4          34.0  ...                      5470000.0         2143.0   \n",
       "\n",
       "   vendor_provinceId vendor_has_delivery vendor_score  vendor_id  \\\n",
       "0               12.0                True          0.0   783928.0   \n",
       "1               21.0                True          1.0       15.0   \n",
       "2               12.0                True          0.0   783928.0   \n",
       "3               12.0                True          1.0   369193.0   \n",
       "4               12.0                True          1.0   814012.0   \n",
       "\n",
       "  vendor_owner_city vendor_owner_id  isFreeShipping    categoryTitle  \n",
       "0              قاین      13052433.0           False        میوه تازه  \n",
       "1                قم            20.0           False  روغن‌های خوراکی  \n",
       "2              قاین      13052433.0           False        میوه تازه  \n",
       "3              قاین       1145924.0           False            ادویه  \n",
       "4              قاین       1246369.0           False        میوه تازه  \n",
       "\n",
       "[5 rows x 29 columns]"
      ]
     },
     "execution_count": 16,
     "metadata": {},
     "output_type": "execute_result"
    }
   ],
   "source": [
    "df_products_light.head()"
   ]
  },
  {
   "cell_type": "markdown",
   "metadata": {},
   "source": [
    "## Review Dataset"
   ]
  },
  {
   "cell_type": "code",
   "execution_count": 17,
   "metadata": {},
   "outputs": [
    {
     "name": "stderr",
     "output_type": "stream",
     "text": [
      "/var/folders/rp/jsdh10cj68lf8yq9pr76clp80000gn/T/ipykernel_1930/2059296138.py:1: DtypeWarning: Columns (30) have mixed types. Specify dtype option on import or set low_memory=False.\n",
      "  df_reviews = pd.read_csv('BaSalam.reviews.csv')\n"
     ]
    }
   ],
   "source": [
    "df_reviews = pd.read_csv('BaSalam.reviews.csv')"
   ]
  },
  {
   "cell_type": "code",
   "execution_count": 18,
   "metadata": {},
   "outputs": [
    {
     "data": {
      "application/vnd.microsoft.datawrangler.viewer.v0+json": {
       "columns": [
        {
         "name": "index",
         "rawType": "int64",
         "type": "integer"
        },
        {
         "name": "_id",
         "rawType": "object",
         "type": "string"
        },
        {
         "name": "productId",
         "rawType": "int64",
         "type": "integer"
        },
        {
         "name": "star",
         "rawType": "int64",
         "type": "integer"
        },
        {
         "name": "user_id",
         "rawType": "int64",
         "type": "integer"
        },
        {
         "name": "isPost",
         "rawType": "bool",
         "type": "boolean"
        },
        {
         "name": "isPublic",
         "rawType": "bool",
         "type": "boolean"
        },
        {
         "name": "id",
         "rawType": "int64",
         "type": "integer"
        },
        {
         "name": "createdAt",
         "rawType": "object",
         "type": "string"
        },
        {
         "name": "updatedAt",
         "rawType": "object",
         "type": "string"
        },
        {
         "name": "hashId",
         "rawType": "object",
         "type": "string"
        },
        {
         "name": "isPosted",
         "rawType": "object",
         "type": "unknown"
        },
        {
         "name": "isLikedByCurrentUser",
         "rawType": "bool",
         "type": "boolean"
        },
        {
         "name": "isDislikedByCurrentUser",
         "rawType": "bool",
         "type": "boolean"
        },
        {
         "name": "likeCount",
         "rawType": "int64",
         "type": "integer"
        },
        {
         "name": "dislikeCount",
         "rawType": "int64",
         "type": "integer"
        },
        {
         "name": "attachments",
         "rawType": "object",
         "type": "string"
        },
        {
         "name": "history_count",
         "rawType": "int64",
         "type": "integer"
        },
        {
         "name": "user_id_of_user",
         "rawType": "int64",
         "type": "integer"
        },
        {
         "name": "name_of_user",
         "rawType": "object",
         "type": "unknown"
        },
        {
         "name": "hash_id_of_user",
         "rawType": "object",
         "type": "string"
        },
        {
         "name": "photo_of_user",
         "rawType": "object",
         "type": "unknown"
        },
        {
         "name": "description",
         "rawType": "object",
         "type": "unknown"
        },
        {
         "name": "reason_ids[0]",
         "rawType": "float64",
         "type": "float"
        },
        {
         "name": "reason_ids[1]",
         "rawType": "float64",
         "type": "float"
        },
        {
         "name": "reason_ids[2]",
         "rawType": "float64",
         "type": "float"
        },
        {
         "name": "reason_ids[3]",
         "rawType": "float64",
         "type": "float"
        },
        {
         "name": "reason_ids[4]",
         "rawType": "float64",
         "type": "float"
        },
        {
         "name": "reason_ids[5]",
         "rawType": "float64",
         "type": "float"
        },
        {
         "name": "reason_ids[6]",
         "rawType": "float64",
         "type": "float"
        },
        {
         "name": "reason_ids[7]",
         "rawType": "float64",
         "type": "float"
        },
        {
         "name": "variation_metadata",
         "rawType": "object",
         "type": "unknown"
        }
       ],
       "conversionMethod": "pd.DataFrame",
       "ref": "82eeec16-5e84-475c-8efc-50c903a42560",
       "rows": [
        [
         "0",
         "661ba7096a6e1c5d7e653541",
         "824662",
         "5",
         "15127771",
         "False",
         "True",
         "11220580",
         "2024-04-03T23:45:57",
         "2024-04-03T23:45:57",
         "rBNa53",
         "False",
         "False",
         "False",
         "0",
         "0",
         "{'photos': [], 'video': None}",
         "1",
         "15127771",
         "nima yoshij",
         "zMlyjw",
         null,
         null,
         null,
         null,
         null,
         null,
         null,
         null,
         null,
         null,
         null
        ],
        [
         "1",
         "661ba7096a6e1c5d7e653542",
         "824662",
         "5",
         "2695119",
         "False",
         "True",
         "11219739",
         "2024-04-03T22:49:50",
         "2024-04-03T22:49:50",
         "joZjyb",
         "False",
         "False",
         "False",
         "0",
         "0",
         "{'photos': [], 'video': None}",
         "3",
         "2695119",
         "مهدی حمزه نژادی،تجربه خرید مطمئن 🙏🌹",
         "EK52K",
         "{'LARGE': 'https://statics.basalam.com/public/users/EK52K/04-26/7weA44ElHFKTyp6r12uyojuIhFgj6b6aMrT48HAJrJJppGnWQ7.jpg_300X300X70.jpg', 'MEDIUM': 'https://statics.basalam.com/public/users/EK52K/04-26/7weA44ElHFKTyp6r12uyojuIhFgj6b6aMrT48HAJrJJppGnWQ7.jpg_200X200X70.jpg', 'SMALL': 'https://statics.basalam.com/public/users/EK52K/04-26/7weA44ElHFKTyp6r12uyojuIhFgj6b6aMrT48HAJrJJppGnWQ7.jpg_100X100X90.jpg', 'EXTRA_SMALL': 'https://statics.basalam.com/public/users/EK52K/04-26/7weA44ElHFKTyp6r12uyojuIhFgj6b6aMrT48HAJrJJppGnWQ7.jpg_50X50X70.jpg'}",
         null,
         null,
         null,
         null,
         null,
         null,
         null,
         null,
         null,
         null
        ],
        [
         "2",
         "661ba7096a6e1c5d7e653543",
         "824662",
         "5",
         "11408497",
         "False",
         "True",
         "11219258",
         "2024-04-03T22:19:06",
         "2024-04-03T22:19:06",
         "GxNEX2",
         "False",
         "False",
         "False",
         "0",
         "0",
         "{'photos': [], 'video': None}",
         "1",
         "11408497",
         "محمد اوجی",
         "1wd43d",
         null,
         null,
         null,
         null,
         null,
         null,
         null,
         null,
         null,
         null,
         null
        ],
        [
         "3",
         "661ba7096a6e1c5d7e653544",
         "824662",
         "5",
         "482919",
         "False",
         "True",
         "11216410",
         "2024-04-03T19:49:25",
         "2024-04-03T19:49:25",
         "dN8rzl",
         "False",
         "False",
         "False",
         "0",
         "0",
         "{'photos': [], 'video': None}",
         "1",
         "482919",
         "براتی",
         "EGznn",
         null,
         "عالییییه،دو بار سفارش زدم تا حالا",
         null,
         null,
         null,
         null,
         null,
         null,
         null,
         null,
         null
        ],
        [
         "4",
         "661ba7096a6e1c5d7e653545",
         "824662",
         "5",
         "4427128",
         "False",
         "True",
         "11211517",
         "2024-04-03T15:50:37",
         "2024-04-03T15:50:37",
         "KW3nQa",
         "False",
         "False",
         "False",
         "0",
         "0",
         "{'photos': [], 'video': None}",
         "1",
         "4427128",
         "آرسام",
         "8MqwA4",
         "{'LARGE': 'https://statics.basalam.com/public/users/8MqwA4/02-09/dv7mwx03EzNX1z2tGZVz1bmx2smjxLDr3FMvRa0I6Zorz1ORUL.png_300X300X70.png', 'MEDIUM': 'https://statics.basalam.com/public/users/8MqwA4/02-09/dv7mwx03EzNX1z2tGZVz1bmx2smjxLDr3FMvRa0I6Zorz1ORUL.png_200X200X70.png', 'SMALL': 'https://statics.basalam.com/public/users/8MqwA4/02-09/dv7mwx03EzNX1z2tGZVz1bmx2smjxLDr3FMvRa0I6Zorz1ORUL.png_100X100X90.png', 'EXTRA_SMALL': 'https://statics.basalam.com/public/users/8MqwA4/02-09/dv7mwx03EzNX1z2tGZVz1bmx2smjxLDr3FMvRa0I6Zorz1ORUL.png_50X50X70.png'}",
         "سپاس،تازه و خوشمزه و با کیفیت هست",
         null,
         null,
         null,
         null,
         null,
         null,
         null,
         null,
         null
        ],
        [
         "5",
         "661ba7096a6e1c5d7e653546",
         "824662",
         "5",
         "13523903",
         "False",
         "True",
         "11210430",
         "2024-04-03T15:05:15",
         "2024-04-03T15:05:15",
         "b6MLgg",
         "False",
         "False",
         "False",
         "0",
         "0",
         "{'photos': [], 'video': None}",
         "2",
         "13523903",
         "اسما غفارزاده",
         "nA0Ga7",
         null,
         "خرید برای چندمین بار و مثل همیشه عالی و با کیفیت",
         null,
         null,
         null,
         null,
         null,
         null,
         null,
         null,
         null
        ],
        [
         "6",
         "661ba7096a6e1c5d7e653547",
         "824662",
         "5",
         "197112",
         "False",
         "True",
         "11202003",
         "2024-04-03T05:07:02",
         "2024-04-03T05:07:02",
         "nDJB8J",
         "False",
         "False",
         "False",
         "0",
         "0",
         "{'photos': [], 'video': None}",
         "3",
         "197112",
         "s.m",
         "kOgYV",
         "{'LARGE': 'https://statics.basalam.com/public-16/users/kOgYV/02-03/0ke86SRPvqTqDqdxGzm0aslR113qomGj7QcdCvpaqjpmgpp2oN.jpg_300X300X70.jpg', 'MEDIUM': 'https://statics.basalam.com/public-16/users/kOgYV/02-03/0ke86SRPvqTqDqdxGzm0aslR113qomGj7QcdCvpaqjpmgpp2oN.jpg_200X200X70.jpg', 'SMALL': 'https://statics.basalam.com/public-16/users/kOgYV/02-03/0ke86SRPvqTqDqdxGzm0aslR113qomGj7QcdCvpaqjpmgpp2oN.jpg_100X100X90.jpg', 'EXTRA_SMALL': 'https://statics.basalam.com/public-16/users/kOgYV/02-03/0ke86SRPvqTqDqdxGzm0aslR113qomGj7QcdCvpaqjpmgpp2oN.jpg_50X50X70.jpg'}",
         "سلام ممنون از غرفه دارمحترم، خریدسومم بود و راضیم ازمحصول خوبشون",
         null,
         null,
         null,
         null,
         null,
         null,
         null,
         null,
         null
        ],
        [
         "7",
         "661ba7096a6e1c5d7e653548",
         "824662",
         "5",
         "15078073",
         "False",
         "True",
         "11193774",
         "2024-04-02T17:56:35",
         "2024-04-02T17:56:35",
         "b6MmZw",
         "False",
         "False",
         "False",
         "0",
         "0",
         "{'photos': [], 'video': None}",
         "2",
         "15078073",
         "مسعود سلیمی",
         "wVYlW1",
         null,
         "بار دوم سفارش دادم.کیفیت خوب",
         null,
         null,
         null,
         null,
         null,
         null,
         null,
         null,
         null
        ],
        [
         "8",
         "661ba7096a6e1c5d7e653549",
         "824662",
         "5",
         "186709",
         "False",
         "True",
         "11187942",
         "2024-04-02T13:52:27",
         "2024-04-02T13:52:27",
         "oKV4Z6",
         "False",
         "False",
         "False",
         "0",
         "0",
         "{'photos': [], 'video': None}",
         "1",
         "186709",
         "ریحانه",
         "1qLrP",
         null,
         "طعم بسیارخوبی داشت",
         null,
         null,
         null,
         null,
         null,
         null,
         null,
         null,
         null
        ],
        [
         "9",
         "661ba7096a6e1c5d7e65354a",
         "824662",
         "5",
         "2158509",
         "False",
         "True",
         "11184380",
         "2024-04-02T11:28:57",
         "2024-04-02T11:28:57",
         "rBNXBy",
         "False",
         "False",
         "False",
         "0",
         "0",
         "{'photos': [], 'video': None}",
         "1",
         "2158509",
         "اَرزان سرایِ بانو (ارسال فوری).",
         "1l57d",
         "{'LARGE': 'https://statics.basalam.com/public-16/users/1l57d/01-24/uZdYxJL58Wuvj4ReyXVdG7osSsuHXxJY59lOK6rM7ZaIl6Ytwf.jpg_300X300X70.jpg', 'MEDIUM': 'https://statics.basalam.com/public-16/users/1l57d/01-24/uZdYxJL58Wuvj4ReyXVdG7osSsuHXxJY59lOK6rM7ZaIl6Ytwf.jpg_200X200X70.jpg', 'SMALL': 'https://statics.basalam.com/public-16/users/1l57d/01-24/uZdYxJL58Wuvj4ReyXVdG7osSsuHXxJY59lOK6rM7ZaIl6Ytwf.jpg_100X100X90.jpg', 'EXTRA_SMALL': 'https://statics.basalam.com/public-16/users/1l57d/01-24/uZdYxJL58Wuvj4ReyXVdG7osSsuHXxJY59lOK6rM7ZaIl6Ytwf.jpg_50X50X70.jpg'}",
         null,
         null,
         null,
         null,
         null,
         null,
         null,
         null,
         null,
         null
        ],
        [
         "10",
         "661ba7096a6e1c5d7e65354b",
         "824662",
         "5",
         "1130991",
         "False",
         "True",
         "11178804",
         "2024-04-01T19:15:18",
         "2024-04-01T19:15:18",
         "DwVX2G",
         "False",
         "False",
         "False",
         "0",
         "0",
         "{'photos': [], 'video': None}",
         "4",
         "1130991",
         "میلاد",
         "nX53W",
         null,
         null,
         null,
         null,
         null,
         null,
         null,
         null,
         null,
         null,
         null
        ],
        [
         "11",
         "661ba7096a6e1c5d7e65354c",
         "824662",
         "4",
         "2479606",
         "False",
         "True",
         "11173869",
         "2024-04-01T01:43:34",
         "2024-04-01T01:43:34",
         "LGOjDl",
         "False",
         "False",
         "False",
         "0",
         "0",
         "{'photos': [], 'video': None}",
         "1",
         "2479606",
         "امیرحسین فرجی نیا",
         "4dqQJ",
         null,
         "خوب بود ممنون از عطاری فرقانی.❤",
         null,
         null,
         null,
         null,
         null,
         null,
         null,
         null,
         null
        ],
        [
         "12",
         "661ba7096a6e1c5d7e65354d",
         "824662",
         "4",
         "13766563",
         "False",
         "True",
         "11162624",
         "2024-03-31T04:50:54",
         "2024-03-31T04:50:54",
         "MkLKNe",
         "False",
         "False",
         "False",
         "0",
         "0",
         "{'photos': [], 'video': None}",
         "2",
         "13766563",
         "رسول صالحی",
         "EjzbJn",
         null,
         "باسلام زودتر به دستم رسید.انتظار هست یه مقدار کره حالت کرمی داشته باشه.ممنون از غرفه دار و همچنین عوامل زحمتکش باسلام.",
         null,
         null,
         null,
         null,
         null,
         null,
         null,
         null,
         null
        ],
        [
         "13",
         "661ba7096a6e1c5d7e65354e",
         "824662",
         "5",
         "12350640",
         "False",
         "True",
         "11159840",
         "2024-03-30T22:37:28",
         "2024-03-30T22:37:28",
         "Zn6xbD",
         "False",
         "False",
         "False",
         "0",
         "0",
         "{'photos': [], 'video': None}",
         "2",
         "12350640",
         "حسین نعمتی",
         "Zkm6rb",
         null,
         null,
         null,
         null,
         null,
         null,
         null,
         null,
         null,
         null,
         null
        ],
        [
         "14",
         "661ba7096a6e1c5d7e65354f",
         "824662",
         "5",
         "7935999",
         "False",
         "True",
         "11157649",
         "2024-03-30T19:56:42",
         "2024-03-30T19:56:42",
         "JkJEo5",
         "False",
         "False",
         "False",
         "0",
         "0",
         "{'photos': [], 'video': None}",
         "1",
         "7935999",
         "alireza",
         "20M11J",
         null,
         "با کیفیت و خوش طعم ممنون از آقای فرقانی",
         null,
         null,
         null,
         null,
         null,
         null,
         null,
         null,
         null
        ],
        [
         "15",
         "661ba7096a6e1c5d7e653550",
         "824662",
         "5",
         "2589693",
         "False",
         "True",
         "11156713",
         "2024-03-30T18:57:50",
         "2024-03-30T18:57:50",
         "Ne11qV",
         "False",
         "False",
         "False",
         "0",
         "0",
         "{'photos': [], 'video': None}",
         "1",
         "2589693",
         "غدیر مرمزی",
         "JzrOn",
         null,
         "بوی خوب طعم خوب در کل خوبه",
         null,
         null,
         null,
         null,
         null,
         null,
         null,
         null,
         null
        ],
        [
         "16",
         "661ba7096a6e1c5d7e653551",
         "824662",
         "5",
         "3343566",
         "False",
         "True",
         "11156081",
         "2024-03-30T18:17:56",
         "2024-03-30T18:17:56",
         "XaEEX8",
         "False",
         "False",
         "False",
         "0",
         "0",
         "{'photos': [], 'video': None}",
         "1",
         "3343566",
         "Freshteh",
         "moq6l",
         null,
         "خیلی خوشمزه و تازه است ممنونم از غرفه دار بابت ارسال به موقع",
         null,
         null,
         null,
         null,
         null,
         null,
         null,
         null,
         null
        ],
        [
         "17",
         "661ba7096a6e1c5d7e653552",
         "824662",
         "5",
         "15042449",
         "False",
         "True",
         "11152100",
         "2024-03-30T14:52:36",
         "2024-03-30T14:52:36",
         "a18GbP",
         "False",
         "False",
         "False",
         "0",
         "0",
         "{'photos': [], 'video': None}",
         "2",
         "15042449",
         "💥موبایل افشار 💥",
         "JqZwYY",
         "{'LARGE': 'https://statics.basalam.com/public-16/users/JqZwYY/01-16/Hz6lR5OJpZUkCPRHz2zczscXSkPBMDtFd5fgmVVruPxer9nPqw.jpg_300X300X70.jpg', 'MEDIUM': 'https://statics.basalam.com/public-16/users/JqZwYY/01-16/Hz6lR5OJpZUkCPRHz2zczscXSkPBMDtFd5fgmVVruPxer9nPqw.jpg_200X200X70.jpg', 'SMALL': 'https://statics.basalam.com/public-16/users/JqZwYY/01-16/Hz6lR5OJpZUkCPRHz2zczscXSkPBMDtFd5fgmVVruPxer9nPqw.jpg_100X100X90.jpg', 'EXTRA_SMALL': 'https://statics.basalam.com/public-16/users/JqZwYY/01-16/Hz6lR5OJpZUkCPRHz2zczscXSkPBMDtFd5fgmVVruPxer9nPqw.jpg_50X50X70.jpg'}",
         "این بار دوم که از این غرفه کره بادام زمینی میخرم و طعمش عالیه ،با تشکر از غرفه دار",
         null,
         null,
         null,
         null,
         null,
         null,
         null,
         null,
         null
        ],
        [
         "18",
         "661ba7096a6e1c5d7e653553",
         "824662",
         "2",
         "8532745",
         "False",
         "True",
         "11150431",
         "2024-03-30T13:45:37",
         "2024-03-30T13:45:37",
         "073DQD",
         "False",
         "False",
         "False",
         "1",
         "0",
         "{'photos': [], 'video': None}",
         "1",
         "8532745",
         "ساناز بهرامی",
         "yDEeP5",
         "{'LARGE': 'https://statics.basalam.com/public-14/users/yDEeP5/11-17/eNtVcjKuggqxEvSPJpjLMtnlOyhLJaBSLYp9qlylXioqPgmXTO.jpg_300X300X70.jpg', 'MEDIUM': 'https://statics.basalam.com/public-14/users/yDEeP5/11-17/eNtVcjKuggqxEvSPJpjLMtnlOyhLJaBSLYp9qlylXioqPgmXTO.jpg_200X200X70.jpg', 'SMALL': 'https://statics.basalam.com/public-14/users/yDEeP5/11-17/eNtVcjKuggqxEvSPJpjLMtnlOyhLJaBSLYp9qlylXioqPgmXTO.jpg_100X100X90.jpg', 'EXTRA_SMALL': 'https://statics.basalam.com/public-14/users/yDEeP5/11-17/eNtVcjKuggqxEvSPJpjLMtnlOyhLJaBSLYp9qlylXioqPgmXTO.jpg_50X50X70.jpg'}",
         "دوست نداشتم خیلی با کره جیف فرق داره اگر قیمت براتون مهمه اقتصادی هست",
         null,
         null,
         null,
         null,
         null,
         null,
         null,
         null,
         null
        ],
        [
         "19",
         "661ba7096a6e1c5d7e653554",
         "824662",
         "5",
         "13888034",
         "False",
         "True",
         "11149841",
         "2024-03-30T13:19:45",
         "2024-03-30T13:19:45",
         "xn1Zgd",
         "False",
         "False",
         "False",
         "0",
         "0",
         "{'photos': [], 'video': None}",
         "1",
         "13888034",
         "فاطمه حصاری",
         "7onglw",
         null,
         "سلام ارده به دستم رسید بسیار عالی 👌",
         null,
         null,
         null,
         null,
         null,
         null,
         null,
         null,
         null
        ],
        [
         "20",
         "661ba7096a6e1c5d7e653555",
         "824662",
         "4",
         "2052865",
         "False",
         "True",
         "11147664",
         "2024-03-30T11:50:36",
         "2024-03-30T11:50:36",
         "eLBdKN",
         "False",
         "False",
         "False",
         "0",
         "0",
         "{'photos': [], 'video': None}",
         "1",
         "2052865",
         "نوید وفاداری",
         "3ykz7",
         null,
         null,
         null,
         null,
         null,
         null,
         null,
         null,
         null,
         null,
         null
        ],
        [
         "21",
         "661ba7096a6e1c5d7e653556",
         "824662",
         "5",
         "7891880",
         "False",
         "True",
         "11145787",
         "2024-03-30T08:09:29",
         "2024-03-30T08:09:29",
         "gBg5w3",
         "False",
         "False",
         "False",
         "0",
         "0",
         "{'photos': [], 'video': None}",
         "2",
         "7891880",
         "محمد رضا کوچکی",
         "rBjbJ0",
         null,
         "دمت گرم حلالت باشه محصولت درجه یکه",
         null,
         null,
         null,
         null,
         null,
         null,
         null,
         null,
         null
        ],
        [
         "22",
         "661ba7096a6e1c5d7e653557",
         "824662",
         "5",
         "5771163",
         "False",
         "True",
         "11142691",
         "2024-03-29T20:51:07",
         "2024-03-29T20:51:07",
         "nDxwBJ",
         "False",
         "False",
         "False",
         "0",
         "0",
         "{'photos': [], 'video': None}",
         "2",
         "5771163",
         "زهرا پزشکی",
         "E0eqaO",
         null,
         "سام کره بادام زمینی هم سومین خریدم از غرفه فرقانی بود مزه ای خالص ویکدست",
         null,
         null,
         null,
         null,
         null,
         null,
         null,
         null,
         null
        ],
        [
         "23",
         "661ba7096a6e1c5d7e653558",
         "824662",
         "5",
         "7327023",
         "False",
         "True",
         "11141955",
         "2024-03-29T19:27:58",
         "2024-03-29T19:27:58",
         "20ODP7",
         "False",
         "False",
         "False",
         "0",
         "0",
         "{'photos': [], 'video': None}",
         "1",
         "7327023",
         "امیرحسین",
         "OodeVB",
         null,
         null,
         null,
         null,
         null,
         null,
         null,
         null,
         null,
         null,
         null
        ],
        [
         "24",
         "661ba7096a6e1c5d7e653559",
         "824662",
         "5",
         "15409021",
         "False",
         "True",
         "11141091",
         "2024-03-29T17:38:13",
         "2024-03-29T17:38:13",
         "nDx4n2",
         "False",
         "False",
         "False",
         "0",
         "0",
         "{'photos': [], 'video': None}",
         "3",
         "15409021",
         "محمد عماد حبیبی",
         "3kkVX7",
         null,
         "عالی مثل همیشه",
         null,
         null,
         null,
         null,
         null,
         null,
         null,
         null,
         null
        ],
        [
         "25",
         "661ba7096a6e1c5d7e65355a",
         "824662",
         "5",
         "12352912",
         "False",
         "True",
         "11139915",
         "2024-03-29T15:29:43",
         "2024-03-29T15:29:43",
         "qyA1VZ",
         "False",
         "False",
         "False",
         "0",
         "0",
         "{'photos': [], 'video': None}",
         "1",
         "12352912",
         "رسول شمسی پور",
         "kxgwbw",
         null,
         null,
         null,
         null,
         null,
         null,
         null,
         null,
         null,
         null,
         null
        ],
        [
         "26",
         "661ba7096a6e1c5d7e65355b",
         "824662",
         "5",
         "8799053",
         "False",
         "True",
         "11139733",
         "2024-03-29T15:08:23",
         "2024-03-29T15:08:23",
         "Po2K0K",
         "False",
         "False",
         "False",
         "0",
         "0",
         "{'photos': [], 'video': None}",
         "1",
         "8799053",
         "اف",
         "1qjZm0",
         null,
         "عالی بودممنون ازمحصولتون",
         null,
         null,
         null,
         null,
         null,
         null,
         null,
         null,
         null
        ],
        [
         "27",
         "661ba7096a6e1c5d7e65355c",
         "824662",
         "5",
         "1285266",
         "False",
         "True",
         "11136024",
         "2024-03-29T08:32:34",
         "2024-03-29T08:32:34",
         "Mk6OB8",
         "False",
         "False",
         "False",
         "0",
         "0",
         "{'photos': [], 'video': None}",
         "3",
         "1285266",
         "طباطبائی",
         "mEy5z",
         null,
         null,
         null,
         null,
         null,
         null,
         null,
         null,
         null,
         null,
         null
        ],
        [
         "28",
         "661ba7096a6e1c5d7e65355d",
         "824662",
         "5",
         "14604248",
         "False",
         "True",
         "11135984",
         "2024-03-29T08:17:40",
         "2024-03-29T08:17:40",
         "Zn3DnQ",
         "False",
         "False",
         "False",
         "0",
         "0",
         "{'photos': [], 'video': None}",
         "1",
         "14604248",
         "محمد رضا",
         "D8MA7G",
         null,
         null,
         null,
         null,
         null,
         null,
         null,
         null,
         null,
         null,
         null
        ],
        [
         "29",
         "661ba7096a6e1c5d7e65355e",
         "824662",
         "5",
         "5496069",
         "False",
         "True",
         "11134205",
         "2024-03-29T00:46:53",
         "2024-03-29T00:46:53",
         "JkJmG1",
         "False",
         "False",
         "False",
         "0",
         "0",
         "{'photos': [], 'video': None}",
         "1",
         "5496069",
         "شیرین ایرج زاده",
         "LWYagJ",
         null,
         null,
         null,
         null,
         null,
         null,
         null,
         null,
         null,
         null,
         null
        ],
        [
         "30",
         "661ba7096a6e1c5d7e65355f",
         "824662",
         "5",
         "3048306",
         "False",
         "True",
         "11133403",
         "2024-03-28T23:29:20",
         "2024-03-28T23:29:20",
         "nDxnjZ",
         "False",
         "False",
         "False",
         "0",
         "0",
         "{'photos': [], 'video': None}",
         "2",
         "3048306",
         "یوسف فتحی",
         "44QnJ",
         null,
         "دفعه دومه خریدم.واقعا طعم خوب و خالصی داره",
         null,
         null,
         null,
         null,
         null,
         null,
         null,
         null,
         null
        ],
        [
         "31",
         "661ba7096a6e1c5d7e653560",
         "824662",
         "4",
         "3734024",
         "False",
         "True",
         "11125748",
         "2024-03-28T14:19:08",
         "2024-03-28T14:19:08",
         "DwxbJL",
         "False",
         "False",
         "False",
         "0",
         "0",
         "{'photos': [], 'video': None}",
         "2",
         "3734024",
         "محمد براری",
         "MLNOZ",
         null,
         "دستتون درد نکنه خوب بود همه چی پاسخگویی هم عالی",
         null,
         null,
         null,
         null,
         null,
         null,
         null,
         null,
         null
        ],
        [
         "32",
         "661ba7096a6e1c5d7e653561",
         "824662",
         "5",
         "9093604",
         "False",
         "True",
         "11118683",
         "2024-03-28T01:18:34",
         "2024-03-28T01:18:34",
         "joX2QE",
         "False",
         "False",
         "False",
         "0",
         "0",
         "{'photos': [], 'video': None}",
         "1",
         "9093604",
         "ابوالفضل نظری",
         "DwyJdD",
         null,
         "کره بادام زمینی اش واقعا اصل بوده و راضیم",
         null,
         null,
         null,
         null,
         null,
         null,
         null,
         null,
         null
        ],
        [
         "33",
         "661ba7096a6e1c5d7e653562",
         "824662",
         "5",
         "1721699",
         "False",
         "True",
         "11099671",
         "2024-03-26T20:56:58",
         "2024-03-26T20:56:58",
         "zo2PP3",
         "False",
         "False",
         "False",
         "0",
         "0",
         "{'photos': [], 'video': None}",
         "2",
         "1721699",
         "مهناز پیرهادی",
         "2KXdy",
         null,
         "عالی بود برای بار دوم سفارش دادم",
         null,
         null,
         null,
         null,
         null,
         null,
         null,
         null,
         null
        ],
        [
         "34",
         "661ba7096a6e1c5d7e653563",
         "824662",
         "5",
         "469709",
         "False",
         "True",
         "11098662",
         "2024-03-26T19:09:37",
         "2024-03-26T19:09:37",
         "5BYZK5",
         "False",
         "False",
         "False",
         "0",
         "0",
         "{'photos': [], 'video': None}",
         "1",
         "469709",
         "زینب شاهمحمدی",
         "1eKDX",
         null,
         "من بار دومه از این غرفه کره بادوم زمینی میخرم، کره خوبیه و خوشمزست",
         null,
         null,
         null,
         null,
         null,
         null,
         null,
         null,
         null
        ],
        [
         "35",
         "661ba7096a6e1c5d7e653564",
         "824662",
         "5",
         "4028804",
         "False",
         "True",
         "11098037",
         "2024-03-26T18:11:05",
         "2024-03-26T18:11:05",
         "XaENY7",
         "False",
         "False",
         "False",
         "0",
         "0",
         "{'photos': [], 'video': None}",
         "3",
         "4028804",
         "رنجبر",
         "DZ8jVG",
         null,
         null,
         null,
         null,
         null,
         null,
         null,
         null,
         null,
         null,
         null
        ],
        [
         "36",
         "661ba7096a6e1c5d7e653565",
         "824662",
         "4",
         "8744243",
         "False",
         "True",
         "11097235",
         "2024-03-26T17:09:51",
         "2024-03-26T17:09:51",
         "l0j5VZ",
         "False",
         "False",
         "False",
         "0",
         "0",
         "{'photos': [{'LARGE': 'https://statics.basalam.com/public-18/users/gBWMMm/03-26/eAydJubvLdPTCkzmWPZyQddUWTiGENZsTx5jxqfPJKAVef7eIp.jpg_1024X1024X70.jpg', 'MEDIUM': 'https://statics.basalam.com/public-18/users/gBWMMm/03-26/eAydJubvLdPTCkzmWPZyQddUWTiGENZsTx5jxqfPJKAVef7eIp.jpg_640X640X70.jpg', 'SMALL': 'https://statics.basalam.com/public-18/users/gBWMMm/03-26/eAydJubvLdPTCkzmWPZyQddUWTiGENZsTx5jxqfPJKAVef7eIp.jpg_192X192X70.jpg', 'EXTRA_SMALL': 'https://statics.basalam.com/public-18/users/gBWMMm/03-26/eAydJubvLdPTCkzmWPZyQddUWTiGENZsTx5jxqfPJKAVef7eIp.jpg_100X100X90.jpg'}, {'LARGE': 'https://statics.basalam.com/public-18/users/gBWMMm/03-26/z4NZBWXH2rf7CDT707OCZu8zijtjw1PAsgoeAJzCz0NuuZL5Rt.jpg_1024X1024X70.jpg', 'MEDIUM': 'https://statics.basalam.com/public-18/users/gBWMMm/03-26/z4NZBWXH2rf7CDT707OCZu8zijtjw1PAsgoeAJzCz0NuuZL5Rt.jpg_640X640X70.jpg', 'SMALL': 'https://statics.basalam.com/public-18/users/gBWMMm/03-26/z4NZBWXH2rf7CDT707OCZu8zijtjw1PAsgoeAJzCz0NuuZL5Rt.jpg_192X192X70.jpg', 'EXTRA_SMALL': 'https://statics.basalam.com/public-18/users/gBWMMm/03-26/z4NZBWXH2rf7CDT707OCZu8zijtjw1PAsgoeAJzCz0NuuZL5Rt.jpg_100X100X90.jpg'}], 'video': None}",
         "1",
         "8744243",
         "حمید الله خالصه زهی",
         "gBWMMm",
         null,
         "خوب بود فقط بسته بندی مناسب نبود",
         null,
         null,
         null,
         null,
         null,
         null,
         null,
         null,
         null
        ],
        [
         "37",
         "661ba7096a6e1c5d7e653566",
         "824662",
         "5",
         "267881",
         "False",
         "True",
         "11093504",
         "2024-03-26T13:15:14",
         "2024-03-26T13:15:14",
         "DwxX0d",
         "False",
         "False",
         "False",
         "0",
         "0",
         "{'photos': [], 'video': None}",
         "2",
         "267881",
         "ثریاآذری نشاط",
         "XyPbg",
         null,
         "بسیار عالی و باکیفیت . کاروکسب تان پررونق وپربرکت باد.",
         null,
         null,
         null,
         null,
         null,
         null,
         null,
         null,
         null
        ],
        [
         "38",
         "661ba7096a6e1c5d7e653567",
         "824662",
         "5",
         "14228247",
         "False",
         "True",
         "11090285",
         "2024-03-26T09:15:16",
         "2024-03-26T09:15:16",
         "xn187O",
         "False",
         "False",
         "False",
         "0",
         "0",
         "{'photos': [], 'video': None}",
         "3",
         "14228247",
         "امیرحسین رضی سروری",
         "nAweXO",
         null,
         null,
         null,
         null,
         null,
         null,
         null,
         null,
         null,
         null,
         null
        ],
        [
         "39",
         "661ba7096a6e1c5d7e653568",
         "824662",
         "5",
         "9747606",
         "False",
         "True",
         "11082554",
         "2024-03-25T15:56:14",
         "2024-03-25T15:56:14",
         "dN0oVY",
         "False",
         "False",
         "False",
         "0",
         "0",
         "{'photos': [], 'video': None}",
         "4",
         "9747606",
         "علی حفظی",
         "40BO1e",
         null,
         "عالی مثل همیشه متشکرم",
         null,
         null,
         null,
         null,
         null,
         null,
         null,
         null,
         null
        ],
        [
         "40",
         "661ba7096a6e1c5d7e653569",
         "824662",
         "5",
         "10127800",
         "False",
         "True",
         "11077560",
         "2024-03-25T10:10:40",
         "2024-03-25T10:10:40",
         "QEkO8z",
         "False",
         "False",
         "False",
         "0",
         "0",
         "{'photos': [], 'video': None}",
         "4",
         "10127800",
         "کاظم روشنی",
         "a1eZJ0",
         null,
         "مثل همیشه عالی . تشکر",
         null,
         null,
         null,
         null,
         null,
         null,
         null,
         null,
         null
        ],
        [
         "41",
         "661ba7096a6e1c5d7e65356a",
         "824662",
         "5",
         "4559811",
         "False",
         "True",
         "11077241",
         "2024-03-25T09:23:52",
         "2024-03-25T09:23:52",
         "xn1j4d",
         "False",
         "False",
         "False",
         "0",
         "0",
         "{'photos': [], 'video': None}",
         "1",
         "4559811",
         "وحید رستمی",
         "2qXyZk",
         null,
         null,
         null,
         null,
         null,
         null,
         null,
         null,
         null,
         null,
         null
        ],
        [
         "42",
         "661ba7096a6e1c5d7e65356b",
         "824662",
         "5",
         "2717584",
         "False",
         "True",
         "11076667",
         "2024-03-25T05:28:17",
         "2024-03-25T05:28:17",
         "OxdokN",
         "False",
         "False",
         "False",
         "0",
         "0",
         "{'photos': [], 'video': None}",
         "5",
         "2717584",
         "لباس زیر آمور",
         "ZjZjm",
         "{'LARGE': 'https://statics.basalam.com/public/users/7RoRO/2108/oUGTZaIq5I0iNpRcIgcScLY5wZ1RxjN3Plm82QI2.jpg_300X300X70.jpg', 'MEDIUM': 'https://statics.basalam.com/public/users/7RoRO/2108/oUGTZaIq5I0iNpRcIgcScLY5wZ1RxjN3Plm82QI2.jpg_200X200X70.jpg', 'SMALL': 'https://statics.basalam.com/public/users/7RoRO/2108/oUGTZaIq5I0iNpRcIgcScLY5wZ1RxjN3Plm82QI2.jpg_100X100X90.jpg', 'EXTRA_SMALL': 'https://statics.basalam.com/public/users/7RoRO/2108/oUGTZaIq5I0iNpRcIgcScLY5wZ1RxjN3Plm82QI2.jpg_50X50X70.jpg'}",
         null,
         null,
         null,
         null,
         null,
         null,
         null,
         null,
         null,
         null
        ],
        [
         "43",
         "661ba7096a6e1c5d7e65356c",
         "824662",
         "5",
         "14784940",
         "False",
         "True",
         "11068635",
         "2024-03-24T13:58:43",
         "2024-03-24T13:58:43",
         "l022QZ",
         "False",
         "False",
         "False",
         "0",
         "0",
         "{'photos': [], 'video': None}",
         "1",
         "14784940",
         "نیره حیدری",
         "Zk7QJb",
         null,
         "خوب بود",
         null,
         null,
         null,
         null,
         null,
         null,
         null,
         null,
         null
        ],
        [
         "44",
         "661ba7096a6e1c5d7e65356d",
         "824662",
         "5",
         "8142451",
         "False",
         "True",
         "11067119",
         "2024-03-24T12:17:35",
         "2024-03-24T12:17:35",
         "EXNYyn",
         "False",
         "False",
         "False",
         "0",
         "0",
         "{'photos': [], 'video': None}",
         "1",
         "8142451",
         "سیما درکه",
         "V20wJj",
         null,
         "عالی ممنونم",
         null,
         null,
         null,
         null,
         null,
         null,
         null,
         null,
         null
        ],
        [
         "45",
         "661ba7096a6e1c5d7e65356e",
         "824662",
         "5",
         "4977001",
         "False",
         "True",
         "11067007",
         "2024-03-24T12:10:40",
         "2024-03-24T12:10:40",
         "V2bnEZ",
         "False",
         "False",
         "False",
         "0",
         "0",
         "{'photos': [], 'video': None}",
         "1",
         "4977001",
         "محمد عبدالی",
         "y5qPLX",
         null,
         null,
         null,
         null,
         null,
         null,
         null,
         null,
         null,
         null,
         null
        ],
        [
         "46",
         "661ba7096a6e1c5d7e65356f",
         "824662",
         "5",
         "1611681",
         "False",
         "True",
         "11066619",
         "2024-03-24T11:46:28",
         "2024-03-24T11:46:28",
         "EXNYoj",
         "False",
         "False",
         "False",
         "0",
         "0",
         "{'photos': [], 'video': None}",
         "1",
         "1611681",
         "padash",
         "XoJe7",
         null,
         "طعم عالی و خوشمزه",
         null,
         null,
         null,
         null,
         null,
         null,
         null,
         null,
         null
        ],
        [
         "47",
         "661ba7096a6e1c5d7e653570",
         "824662",
         "5",
         "8334092",
         "False",
         "True",
         "11062642",
         "2024-03-23T23:06:17",
         "2024-03-23T23:06:17",
         "oKGe1D",
         "False",
         "False",
         "False",
         "0",
         "0",
         "{'photos': [], 'video': None}",
         "1",
         "8334092",
         "امیررضا سهرابی",
         "DwNDm4",
         null,
         "همه چی عالی ارسال و بسته بندی و کیفیت حرف نداره ممنون از غرفه دار محترم",
         null,
         null,
         null,
         null,
         null,
         null,
         null,
         null,
         null
        ],
        [
         "48",
         "661ba7096a6e1c5d7e653571",
         "824662",
         "5",
         "473038",
         "False",
         "True",
         "11057207",
         "2024-03-23T12:29:58",
         "2024-03-23T12:29:58",
         "V2bJx0",
         "False",
         "False",
         "False",
         "0",
         "0",
         "{'photos': [], 'video': None}",
         "1",
         "473038",
         "صابر محمدی",
         "WoNL7",
         "{'LARGE': 'https://statics.basalam.com/public-2/users/WoNL7/05-12/os5u6ultsIzk1vSy3ZaMTjXI29ka1pvUv3XclVWiYHNOcxohDi.jpg_300X300X70.jpg', 'MEDIUM': 'https://statics.basalam.com/public-2/users/WoNL7/05-12/os5u6ultsIzk1vSy3ZaMTjXI29ka1pvUv3XclVWiYHNOcxohDi.jpg_200X200X70.jpg', 'SMALL': 'https://statics.basalam.com/public-2/users/WoNL7/05-12/os5u6ultsIzk1vSy3ZaMTjXI29ka1pvUv3XclVWiYHNOcxohDi.jpg_100X100X90.jpg', 'EXTRA_SMALL': 'https://statics.basalam.com/public-2/users/WoNL7/05-12/os5u6ultsIzk1vSy3ZaMTjXI29ka1pvUv3XclVWiYHNOcxohDi.jpg_50X50X70.jpg'}",
         "عالی",
         null,
         null,
         null,
         null,
         null,
         null,
         null,
         null,
         null
        ],
        [
         "49",
         "661ba7096a6e1c5d7e653572",
         "824662",
         "5",
         "3933294",
         "False",
         "True",
         "11056437",
         "2024-03-23T10:55:50",
         "2024-03-23T10:55:50",
         "XaB5EK",
         "False",
         "False",
         "False",
         "0",
         "0",
         "{'photos': [], 'video': None}",
         "4",
         "3933294",
         "اسماعیل چناری",
         "470Nd0",
         null,
         null,
         null,
         null,
         null,
         null,
         null,
         null,
         null,
         null,
         null
        ]
       ],
       "shape": {
        "columns": 31,
        "rows": 3393574
       }
      },
      "text/html": [
       "<div>\n",
       "<style scoped>\n",
       "    .dataframe tbody tr th:only-of-type {\n",
       "        vertical-align: middle;\n",
       "    }\n",
       "\n",
       "    .dataframe tbody tr th {\n",
       "        vertical-align: top;\n",
       "    }\n",
       "\n",
       "    .dataframe thead th {\n",
       "        text-align: right;\n",
       "    }\n",
       "</style>\n",
       "<table border=\"1\" class=\"dataframe\">\n",
       "  <thead>\n",
       "    <tr style=\"text-align: right;\">\n",
       "      <th></th>\n",
       "      <th>_id</th>\n",
       "      <th>productId</th>\n",
       "      <th>star</th>\n",
       "      <th>user_id</th>\n",
       "      <th>isPost</th>\n",
       "      <th>isPublic</th>\n",
       "      <th>id</th>\n",
       "      <th>createdAt</th>\n",
       "      <th>updatedAt</th>\n",
       "      <th>hashId</th>\n",
       "      <th>...</th>\n",
       "      <th>description</th>\n",
       "      <th>reason_ids[0]</th>\n",
       "      <th>reason_ids[1]</th>\n",
       "      <th>reason_ids[2]</th>\n",
       "      <th>reason_ids[3]</th>\n",
       "      <th>reason_ids[4]</th>\n",
       "      <th>reason_ids[5]</th>\n",
       "      <th>reason_ids[6]</th>\n",
       "      <th>reason_ids[7]</th>\n",
       "      <th>variation_metadata</th>\n",
       "    </tr>\n",
       "  </thead>\n",
       "  <tbody>\n",
       "    <tr>\n",
       "      <th>0</th>\n",
       "      <td>661ba7096a6e1c5d7e653541</td>\n",
       "      <td>824662</td>\n",
       "      <td>5</td>\n",
       "      <td>15127771</td>\n",
       "      <td>False</td>\n",
       "      <td>True</td>\n",
       "      <td>11220580</td>\n",
       "      <td>2024-04-03T23:45:57</td>\n",
       "      <td>2024-04-03T23:45:57</td>\n",
       "      <td>rBNa53</td>\n",
       "      <td>...</td>\n",
       "      <td>NaN</td>\n",
       "      <td>NaN</td>\n",
       "      <td>NaN</td>\n",
       "      <td>NaN</td>\n",
       "      <td>NaN</td>\n",
       "      <td>NaN</td>\n",
       "      <td>NaN</td>\n",
       "      <td>NaN</td>\n",
       "      <td>NaN</td>\n",
       "      <td>NaN</td>\n",
       "    </tr>\n",
       "    <tr>\n",
       "      <th>1</th>\n",
       "      <td>661ba7096a6e1c5d7e653542</td>\n",
       "      <td>824662</td>\n",
       "      <td>5</td>\n",
       "      <td>2695119</td>\n",
       "      <td>False</td>\n",
       "      <td>True</td>\n",
       "      <td>11219739</td>\n",
       "      <td>2024-04-03T22:49:50</td>\n",
       "      <td>2024-04-03T22:49:50</td>\n",
       "      <td>joZjyb</td>\n",
       "      <td>...</td>\n",
       "      <td>NaN</td>\n",
       "      <td>NaN</td>\n",
       "      <td>NaN</td>\n",
       "      <td>NaN</td>\n",
       "      <td>NaN</td>\n",
       "      <td>NaN</td>\n",
       "      <td>NaN</td>\n",
       "      <td>NaN</td>\n",
       "      <td>NaN</td>\n",
       "      <td>NaN</td>\n",
       "    </tr>\n",
       "    <tr>\n",
       "      <th>2</th>\n",
       "      <td>661ba7096a6e1c5d7e653543</td>\n",
       "      <td>824662</td>\n",
       "      <td>5</td>\n",
       "      <td>11408497</td>\n",
       "      <td>False</td>\n",
       "      <td>True</td>\n",
       "      <td>11219258</td>\n",
       "      <td>2024-04-03T22:19:06</td>\n",
       "      <td>2024-04-03T22:19:06</td>\n",
       "      <td>GxNEX2</td>\n",
       "      <td>...</td>\n",
       "      <td>NaN</td>\n",
       "      <td>NaN</td>\n",
       "      <td>NaN</td>\n",
       "      <td>NaN</td>\n",
       "      <td>NaN</td>\n",
       "      <td>NaN</td>\n",
       "      <td>NaN</td>\n",
       "      <td>NaN</td>\n",
       "      <td>NaN</td>\n",
       "      <td>NaN</td>\n",
       "    </tr>\n",
       "    <tr>\n",
       "      <th>3</th>\n",
       "      <td>661ba7096a6e1c5d7e653544</td>\n",
       "      <td>824662</td>\n",
       "      <td>5</td>\n",
       "      <td>482919</td>\n",
       "      <td>False</td>\n",
       "      <td>True</td>\n",
       "      <td>11216410</td>\n",
       "      <td>2024-04-03T19:49:25</td>\n",
       "      <td>2024-04-03T19:49:25</td>\n",
       "      <td>dN8rzl</td>\n",
       "      <td>...</td>\n",
       "      <td>عالییییه،دو بار سفارش زدم تا حالا</td>\n",
       "      <td>NaN</td>\n",
       "      <td>NaN</td>\n",
       "      <td>NaN</td>\n",
       "      <td>NaN</td>\n",
       "      <td>NaN</td>\n",
       "      <td>NaN</td>\n",
       "      <td>NaN</td>\n",
       "      <td>NaN</td>\n",
       "      <td>NaN</td>\n",
       "    </tr>\n",
       "    <tr>\n",
       "      <th>4</th>\n",
       "      <td>661ba7096a6e1c5d7e653545</td>\n",
       "      <td>824662</td>\n",
       "      <td>5</td>\n",
       "      <td>4427128</td>\n",
       "      <td>False</td>\n",
       "      <td>True</td>\n",
       "      <td>11211517</td>\n",
       "      <td>2024-04-03T15:50:37</td>\n",
       "      <td>2024-04-03T15:50:37</td>\n",
       "      <td>KW3nQa</td>\n",
       "      <td>...</td>\n",
       "      <td>سپاس،تازه و خوشمزه و با کیفیت هست</td>\n",
       "      <td>NaN</td>\n",
       "      <td>NaN</td>\n",
       "      <td>NaN</td>\n",
       "      <td>NaN</td>\n",
       "      <td>NaN</td>\n",
       "      <td>NaN</td>\n",
       "      <td>NaN</td>\n",
       "      <td>NaN</td>\n",
       "      <td>NaN</td>\n",
       "    </tr>\n",
       "    <tr>\n",
       "      <th>...</th>\n",
       "      <td>...</td>\n",
       "      <td>...</td>\n",
       "      <td>...</td>\n",
       "      <td>...</td>\n",
       "      <td>...</td>\n",
       "      <td>...</td>\n",
       "      <td>...</td>\n",
       "      <td>...</td>\n",
       "      <td>...</td>\n",
       "      <td>...</td>\n",
       "      <td>...</td>\n",
       "      <td>...</td>\n",
       "      <td>...</td>\n",
       "      <td>...</td>\n",
       "      <td>...</td>\n",
       "      <td>...</td>\n",
       "      <td>...</td>\n",
       "      <td>...</td>\n",
       "      <td>...</td>\n",
       "      <td>...</td>\n",
       "      <td>...</td>\n",
       "    </tr>\n",
       "    <tr>\n",
       "      <th>3393569</th>\n",
       "      <td>661bad526a6e1c5d7e98fd62</td>\n",
       "      <td>2649281</td>\n",
       "      <td>5</td>\n",
       "      <td>3929172</td>\n",
       "      <td>False</td>\n",
       "      <td>True</td>\n",
       "      <td>6100858</td>\n",
       "      <td>2023-05-25T11:34:59</td>\n",
       "      <td>2023-05-25T11:34:59</td>\n",
       "      <td>G4YYl5</td>\n",
       "      <td>...</td>\n",
       "      <td>NaN</td>\n",
       "      <td>NaN</td>\n",
       "      <td>NaN</td>\n",
       "      <td>NaN</td>\n",
       "      <td>NaN</td>\n",
       "      <td>NaN</td>\n",
       "      <td>NaN</td>\n",
       "      <td>NaN</td>\n",
       "      <td>NaN</td>\n",
       "      <td>NaN</td>\n",
       "    </tr>\n",
       "    <tr>\n",
       "      <th>3393570</th>\n",
       "      <td>661bad526a6e1c5d7e98fd63</td>\n",
       "      <td>2649281</td>\n",
       "      <td>5</td>\n",
       "      <td>8563868</td>\n",
       "      <td>False</td>\n",
       "      <td>True</td>\n",
       "      <td>4546789</td>\n",
       "      <td>2023-02-02T17:41:50</td>\n",
       "      <td>2023-02-02T17:41:50</td>\n",
       "      <td>y5YkO1</td>\n",
       "      <td>...</td>\n",
       "      <td>عالی بود ممنون</td>\n",
       "      <td>NaN</td>\n",
       "      <td>NaN</td>\n",
       "      <td>NaN</td>\n",
       "      <td>NaN</td>\n",
       "      <td>NaN</td>\n",
       "      <td>NaN</td>\n",
       "      <td>NaN</td>\n",
       "      <td>NaN</td>\n",
       "      <td>NaN</td>\n",
       "    </tr>\n",
       "    <tr>\n",
       "      <th>3393571</th>\n",
       "      <td>661bad526a6e1c5d7e98fd64</td>\n",
       "      <td>8813652</td>\n",
       "      <td>5</td>\n",
       "      <td>7969510</td>\n",
       "      <td>False</td>\n",
       "      <td>True</td>\n",
       "      <td>8164670</td>\n",
       "      <td>2023-10-12T23:37:35</td>\n",
       "      <td>2023-10-12T23:37:35</td>\n",
       "      <td>Yy0Dmk</td>\n",
       "      <td>...</td>\n",
       "      <td>عالی ممنونم از غرفه دار درجه یک</td>\n",
       "      <td>NaN</td>\n",
       "      <td>NaN</td>\n",
       "      <td>NaN</td>\n",
       "      <td>NaN</td>\n",
       "      <td>NaN</td>\n",
       "      <td>NaN</td>\n",
       "      <td>NaN</td>\n",
       "      <td>NaN</td>\n",
       "      <td>NaN</td>\n",
       "    </tr>\n",
       "    <tr>\n",
       "      <th>3393572</th>\n",
       "      <td>661bad526a6e1c5d7e98fd65</td>\n",
       "      <td>9092749</td>\n",
       "      <td>5</td>\n",
       "      <td>14066125</td>\n",
       "      <td>False</td>\n",
       "      <td>True</td>\n",
       "      <td>8511650</td>\n",
       "      <td>2023-11-04T11:28:27</td>\n",
       "      <td>2023-11-04T11:28:27</td>\n",
       "      <td>40G1eB</td>\n",
       "      <td>...</td>\n",
       "      <td>همه چیز خوب بود</td>\n",
       "      <td>NaN</td>\n",
       "      <td>NaN</td>\n",
       "      <td>NaN</td>\n",
       "      <td>NaN</td>\n",
       "      <td>NaN</td>\n",
       "      <td>NaN</td>\n",
       "      <td>NaN</td>\n",
       "      <td>NaN</td>\n",
       "      <td>NaN</td>\n",
       "    </tr>\n",
       "    <tr>\n",
       "      <th>3393573</th>\n",
       "      <td>661bad526a6e1c5d7e98fd66</td>\n",
       "      <td>7297078</td>\n",
       "      <td>5</td>\n",
       "      <td>12724043</td>\n",
       "      <td>False</td>\n",
       "      <td>True</td>\n",
       "      <td>9438337</td>\n",
       "      <td>2023-12-27T17:42:05</td>\n",
       "      <td>2023-12-27T17:42:05</td>\n",
       "      <td>XakV0K</td>\n",
       "      <td>...</td>\n",
       "      <td>NaN</td>\n",
       "      <td>NaN</td>\n",
       "      <td>NaN</td>\n",
       "      <td>NaN</td>\n",
       "      <td>NaN</td>\n",
       "      <td>NaN</td>\n",
       "      <td>NaN</td>\n",
       "      <td>NaN</td>\n",
       "      <td>NaN</td>\n",
       "      <td>NaN</td>\n",
       "    </tr>\n",
       "  </tbody>\n",
       "</table>\n",
       "<p>3393574 rows × 31 columns</p>\n",
       "</div>"
      ],
      "text/plain": [
       "                              _id  productId  star   user_id  isPost  \\\n",
       "0        661ba7096a6e1c5d7e653541     824662     5  15127771   False   \n",
       "1        661ba7096a6e1c5d7e653542     824662     5   2695119   False   \n",
       "2        661ba7096a6e1c5d7e653543     824662     5  11408497   False   \n",
       "3        661ba7096a6e1c5d7e653544     824662     5    482919   False   \n",
       "4        661ba7096a6e1c5d7e653545     824662     5   4427128   False   \n",
       "...                           ...        ...   ...       ...     ...   \n",
       "3393569  661bad526a6e1c5d7e98fd62    2649281     5   3929172   False   \n",
       "3393570  661bad526a6e1c5d7e98fd63    2649281     5   8563868   False   \n",
       "3393571  661bad526a6e1c5d7e98fd64    8813652     5   7969510   False   \n",
       "3393572  661bad526a6e1c5d7e98fd65    9092749     5  14066125   False   \n",
       "3393573  661bad526a6e1c5d7e98fd66    7297078     5  12724043   False   \n",
       "\n",
       "         isPublic        id            createdAt            updatedAt  hashId  \\\n",
       "0            True  11220580  2024-04-03T23:45:57  2024-04-03T23:45:57  rBNa53   \n",
       "1            True  11219739  2024-04-03T22:49:50  2024-04-03T22:49:50  joZjyb   \n",
       "2            True  11219258  2024-04-03T22:19:06  2024-04-03T22:19:06  GxNEX2   \n",
       "3            True  11216410  2024-04-03T19:49:25  2024-04-03T19:49:25  dN8rzl   \n",
       "4            True  11211517  2024-04-03T15:50:37  2024-04-03T15:50:37  KW3nQa   \n",
       "...           ...       ...                  ...                  ...     ...   \n",
       "3393569      True   6100858  2023-05-25T11:34:59  2023-05-25T11:34:59  G4YYl5   \n",
       "3393570      True   4546789  2023-02-02T17:41:50  2023-02-02T17:41:50  y5YkO1   \n",
       "3393571      True   8164670  2023-10-12T23:37:35  2023-10-12T23:37:35  Yy0Dmk   \n",
       "3393572      True   8511650  2023-11-04T11:28:27  2023-11-04T11:28:27  40G1eB   \n",
       "3393573      True   9438337  2023-12-27T17:42:05  2023-12-27T17:42:05  XakV0K   \n",
       "\n",
       "         ...                        description  reason_ids[0]  reason_ids[1]  \\\n",
       "0        ...                                NaN            NaN            NaN   \n",
       "1        ...                                NaN            NaN            NaN   \n",
       "2        ...                                NaN            NaN            NaN   \n",
       "3        ...  عالییییه،دو بار سفارش زدم تا حالا            NaN            NaN   \n",
       "4        ...  سپاس،تازه و خوشمزه و با کیفیت هست            NaN            NaN   \n",
       "...      ...                                ...            ...            ...   \n",
       "3393569  ...                                NaN            NaN            NaN   \n",
       "3393570  ...                     عالی بود ممنون            NaN            NaN   \n",
       "3393571  ...    عالی ممنونم از غرفه دار درجه یک            NaN            NaN   \n",
       "3393572  ...                    همه چیز خوب بود            NaN            NaN   \n",
       "3393573  ...                                NaN            NaN            NaN   \n",
       "\n",
       "         reason_ids[2]  reason_ids[3] reason_ids[4]  reason_ids[5]  \\\n",
       "0                  NaN            NaN           NaN            NaN   \n",
       "1                  NaN            NaN           NaN            NaN   \n",
       "2                  NaN            NaN           NaN            NaN   \n",
       "3                  NaN            NaN           NaN            NaN   \n",
       "4                  NaN            NaN           NaN            NaN   \n",
       "...                ...            ...           ...            ...   \n",
       "3393569            NaN            NaN           NaN            NaN   \n",
       "3393570            NaN            NaN           NaN            NaN   \n",
       "3393571            NaN            NaN           NaN            NaN   \n",
       "3393572            NaN            NaN           NaN            NaN   \n",
       "3393573            NaN            NaN           NaN            NaN   \n",
       "\n",
       "         reason_ids[6] reason_ids[7] variation_metadata  \n",
       "0                  NaN           NaN                NaN  \n",
       "1                  NaN           NaN                NaN  \n",
       "2                  NaN           NaN                NaN  \n",
       "3                  NaN           NaN                NaN  \n",
       "4                  NaN           NaN                NaN  \n",
       "...                ...           ...                ...  \n",
       "3393569            NaN           NaN                NaN  \n",
       "3393570            NaN           NaN                NaN  \n",
       "3393571            NaN           NaN                NaN  \n",
       "3393572            NaN           NaN                NaN  \n",
       "3393573            NaN           NaN                NaN  \n",
       "\n",
       "[3393574 rows x 31 columns]"
      ]
     },
     "execution_count": 18,
     "metadata": {},
     "output_type": "execute_result"
    }
   ],
   "source": [
    "df_reviews"
   ]
  },
  {
   "cell_type": "code",
   "execution_count": 19,
   "metadata": {},
   "outputs": [],
   "source": [
    "df_reviews_light = df_reviews.drop(['_id', 'isPost', 'isPublic', 'id', 'updatedAt', 'hashId', 'isLikedByCurrentUser', 'isDislikedByCurrentUser', 'dislikeCount', 'user_id_of_user','name_of_user','hash_id_of_user','photo_of_user'], axis=1)"
   ]
  },
  {
   "cell_type": "code",
   "execution_count": 20,
   "metadata": {},
   "outputs": [],
   "source": [
    "df_reviews_light = df_reviews_light.drop(['variation_metadata'], axis=1)"
   ]
  },
  {
   "cell_type": "code",
   "execution_count": 21,
   "metadata": {},
   "outputs": [],
   "source": [
    "df_reviews_light = df_reviews_light.drop(['reason_ids[0]','reason_ids[1]','reason_ids[2]','reason_ids[3]','reason_ids[4]','reason_ids[5]','reason_ids[6]','reason_ids[7]'], axis=1)"
   ]
  },
  {
   "cell_type": "code",
   "execution_count": 22,
   "metadata": {},
   "outputs": [
    {
     "data": {
      "application/vnd.microsoft.datawrangler.viewer.v0+json": {
       "columns": [
        {
         "name": "index",
         "rawType": "int64",
         "type": "integer"
        },
        {
         "name": "productId",
         "rawType": "int64",
         "type": "integer"
        },
        {
         "name": "star",
         "rawType": "int64",
         "type": "integer"
        },
        {
         "name": "user_id",
         "rawType": "int64",
         "type": "integer"
        },
        {
         "name": "createdAt",
         "rawType": "object",
         "type": "string"
        },
        {
         "name": "isPosted",
         "rawType": "object",
         "type": "unknown"
        },
        {
         "name": "likeCount",
         "rawType": "int64",
         "type": "integer"
        },
        {
         "name": "attachments",
         "rawType": "object",
         "type": "string"
        },
        {
         "name": "history_count",
         "rawType": "int64",
         "type": "integer"
        },
        {
         "name": "description",
         "rawType": "object",
         "type": "unknown"
        }
       ],
       "conversionMethod": "pd.DataFrame",
       "ref": "2a73ae02-8def-4cfc-b5da-859aeedb4d3e",
       "rows": [
        [
         "0",
         "824662",
         "5",
         "15127771",
         "2024-04-03T23:45:57",
         "False",
         "0",
         "{'photos': [], 'video': None}",
         "1",
         null
        ],
        [
         "1",
         "824662",
         "5",
         "2695119",
         "2024-04-03T22:49:50",
         "False",
         "0",
         "{'photos': [], 'video': None}",
         "3",
         null
        ],
        [
         "2",
         "824662",
         "5",
         "11408497",
         "2024-04-03T22:19:06",
         "False",
         "0",
         "{'photos': [], 'video': None}",
         "1",
         null
        ],
        [
         "3",
         "824662",
         "5",
         "482919",
         "2024-04-03T19:49:25",
         "False",
         "0",
         "{'photos': [], 'video': None}",
         "1",
         "عالییییه،دو بار سفارش زدم تا حالا"
        ],
        [
         "4",
         "824662",
         "5",
         "4427128",
         "2024-04-03T15:50:37",
         "False",
         "0",
         "{'photos': [], 'video': None}",
         "1",
         "سپاس،تازه و خوشمزه و با کیفیت هست"
        ],
        [
         "5",
         "824662",
         "5",
         "13523903",
         "2024-04-03T15:05:15",
         "False",
         "0",
         "{'photos': [], 'video': None}",
         "2",
         "خرید برای چندمین بار و مثل همیشه عالی و با کیفیت"
        ],
        [
         "6",
         "824662",
         "5",
         "197112",
         "2024-04-03T05:07:02",
         "False",
         "0",
         "{'photos': [], 'video': None}",
         "3",
         "سلام ممنون از غرفه دارمحترم، خریدسومم بود و راضیم ازمحصول خوبشون"
        ],
        [
         "7",
         "824662",
         "5",
         "15078073",
         "2024-04-02T17:56:35",
         "False",
         "0",
         "{'photos': [], 'video': None}",
         "2",
         "بار دوم سفارش دادم.کیفیت خوب"
        ],
        [
         "8",
         "824662",
         "5",
         "186709",
         "2024-04-02T13:52:27",
         "False",
         "0",
         "{'photos': [], 'video': None}",
         "1",
         "طعم بسیارخوبی داشت"
        ],
        [
         "9",
         "824662",
         "5",
         "2158509",
         "2024-04-02T11:28:57",
         "False",
         "0",
         "{'photos': [], 'video': None}",
         "1",
         null
        ],
        [
         "10",
         "824662",
         "5",
         "1130991",
         "2024-04-01T19:15:18",
         "False",
         "0",
         "{'photos': [], 'video': None}",
         "4",
         null
        ],
        [
         "11",
         "824662",
         "4",
         "2479606",
         "2024-04-01T01:43:34",
         "False",
         "0",
         "{'photos': [], 'video': None}",
         "1",
         "خوب بود ممنون از عطاری فرقانی.❤"
        ],
        [
         "12",
         "824662",
         "4",
         "13766563",
         "2024-03-31T04:50:54",
         "False",
         "0",
         "{'photos': [], 'video': None}",
         "2",
         "باسلام زودتر به دستم رسید.انتظار هست یه مقدار کره حالت کرمی داشته باشه.ممنون از غرفه دار و همچنین عوامل زحمتکش باسلام."
        ],
        [
         "13",
         "824662",
         "5",
         "12350640",
         "2024-03-30T22:37:28",
         "False",
         "0",
         "{'photos': [], 'video': None}",
         "2",
         null
        ],
        [
         "14",
         "824662",
         "5",
         "7935999",
         "2024-03-30T19:56:42",
         "False",
         "0",
         "{'photos': [], 'video': None}",
         "1",
         "با کیفیت و خوش طعم ممنون از آقای فرقانی"
        ],
        [
         "15",
         "824662",
         "5",
         "2589693",
         "2024-03-30T18:57:50",
         "False",
         "0",
         "{'photos': [], 'video': None}",
         "1",
         "بوی خوب طعم خوب در کل خوبه"
        ],
        [
         "16",
         "824662",
         "5",
         "3343566",
         "2024-03-30T18:17:56",
         "False",
         "0",
         "{'photos': [], 'video': None}",
         "1",
         "خیلی خوشمزه و تازه است ممنونم از غرفه دار بابت ارسال به موقع"
        ],
        [
         "17",
         "824662",
         "5",
         "15042449",
         "2024-03-30T14:52:36",
         "False",
         "0",
         "{'photos': [], 'video': None}",
         "2",
         "این بار دوم که از این غرفه کره بادام زمینی میخرم و طعمش عالیه ،با تشکر از غرفه دار"
        ],
        [
         "18",
         "824662",
         "2",
         "8532745",
         "2024-03-30T13:45:37",
         "False",
         "1",
         "{'photos': [], 'video': None}",
         "1",
         "دوست نداشتم خیلی با کره جیف فرق داره اگر قیمت براتون مهمه اقتصادی هست"
        ],
        [
         "19",
         "824662",
         "5",
         "13888034",
         "2024-03-30T13:19:45",
         "False",
         "0",
         "{'photos': [], 'video': None}",
         "1",
         "سلام ارده به دستم رسید بسیار عالی 👌"
        ],
        [
         "20",
         "824662",
         "4",
         "2052865",
         "2024-03-30T11:50:36",
         "False",
         "0",
         "{'photos': [], 'video': None}",
         "1",
         null
        ],
        [
         "21",
         "824662",
         "5",
         "7891880",
         "2024-03-30T08:09:29",
         "False",
         "0",
         "{'photos': [], 'video': None}",
         "2",
         "دمت گرم حلالت باشه محصولت درجه یکه"
        ],
        [
         "22",
         "824662",
         "5",
         "5771163",
         "2024-03-29T20:51:07",
         "False",
         "0",
         "{'photos': [], 'video': None}",
         "2",
         "سام کره بادام زمینی هم سومین خریدم از غرفه فرقانی بود مزه ای خالص ویکدست"
        ],
        [
         "23",
         "824662",
         "5",
         "7327023",
         "2024-03-29T19:27:58",
         "False",
         "0",
         "{'photos': [], 'video': None}",
         "1",
         null
        ],
        [
         "24",
         "824662",
         "5",
         "15409021",
         "2024-03-29T17:38:13",
         "False",
         "0",
         "{'photos': [], 'video': None}",
         "3",
         "عالی مثل همیشه"
        ],
        [
         "25",
         "824662",
         "5",
         "12352912",
         "2024-03-29T15:29:43",
         "False",
         "0",
         "{'photos': [], 'video': None}",
         "1",
         null
        ],
        [
         "26",
         "824662",
         "5",
         "8799053",
         "2024-03-29T15:08:23",
         "False",
         "0",
         "{'photos': [], 'video': None}",
         "1",
         "عالی بودممنون ازمحصولتون"
        ],
        [
         "27",
         "824662",
         "5",
         "1285266",
         "2024-03-29T08:32:34",
         "False",
         "0",
         "{'photos': [], 'video': None}",
         "3",
         null
        ],
        [
         "28",
         "824662",
         "5",
         "14604248",
         "2024-03-29T08:17:40",
         "False",
         "0",
         "{'photos': [], 'video': None}",
         "1",
         null
        ],
        [
         "29",
         "824662",
         "5",
         "5496069",
         "2024-03-29T00:46:53",
         "False",
         "0",
         "{'photos': [], 'video': None}",
         "1",
         null
        ],
        [
         "30",
         "824662",
         "5",
         "3048306",
         "2024-03-28T23:29:20",
         "False",
         "0",
         "{'photos': [], 'video': None}",
         "2",
         "دفعه دومه خریدم.واقعا طعم خوب و خالصی داره"
        ],
        [
         "31",
         "824662",
         "4",
         "3734024",
         "2024-03-28T14:19:08",
         "False",
         "0",
         "{'photos': [], 'video': None}",
         "2",
         "دستتون درد نکنه خوب بود همه چی پاسخگویی هم عالی"
        ],
        [
         "32",
         "824662",
         "5",
         "9093604",
         "2024-03-28T01:18:34",
         "False",
         "0",
         "{'photos': [], 'video': None}",
         "1",
         "کره بادام زمینی اش واقعا اصل بوده و راضیم"
        ],
        [
         "33",
         "824662",
         "5",
         "1721699",
         "2024-03-26T20:56:58",
         "False",
         "0",
         "{'photos': [], 'video': None}",
         "2",
         "عالی بود برای بار دوم سفارش دادم"
        ],
        [
         "34",
         "824662",
         "5",
         "469709",
         "2024-03-26T19:09:37",
         "False",
         "0",
         "{'photos': [], 'video': None}",
         "1",
         "من بار دومه از این غرفه کره بادوم زمینی میخرم، کره خوبیه و خوشمزست"
        ],
        [
         "35",
         "824662",
         "5",
         "4028804",
         "2024-03-26T18:11:05",
         "False",
         "0",
         "{'photos': [], 'video': None}",
         "3",
         null
        ],
        [
         "36",
         "824662",
         "4",
         "8744243",
         "2024-03-26T17:09:51",
         "False",
         "0",
         "{'photos': [{'LARGE': 'https://statics.basalam.com/public-18/users/gBWMMm/03-26/eAydJubvLdPTCkzmWPZyQddUWTiGENZsTx5jxqfPJKAVef7eIp.jpg_1024X1024X70.jpg', 'MEDIUM': 'https://statics.basalam.com/public-18/users/gBWMMm/03-26/eAydJubvLdPTCkzmWPZyQddUWTiGENZsTx5jxqfPJKAVef7eIp.jpg_640X640X70.jpg', 'SMALL': 'https://statics.basalam.com/public-18/users/gBWMMm/03-26/eAydJubvLdPTCkzmWPZyQddUWTiGENZsTx5jxqfPJKAVef7eIp.jpg_192X192X70.jpg', 'EXTRA_SMALL': 'https://statics.basalam.com/public-18/users/gBWMMm/03-26/eAydJubvLdPTCkzmWPZyQddUWTiGENZsTx5jxqfPJKAVef7eIp.jpg_100X100X90.jpg'}, {'LARGE': 'https://statics.basalam.com/public-18/users/gBWMMm/03-26/z4NZBWXH2rf7CDT707OCZu8zijtjw1PAsgoeAJzCz0NuuZL5Rt.jpg_1024X1024X70.jpg', 'MEDIUM': 'https://statics.basalam.com/public-18/users/gBWMMm/03-26/z4NZBWXH2rf7CDT707OCZu8zijtjw1PAsgoeAJzCz0NuuZL5Rt.jpg_640X640X70.jpg', 'SMALL': 'https://statics.basalam.com/public-18/users/gBWMMm/03-26/z4NZBWXH2rf7CDT707OCZu8zijtjw1PAsgoeAJzCz0NuuZL5Rt.jpg_192X192X70.jpg', 'EXTRA_SMALL': 'https://statics.basalam.com/public-18/users/gBWMMm/03-26/z4NZBWXH2rf7CDT707OCZu8zijtjw1PAsgoeAJzCz0NuuZL5Rt.jpg_100X100X90.jpg'}], 'video': None}",
         "1",
         "خوب بود فقط بسته بندی مناسب نبود"
        ],
        [
         "37",
         "824662",
         "5",
         "267881",
         "2024-03-26T13:15:14",
         "False",
         "0",
         "{'photos': [], 'video': None}",
         "2",
         "بسیار عالی و باکیفیت . کاروکسب تان پررونق وپربرکت باد."
        ],
        [
         "38",
         "824662",
         "5",
         "14228247",
         "2024-03-26T09:15:16",
         "False",
         "0",
         "{'photos': [], 'video': None}",
         "3",
         null
        ],
        [
         "39",
         "824662",
         "5",
         "9747606",
         "2024-03-25T15:56:14",
         "False",
         "0",
         "{'photos': [], 'video': None}",
         "4",
         "عالی مثل همیشه متشکرم"
        ],
        [
         "40",
         "824662",
         "5",
         "10127800",
         "2024-03-25T10:10:40",
         "False",
         "0",
         "{'photos': [], 'video': None}",
         "4",
         "مثل همیشه عالی . تشکر"
        ],
        [
         "41",
         "824662",
         "5",
         "4559811",
         "2024-03-25T09:23:52",
         "False",
         "0",
         "{'photos': [], 'video': None}",
         "1",
         null
        ],
        [
         "42",
         "824662",
         "5",
         "2717584",
         "2024-03-25T05:28:17",
         "False",
         "0",
         "{'photos': [], 'video': None}",
         "5",
         null
        ],
        [
         "43",
         "824662",
         "5",
         "14784940",
         "2024-03-24T13:58:43",
         "False",
         "0",
         "{'photos': [], 'video': None}",
         "1",
         "خوب بود"
        ],
        [
         "44",
         "824662",
         "5",
         "8142451",
         "2024-03-24T12:17:35",
         "False",
         "0",
         "{'photos': [], 'video': None}",
         "1",
         "عالی ممنونم"
        ],
        [
         "45",
         "824662",
         "5",
         "4977001",
         "2024-03-24T12:10:40",
         "False",
         "0",
         "{'photos': [], 'video': None}",
         "1",
         null
        ],
        [
         "46",
         "824662",
         "5",
         "1611681",
         "2024-03-24T11:46:28",
         "False",
         "0",
         "{'photos': [], 'video': None}",
         "1",
         "طعم عالی و خوشمزه"
        ],
        [
         "47",
         "824662",
         "5",
         "8334092",
         "2024-03-23T23:06:17",
         "False",
         "0",
         "{'photos': [], 'video': None}",
         "1",
         "همه چی عالی ارسال و بسته بندی و کیفیت حرف نداره ممنون از غرفه دار محترم"
        ],
        [
         "48",
         "824662",
         "5",
         "473038",
         "2024-03-23T12:29:58",
         "False",
         "0",
         "{'photos': [], 'video': None}",
         "1",
         "عالی"
        ],
        [
         "49",
         "824662",
         "5",
         "3933294",
         "2024-03-23T10:55:50",
         "False",
         "0",
         "{'photos': [], 'video': None}",
         "4",
         null
        ]
       ],
       "shape": {
        "columns": 9,
        "rows": 3393574
       }
      },
      "text/html": [
       "<div>\n",
       "<style scoped>\n",
       "    .dataframe tbody tr th:only-of-type {\n",
       "        vertical-align: middle;\n",
       "    }\n",
       "\n",
       "    .dataframe tbody tr th {\n",
       "        vertical-align: top;\n",
       "    }\n",
       "\n",
       "    .dataframe thead th {\n",
       "        text-align: right;\n",
       "    }\n",
       "</style>\n",
       "<table border=\"1\" class=\"dataframe\">\n",
       "  <thead>\n",
       "    <tr style=\"text-align: right;\">\n",
       "      <th></th>\n",
       "      <th>productId</th>\n",
       "      <th>star</th>\n",
       "      <th>user_id</th>\n",
       "      <th>createdAt</th>\n",
       "      <th>isPosted</th>\n",
       "      <th>likeCount</th>\n",
       "      <th>attachments</th>\n",
       "      <th>history_count</th>\n",
       "      <th>description</th>\n",
       "    </tr>\n",
       "  </thead>\n",
       "  <tbody>\n",
       "    <tr>\n",
       "      <th>0</th>\n",
       "      <td>824662</td>\n",
       "      <td>5</td>\n",
       "      <td>15127771</td>\n",
       "      <td>2024-04-03T23:45:57</td>\n",
       "      <td>False</td>\n",
       "      <td>0</td>\n",
       "      <td>{'photos': [], 'video': None}</td>\n",
       "      <td>1</td>\n",
       "      <td>NaN</td>\n",
       "    </tr>\n",
       "    <tr>\n",
       "      <th>1</th>\n",
       "      <td>824662</td>\n",
       "      <td>5</td>\n",
       "      <td>2695119</td>\n",
       "      <td>2024-04-03T22:49:50</td>\n",
       "      <td>False</td>\n",
       "      <td>0</td>\n",
       "      <td>{'photos': [], 'video': None}</td>\n",
       "      <td>3</td>\n",
       "      <td>NaN</td>\n",
       "    </tr>\n",
       "    <tr>\n",
       "      <th>2</th>\n",
       "      <td>824662</td>\n",
       "      <td>5</td>\n",
       "      <td>11408497</td>\n",
       "      <td>2024-04-03T22:19:06</td>\n",
       "      <td>False</td>\n",
       "      <td>0</td>\n",
       "      <td>{'photos': [], 'video': None}</td>\n",
       "      <td>1</td>\n",
       "      <td>NaN</td>\n",
       "    </tr>\n",
       "    <tr>\n",
       "      <th>3</th>\n",
       "      <td>824662</td>\n",
       "      <td>5</td>\n",
       "      <td>482919</td>\n",
       "      <td>2024-04-03T19:49:25</td>\n",
       "      <td>False</td>\n",
       "      <td>0</td>\n",
       "      <td>{'photos': [], 'video': None}</td>\n",
       "      <td>1</td>\n",
       "      <td>عالییییه،دو بار سفارش زدم تا حالا</td>\n",
       "    </tr>\n",
       "    <tr>\n",
       "      <th>4</th>\n",
       "      <td>824662</td>\n",
       "      <td>5</td>\n",
       "      <td>4427128</td>\n",
       "      <td>2024-04-03T15:50:37</td>\n",
       "      <td>False</td>\n",
       "      <td>0</td>\n",
       "      <td>{'photos': [], 'video': None}</td>\n",
       "      <td>1</td>\n",
       "      <td>سپاس،تازه و خوشمزه و با کیفیت هست</td>\n",
       "    </tr>\n",
       "    <tr>\n",
       "      <th>...</th>\n",
       "      <td>...</td>\n",
       "      <td>...</td>\n",
       "      <td>...</td>\n",
       "      <td>...</td>\n",
       "      <td>...</td>\n",
       "      <td>...</td>\n",
       "      <td>...</td>\n",
       "      <td>...</td>\n",
       "      <td>...</td>\n",
       "    </tr>\n",
       "    <tr>\n",
       "      <th>3393569</th>\n",
       "      <td>2649281</td>\n",
       "      <td>5</td>\n",
       "      <td>3929172</td>\n",
       "      <td>2023-05-25T11:34:59</td>\n",
       "      <td>False</td>\n",
       "      <td>0</td>\n",
       "      <td>{'photos': [], 'video': None}</td>\n",
       "      <td>1</td>\n",
       "      <td>NaN</td>\n",
       "    </tr>\n",
       "    <tr>\n",
       "      <th>3393570</th>\n",
       "      <td>2649281</td>\n",
       "      <td>5</td>\n",
       "      <td>8563868</td>\n",
       "      <td>2023-02-02T17:41:50</td>\n",
       "      <td>False</td>\n",
       "      <td>0</td>\n",
       "      <td>{'photos': [], 'video': None}</td>\n",
       "      <td>1</td>\n",
       "      <td>عالی بود ممنون</td>\n",
       "    </tr>\n",
       "    <tr>\n",
       "      <th>3393571</th>\n",
       "      <td>8813652</td>\n",
       "      <td>5</td>\n",
       "      <td>7969510</td>\n",
       "      <td>2023-10-12T23:37:35</td>\n",
       "      <td>False</td>\n",
       "      <td>1</td>\n",
       "      <td>{'photos': [], 'video': None}</td>\n",
       "      <td>1</td>\n",
       "      <td>عالی ممنونم از غرفه دار درجه یک</td>\n",
       "    </tr>\n",
       "    <tr>\n",
       "      <th>3393572</th>\n",
       "      <td>9092749</td>\n",
       "      <td>5</td>\n",
       "      <td>14066125</td>\n",
       "      <td>2023-11-04T11:28:27</td>\n",
       "      <td>False</td>\n",
       "      <td>3</td>\n",
       "      <td>{'photos': [], 'video': None}</td>\n",
       "      <td>1</td>\n",
       "      <td>همه چیز خوب بود</td>\n",
       "    </tr>\n",
       "    <tr>\n",
       "      <th>3393573</th>\n",
       "      <td>7297078</td>\n",
       "      <td>5</td>\n",
       "      <td>12724043</td>\n",
       "      <td>2023-12-27T17:42:05</td>\n",
       "      <td>False</td>\n",
       "      <td>0</td>\n",
       "      <td>{'photos': [], 'video': None}</td>\n",
       "      <td>1</td>\n",
       "      <td>NaN</td>\n",
       "    </tr>\n",
       "  </tbody>\n",
       "</table>\n",
       "<p>3393574 rows × 9 columns</p>\n",
       "</div>"
      ],
      "text/plain": [
       "         productId  star   user_id            createdAt isPosted  likeCount  \\\n",
       "0           824662     5  15127771  2024-04-03T23:45:57    False          0   \n",
       "1           824662     5   2695119  2024-04-03T22:49:50    False          0   \n",
       "2           824662     5  11408497  2024-04-03T22:19:06    False          0   \n",
       "3           824662     5    482919  2024-04-03T19:49:25    False          0   \n",
       "4           824662     5   4427128  2024-04-03T15:50:37    False          0   \n",
       "...            ...   ...       ...                  ...      ...        ...   \n",
       "3393569    2649281     5   3929172  2023-05-25T11:34:59    False          0   \n",
       "3393570    2649281     5   8563868  2023-02-02T17:41:50    False          0   \n",
       "3393571    8813652     5   7969510  2023-10-12T23:37:35    False          1   \n",
       "3393572    9092749     5  14066125  2023-11-04T11:28:27    False          3   \n",
       "3393573    7297078     5  12724043  2023-12-27T17:42:05    False          0   \n",
       "\n",
       "                           attachments  history_count  \\\n",
       "0        {'photos': [], 'video': None}              1   \n",
       "1        {'photos': [], 'video': None}              3   \n",
       "2        {'photos': [], 'video': None}              1   \n",
       "3        {'photos': [], 'video': None}              1   \n",
       "4        {'photos': [], 'video': None}              1   \n",
       "...                                ...            ...   \n",
       "3393569  {'photos': [], 'video': None}              1   \n",
       "3393570  {'photos': [], 'video': None}              1   \n",
       "3393571  {'photos': [], 'video': None}              1   \n",
       "3393572  {'photos': [], 'video': None}              1   \n",
       "3393573  {'photos': [], 'video': None}              1   \n",
       "\n",
       "                               description  \n",
       "0                                      NaN  \n",
       "1                                      NaN  \n",
       "2                                      NaN  \n",
       "3        عالییییه،دو بار سفارش زدم تا حالا  \n",
       "4        سپاس،تازه و خوشمزه و با کیفیت هست  \n",
       "...                                    ...  \n",
       "3393569                                NaN  \n",
       "3393570                     عالی بود ممنون  \n",
       "3393571    عالی ممنونم از غرفه دار درجه یک  \n",
       "3393572                    همه چیز خوب بود  \n",
       "3393573                                NaN  \n",
       "\n",
       "[3393574 rows x 9 columns]"
      ]
     },
     "execution_count": 22,
     "metadata": {},
     "output_type": "execute_result"
    }
   ],
   "source": [
    "df_reviews_light"
   ]
  },
  {
   "cell_type": "markdown",
   "metadata": {},
   "source": [
    "# 1 - How much is our daily sales?"
   ]
  },
  {
   "cell_type": "code",
   "execution_count": 23,
   "metadata": {},
   "outputs": [],
   "source": [
    "df_reviews_light[\"createdAt\"] = pd.to_datetime(df_reviews_light[\"createdAt\"])\n",
    "df_reviews_light[\"week_day\"] = df_reviews_light[\"createdAt\"].dt.day_name()"
   ]
  },
  {
   "cell_type": "code",
   "execution_count": 24,
   "metadata": {},
   "outputs": [
    {
     "data": {
      "application/vnd.microsoft.datawrangler.viewer.v0+json": {
       "columns": [
        {
         "name": "index",
         "rawType": "int64",
         "type": "integer"
        },
        {
         "name": "productId",
         "rawType": "int64",
         "type": "integer"
        },
        {
         "name": "star",
         "rawType": "int64",
         "type": "integer"
        },
        {
         "name": "user_id",
         "rawType": "int64",
         "type": "integer"
        },
        {
         "name": "createdAt",
         "rawType": "datetime64[ns]",
         "type": "datetime"
        },
        {
         "name": "isPosted",
         "rawType": "object",
         "type": "unknown"
        },
        {
         "name": "likeCount",
         "rawType": "int64",
         "type": "integer"
        },
        {
         "name": "attachments",
         "rawType": "object",
         "type": "string"
        },
        {
         "name": "history_count",
         "rawType": "int64",
         "type": "integer"
        },
        {
         "name": "description",
         "rawType": "object",
         "type": "unknown"
        },
        {
         "name": "week_day",
         "rawType": "object",
         "type": "string"
        }
       ],
       "conversionMethod": "pd.DataFrame",
       "ref": "a447fb3b-0e0c-4415-b445-a2c1562035bf",
       "rows": [
        [
         "0",
         "824662",
         "5",
         "15127771",
         "2024-04-03 23:45:57",
         "False",
         "0",
         "{'photos': [], 'video': None}",
         "1",
         null,
         "Wednesday"
        ],
        [
         "1",
         "824662",
         "5",
         "2695119",
         "2024-04-03 22:49:50",
         "False",
         "0",
         "{'photos': [], 'video': None}",
         "3",
         null,
         "Wednesday"
        ],
        [
         "2",
         "824662",
         "5",
         "11408497",
         "2024-04-03 22:19:06",
         "False",
         "0",
         "{'photos': [], 'video': None}",
         "1",
         null,
         "Wednesday"
        ],
        [
         "3",
         "824662",
         "5",
         "482919",
         "2024-04-03 19:49:25",
         "False",
         "0",
         "{'photos': [], 'video': None}",
         "1",
         "عالییییه،دو بار سفارش زدم تا حالا",
         "Wednesday"
        ],
        [
         "4",
         "824662",
         "5",
         "4427128",
         "2024-04-03 15:50:37",
         "False",
         "0",
         "{'photos': [], 'video': None}",
         "1",
         "سپاس،تازه و خوشمزه و با کیفیت هست",
         "Wednesday"
        ],
        [
         "5",
         "824662",
         "5",
         "13523903",
         "2024-04-03 15:05:15",
         "False",
         "0",
         "{'photos': [], 'video': None}",
         "2",
         "خرید برای چندمین بار و مثل همیشه عالی و با کیفیت",
         "Wednesday"
        ],
        [
         "6",
         "824662",
         "5",
         "197112",
         "2024-04-03 05:07:02",
         "False",
         "0",
         "{'photos': [], 'video': None}",
         "3",
         "سلام ممنون از غرفه دارمحترم، خریدسومم بود و راضیم ازمحصول خوبشون",
         "Wednesday"
        ],
        [
         "7",
         "824662",
         "5",
         "15078073",
         "2024-04-02 17:56:35",
         "False",
         "0",
         "{'photos': [], 'video': None}",
         "2",
         "بار دوم سفارش دادم.کیفیت خوب",
         "Tuesday"
        ],
        [
         "8",
         "824662",
         "5",
         "186709",
         "2024-04-02 13:52:27",
         "False",
         "0",
         "{'photos': [], 'video': None}",
         "1",
         "طعم بسیارخوبی داشت",
         "Tuesday"
        ],
        [
         "9",
         "824662",
         "5",
         "2158509",
         "2024-04-02 11:28:57",
         "False",
         "0",
         "{'photos': [], 'video': None}",
         "1",
         null,
         "Tuesday"
        ],
        [
         "10",
         "824662",
         "5",
         "1130991",
         "2024-04-01 19:15:18",
         "False",
         "0",
         "{'photos': [], 'video': None}",
         "4",
         null,
         "Monday"
        ],
        [
         "11",
         "824662",
         "4",
         "2479606",
         "2024-04-01 01:43:34",
         "False",
         "0",
         "{'photos': [], 'video': None}",
         "1",
         "خوب بود ممنون از عطاری فرقانی.❤",
         "Monday"
        ],
        [
         "12",
         "824662",
         "4",
         "13766563",
         "2024-03-31 04:50:54",
         "False",
         "0",
         "{'photos': [], 'video': None}",
         "2",
         "باسلام زودتر به دستم رسید.انتظار هست یه مقدار کره حالت کرمی داشته باشه.ممنون از غرفه دار و همچنین عوامل زحمتکش باسلام.",
         "Sunday"
        ],
        [
         "13",
         "824662",
         "5",
         "12350640",
         "2024-03-30 22:37:28",
         "False",
         "0",
         "{'photos': [], 'video': None}",
         "2",
         null,
         "Saturday"
        ],
        [
         "14",
         "824662",
         "5",
         "7935999",
         "2024-03-30 19:56:42",
         "False",
         "0",
         "{'photos': [], 'video': None}",
         "1",
         "با کیفیت و خوش طعم ممنون از آقای فرقانی",
         "Saturday"
        ],
        [
         "15",
         "824662",
         "5",
         "2589693",
         "2024-03-30 18:57:50",
         "False",
         "0",
         "{'photos': [], 'video': None}",
         "1",
         "بوی خوب طعم خوب در کل خوبه",
         "Saturday"
        ],
        [
         "16",
         "824662",
         "5",
         "3343566",
         "2024-03-30 18:17:56",
         "False",
         "0",
         "{'photos': [], 'video': None}",
         "1",
         "خیلی خوشمزه و تازه است ممنونم از غرفه دار بابت ارسال به موقع",
         "Saturday"
        ],
        [
         "17",
         "824662",
         "5",
         "15042449",
         "2024-03-30 14:52:36",
         "False",
         "0",
         "{'photos': [], 'video': None}",
         "2",
         "این بار دوم که از این غرفه کره بادام زمینی میخرم و طعمش عالیه ،با تشکر از غرفه دار",
         "Saturday"
        ],
        [
         "18",
         "824662",
         "2",
         "8532745",
         "2024-03-30 13:45:37",
         "False",
         "1",
         "{'photos': [], 'video': None}",
         "1",
         "دوست نداشتم خیلی با کره جیف فرق داره اگر قیمت براتون مهمه اقتصادی هست",
         "Saturday"
        ],
        [
         "19",
         "824662",
         "5",
         "13888034",
         "2024-03-30 13:19:45",
         "False",
         "0",
         "{'photos': [], 'video': None}",
         "1",
         "سلام ارده به دستم رسید بسیار عالی 👌",
         "Saturday"
        ],
        [
         "20",
         "824662",
         "4",
         "2052865",
         "2024-03-30 11:50:36",
         "False",
         "0",
         "{'photos': [], 'video': None}",
         "1",
         null,
         "Saturday"
        ],
        [
         "21",
         "824662",
         "5",
         "7891880",
         "2024-03-30 08:09:29",
         "False",
         "0",
         "{'photos': [], 'video': None}",
         "2",
         "دمت گرم حلالت باشه محصولت درجه یکه",
         "Saturday"
        ],
        [
         "22",
         "824662",
         "5",
         "5771163",
         "2024-03-29 20:51:07",
         "False",
         "0",
         "{'photos': [], 'video': None}",
         "2",
         "سام کره بادام زمینی هم سومین خریدم از غرفه فرقانی بود مزه ای خالص ویکدست",
         "Friday"
        ],
        [
         "23",
         "824662",
         "5",
         "7327023",
         "2024-03-29 19:27:58",
         "False",
         "0",
         "{'photos': [], 'video': None}",
         "1",
         null,
         "Friday"
        ],
        [
         "24",
         "824662",
         "5",
         "15409021",
         "2024-03-29 17:38:13",
         "False",
         "0",
         "{'photos': [], 'video': None}",
         "3",
         "عالی مثل همیشه",
         "Friday"
        ],
        [
         "25",
         "824662",
         "5",
         "12352912",
         "2024-03-29 15:29:43",
         "False",
         "0",
         "{'photos': [], 'video': None}",
         "1",
         null,
         "Friday"
        ],
        [
         "26",
         "824662",
         "5",
         "8799053",
         "2024-03-29 15:08:23",
         "False",
         "0",
         "{'photos': [], 'video': None}",
         "1",
         "عالی بودممنون ازمحصولتون",
         "Friday"
        ],
        [
         "27",
         "824662",
         "5",
         "1285266",
         "2024-03-29 08:32:34",
         "False",
         "0",
         "{'photos': [], 'video': None}",
         "3",
         null,
         "Friday"
        ],
        [
         "28",
         "824662",
         "5",
         "14604248",
         "2024-03-29 08:17:40",
         "False",
         "0",
         "{'photos': [], 'video': None}",
         "1",
         null,
         "Friday"
        ],
        [
         "29",
         "824662",
         "5",
         "5496069",
         "2024-03-29 00:46:53",
         "False",
         "0",
         "{'photos': [], 'video': None}",
         "1",
         null,
         "Friday"
        ],
        [
         "30",
         "824662",
         "5",
         "3048306",
         "2024-03-28 23:29:20",
         "False",
         "0",
         "{'photos': [], 'video': None}",
         "2",
         "دفعه دومه خریدم.واقعا طعم خوب و خالصی داره",
         "Thursday"
        ],
        [
         "31",
         "824662",
         "4",
         "3734024",
         "2024-03-28 14:19:08",
         "False",
         "0",
         "{'photos': [], 'video': None}",
         "2",
         "دستتون درد نکنه خوب بود همه چی پاسخگویی هم عالی",
         "Thursday"
        ],
        [
         "32",
         "824662",
         "5",
         "9093604",
         "2024-03-28 01:18:34",
         "False",
         "0",
         "{'photos': [], 'video': None}",
         "1",
         "کره بادام زمینی اش واقعا اصل بوده و راضیم",
         "Thursday"
        ],
        [
         "33",
         "824662",
         "5",
         "1721699",
         "2024-03-26 20:56:58",
         "False",
         "0",
         "{'photos': [], 'video': None}",
         "2",
         "عالی بود برای بار دوم سفارش دادم",
         "Tuesday"
        ],
        [
         "34",
         "824662",
         "5",
         "469709",
         "2024-03-26 19:09:37",
         "False",
         "0",
         "{'photos': [], 'video': None}",
         "1",
         "من بار دومه از این غرفه کره بادوم زمینی میخرم، کره خوبیه و خوشمزست",
         "Tuesday"
        ],
        [
         "35",
         "824662",
         "5",
         "4028804",
         "2024-03-26 18:11:05",
         "False",
         "0",
         "{'photos': [], 'video': None}",
         "3",
         null,
         "Tuesday"
        ],
        [
         "36",
         "824662",
         "4",
         "8744243",
         "2024-03-26 17:09:51",
         "False",
         "0",
         "{'photos': [{'LARGE': 'https://statics.basalam.com/public-18/users/gBWMMm/03-26/eAydJubvLdPTCkzmWPZyQddUWTiGENZsTx5jxqfPJKAVef7eIp.jpg_1024X1024X70.jpg', 'MEDIUM': 'https://statics.basalam.com/public-18/users/gBWMMm/03-26/eAydJubvLdPTCkzmWPZyQddUWTiGENZsTx5jxqfPJKAVef7eIp.jpg_640X640X70.jpg', 'SMALL': 'https://statics.basalam.com/public-18/users/gBWMMm/03-26/eAydJubvLdPTCkzmWPZyQddUWTiGENZsTx5jxqfPJKAVef7eIp.jpg_192X192X70.jpg', 'EXTRA_SMALL': 'https://statics.basalam.com/public-18/users/gBWMMm/03-26/eAydJubvLdPTCkzmWPZyQddUWTiGENZsTx5jxqfPJKAVef7eIp.jpg_100X100X90.jpg'}, {'LARGE': 'https://statics.basalam.com/public-18/users/gBWMMm/03-26/z4NZBWXH2rf7CDT707OCZu8zijtjw1PAsgoeAJzCz0NuuZL5Rt.jpg_1024X1024X70.jpg', 'MEDIUM': 'https://statics.basalam.com/public-18/users/gBWMMm/03-26/z4NZBWXH2rf7CDT707OCZu8zijtjw1PAsgoeAJzCz0NuuZL5Rt.jpg_640X640X70.jpg', 'SMALL': 'https://statics.basalam.com/public-18/users/gBWMMm/03-26/z4NZBWXH2rf7CDT707OCZu8zijtjw1PAsgoeAJzCz0NuuZL5Rt.jpg_192X192X70.jpg', 'EXTRA_SMALL': 'https://statics.basalam.com/public-18/users/gBWMMm/03-26/z4NZBWXH2rf7CDT707OCZu8zijtjw1PAsgoeAJzCz0NuuZL5Rt.jpg_100X100X90.jpg'}], 'video': None}",
         "1",
         "خوب بود فقط بسته بندی مناسب نبود",
         "Tuesday"
        ],
        [
         "37",
         "824662",
         "5",
         "267881",
         "2024-03-26 13:15:14",
         "False",
         "0",
         "{'photos': [], 'video': None}",
         "2",
         "بسیار عالی و باکیفیت . کاروکسب تان پررونق وپربرکت باد.",
         "Tuesday"
        ],
        [
         "38",
         "824662",
         "5",
         "14228247",
         "2024-03-26 09:15:16",
         "False",
         "0",
         "{'photos': [], 'video': None}",
         "3",
         null,
         "Tuesday"
        ],
        [
         "39",
         "824662",
         "5",
         "9747606",
         "2024-03-25 15:56:14",
         "False",
         "0",
         "{'photos': [], 'video': None}",
         "4",
         "عالی مثل همیشه متشکرم",
         "Monday"
        ],
        [
         "40",
         "824662",
         "5",
         "10127800",
         "2024-03-25 10:10:40",
         "False",
         "0",
         "{'photos': [], 'video': None}",
         "4",
         "مثل همیشه عالی . تشکر",
         "Monday"
        ],
        [
         "41",
         "824662",
         "5",
         "4559811",
         "2024-03-25 09:23:52",
         "False",
         "0",
         "{'photos': [], 'video': None}",
         "1",
         null,
         "Monday"
        ],
        [
         "42",
         "824662",
         "5",
         "2717584",
         "2024-03-25 05:28:17",
         "False",
         "0",
         "{'photos': [], 'video': None}",
         "5",
         null,
         "Monday"
        ],
        [
         "43",
         "824662",
         "5",
         "14784940",
         "2024-03-24 13:58:43",
         "False",
         "0",
         "{'photos': [], 'video': None}",
         "1",
         "خوب بود",
         "Sunday"
        ],
        [
         "44",
         "824662",
         "5",
         "8142451",
         "2024-03-24 12:17:35",
         "False",
         "0",
         "{'photos': [], 'video': None}",
         "1",
         "عالی ممنونم",
         "Sunday"
        ],
        [
         "45",
         "824662",
         "5",
         "4977001",
         "2024-03-24 12:10:40",
         "False",
         "0",
         "{'photos': [], 'video': None}",
         "1",
         null,
         "Sunday"
        ],
        [
         "46",
         "824662",
         "5",
         "1611681",
         "2024-03-24 11:46:28",
         "False",
         "0",
         "{'photos': [], 'video': None}",
         "1",
         "طعم عالی و خوشمزه",
         "Sunday"
        ],
        [
         "47",
         "824662",
         "5",
         "8334092",
         "2024-03-23 23:06:17",
         "False",
         "0",
         "{'photos': [], 'video': None}",
         "1",
         "همه چی عالی ارسال و بسته بندی و کیفیت حرف نداره ممنون از غرفه دار محترم",
         "Saturday"
        ],
        [
         "48",
         "824662",
         "5",
         "473038",
         "2024-03-23 12:29:58",
         "False",
         "0",
         "{'photos': [], 'video': None}",
         "1",
         "عالی",
         "Saturday"
        ],
        [
         "49",
         "824662",
         "5",
         "3933294",
         "2024-03-23 10:55:50",
         "False",
         "0",
         "{'photos': [], 'video': None}",
         "4",
         null,
         "Saturday"
        ]
       ],
       "shape": {
        "columns": 10,
        "rows": 3393574
       }
      },
      "text/html": [
       "<div>\n",
       "<style scoped>\n",
       "    .dataframe tbody tr th:only-of-type {\n",
       "        vertical-align: middle;\n",
       "    }\n",
       "\n",
       "    .dataframe tbody tr th {\n",
       "        vertical-align: top;\n",
       "    }\n",
       "\n",
       "    .dataframe thead th {\n",
       "        text-align: right;\n",
       "    }\n",
       "</style>\n",
       "<table border=\"1\" class=\"dataframe\">\n",
       "  <thead>\n",
       "    <tr style=\"text-align: right;\">\n",
       "      <th></th>\n",
       "      <th>productId</th>\n",
       "      <th>star</th>\n",
       "      <th>user_id</th>\n",
       "      <th>createdAt</th>\n",
       "      <th>isPosted</th>\n",
       "      <th>likeCount</th>\n",
       "      <th>attachments</th>\n",
       "      <th>history_count</th>\n",
       "      <th>description</th>\n",
       "      <th>week_day</th>\n",
       "    </tr>\n",
       "  </thead>\n",
       "  <tbody>\n",
       "    <tr>\n",
       "      <th>0</th>\n",
       "      <td>824662</td>\n",
       "      <td>5</td>\n",
       "      <td>15127771</td>\n",
       "      <td>2024-04-03 23:45:57</td>\n",
       "      <td>False</td>\n",
       "      <td>0</td>\n",
       "      <td>{'photos': [], 'video': None}</td>\n",
       "      <td>1</td>\n",
       "      <td>NaN</td>\n",
       "      <td>Wednesday</td>\n",
       "    </tr>\n",
       "    <tr>\n",
       "      <th>1</th>\n",
       "      <td>824662</td>\n",
       "      <td>5</td>\n",
       "      <td>2695119</td>\n",
       "      <td>2024-04-03 22:49:50</td>\n",
       "      <td>False</td>\n",
       "      <td>0</td>\n",
       "      <td>{'photos': [], 'video': None}</td>\n",
       "      <td>3</td>\n",
       "      <td>NaN</td>\n",
       "      <td>Wednesday</td>\n",
       "    </tr>\n",
       "    <tr>\n",
       "      <th>2</th>\n",
       "      <td>824662</td>\n",
       "      <td>5</td>\n",
       "      <td>11408497</td>\n",
       "      <td>2024-04-03 22:19:06</td>\n",
       "      <td>False</td>\n",
       "      <td>0</td>\n",
       "      <td>{'photos': [], 'video': None}</td>\n",
       "      <td>1</td>\n",
       "      <td>NaN</td>\n",
       "      <td>Wednesday</td>\n",
       "    </tr>\n",
       "    <tr>\n",
       "      <th>3</th>\n",
       "      <td>824662</td>\n",
       "      <td>5</td>\n",
       "      <td>482919</td>\n",
       "      <td>2024-04-03 19:49:25</td>\n",
       "      <td>False</td>\n",
       "      <td>0</td>\n",
       "      <td>{'photos': [], 'video': None}</td>\n",
       "      <td>1</td>\n",
       "      <td>عالییییه،دو بار سفارش زدم تا حالا</td>\n",
       "      <td>Wednesday</td>\n",
       "    </tr>\n",
       "    <tr>\n",
       "      <th>4</th>\n",
       "      <td>824662</td>\n",
       "      <td>5</td>\n",
       "      <td>4427128</td>\n",
       "      <td>2024-04-03 15:50:37</td>\n",
       "      <td>False</td>\n",
       "      <td>0</td>\n",
       "      <td>{'photos': [], 'video': None}</td>\n",
       "      <td>1</td>\n",
       "      <td>سپاس،تازه و خوشمزه و با کیفیت هست</td>\n",
       "      <td>Wednesday</td>\n",
       "    </tr>\n",
       "    <tr>\n",
       "      <th>...</th>\n",
       "      <td>...</td>\n",
       "      <td>...</td>\n",
       "      <td>...</td>\n",
       "      <td>...</td>\n",
       "      <td>...</td>\n",
       "      <td>...</td>\n",
       "      <td>...</td>\n",
       "      <td>...</td>\n",
       "      <td>...</td>\n",
       "      <td>...</td>\n",
       "    </tr>\n",
       "    <tr>\n",
       "      <th>3393569</th>\n",
       "      <td>2649281</td>\n",
       "      <td>5</td>\n",
       "      <td>3929172</td>\n",
       "      <td>2023-05-25 11:34:59</td>\n",
       "      <td>False</td>\n",
       "      <td>0</td>\n",
       "      <td>{'photos': [], 'video': None}</td>\n",
       "      <td>1</td>\n",
       "      <td>NaN</td>\n",
       "      <td>Thursday</td>\n",
       "    </tr>\n",
       "    <tr>\n",
       "      <th>3393570</th>\n",
       "      <td>2649281</td>\n",
       "      <td>5</td>\n",
       "      <td>8563868</td>\n",
       "      <td>2023-02-02 17:41:50</td>\n",
       "      <td>False</td>\n",
       "      <td>0</td>\n",
       "      <td>{'photos': [], 'video': None}</td>\n",
       "      <td>1</td>\n",
       "      <td>عالی بود ممنون</td>\n",
       "      <td>Thursday</td>\n",
       "    </tr>\n",
       "    <tr>\n",
       "      <th>3393571</th>\n",
       "      <td>8813652</td>\n",
       "      <td>5</td>\n",
       "      <td>7969510</td>\n",
       "      <td>2023-10-12 23:37:35</td>\n",
       "      <td>False</td>\n",
       "      <td>1</td>\n",
       "      <td>{'photos': [], 'video': None}</td>\n",
       "      <td>1</td>\n",
       "      <td>عالی ممنونم از غرفه دار درجه یک</td>\n",
       "      <td>Thursday</td>\n",
       "    </tr>\n",
       "    <tr>\n",
       "      <th>3393572</th>\n",
       "      <td>9092749</td>\n",
       "      <td>5</td>\n",
       "      <td>14066125</td>\n",
       "      <td>2023-11-04 11:28:27</td>\n",
       "      <td>False</td>\n",
       "      <td>3</td>\n",
       "      <td>{'photos': [], 'video': None}</td>\n",
       "      <td>1</td>\n",
       "      <td>همه چیز خوب بود</td>\n",
       "      <td>Saturday</td>\n",
       "    </tr>\n",
       "    <tr>\n",
       "      <th>3393573</th>\n",
       "      <td>7297078</td>\n",
       "      <td>5</td>\n",
       "      <td>12724043</td>\n",
       "      <td>2023-12-27 17:42:05</td>\n",
       "      <td>False</td>\n",
       "      <td>0</td>\n",
       "      <td>{'photos': [], 'video': None}</td>\n",
       "      <td>1</td>\n",
       "      <td>NaN</td>\n",
       "      <td>Wednesday</td>\n",
       "    </tr>\n",
       "  </tbody>\n",
       "</table>\n",
       "<p>3393574 rows × 10 columns</p>\n",
       "</div>"
      ],
      "text/plain": [
       "         productId  star   user_id           createdAt isPosted  likeCount  \\\n",
       "0           824662     5  15127771 2024-04-03 23:45:57    False          0   \n",
       "1           824662     5   2695119 2024-04-03 22:49:50    False          0   \n",
       "2           824662     5  11408497 2024-04-03 22:19:06    False          0   \n",
       "3           824662     5    482919 2024-04-03 19:49:25    False          0   \n",
       "4           824662     5   4427128 2024-04-03 15:50:37    False          0   \n",
       "...            ...   ...       ...                 ...      ...        ...   \n",
       "3393569    2649281     5   3929172 2023-05-25 11:34:59    False          0   \n",
       "3393570    2649281     5   8563868 2023-02-02 17:41:50    False          0   \n",
       "3393571    8813652     5   7969510 2023-10-12 23:37:35    False          1   \n",
       "3393572    9092749     5  14066125 2023-11-04 11:28:27    False          3   \n",
       "3393573    7297078     5  12724043 2023-12-27 17:42:05    False          0   \n",
       "\n",
       "                           attachments  history_count  \\\n",
       "0        {'photos': [], 'video': None}              1   \n",
       "1        {'photos': [], 'video': None}              3   \n",
       "2        {'photos': [], 'video': None}              1   \n",
       "3        {'photos': [], 'video': None}              1   \n",
       "4        {'photos': [], 'video': None}              1   \n",
       "...                                ...            ...   \n",
       "3393569  {'photos': [], 'video': None}              1   \n",
       "3393570  {'photos': [], 'video': None}              1   \n",
       "3393571  {'photos': [], 'video': None}              1   \n",
       "3393572  {'photos': [], 'video': None}              1   \n",
       "3393573  {'photos': [], 'video': None}              1   \n",
       "\n",
       "                               description   week_day  \n",
       "0                                      NaN  Wednesday  \n",
       "1                                      NaN  Wednesday  \n",
       "2                                      NaN  Wednesday  \n",
       "3        عالییییه،دو بار سفارش زدم تا حالا  Wednesday  \n",
       "4        سپاس،تازه و خوشمزه و با کیفیت هست  Wednesday  \n",
       "...                                    ...        ...  \n",
       "3393569                                NaN   Thursday  \n",
       "3393570                     عالی بود ممنون   Thursday  \n",
       "3393571    عالی ممنونم از غرفه دار درجه یک   Thursday  \n",
       "3393572                    همه چیز خوب بود   Saturday  \n",
       "3393573                                NaN  Wednesday  \n",
       "\n",
       "[3393574 rows x 10 columns]"
      ]
     },
     "execution_count": 24,
     "metadata": {},
     "output_type": "execute_result"
    }
   ],
   "source": [
    "df_reviews_light"
   ]
  },
  {
   "cell_type": "code",
   "execution_count": 25,
   "metadata": {},
   "outputs": [
    {
     "name": "stdout",
     "output_type": "stream",
     "text": [
      "['Wednesday' 'Tuesday' 'Monday' 'Sunday' 'Saturday' 'Friday' 'Thursday']\n"
     ]
    }
   ],
   "source": [
    "print(df_reviews_light[\"week_day\"].unique())"
   ]
  },
  {
   "cell_type": "code",
   "execution_count": 26,
   "metadata": {},
   "outputs": [],
   "source": [
    "reviews_per_day = df_reviews_light[\"week_day\"].value_counts(normalize=True)"
   ]
  },
  {
   "cell_type": "code",
   "execution_count": 27,
   "metadata": {},
   "outputs": [
    {
     "name": "stdout",
     "output_type": "stream",
     "text": [
      "week_day\n",
      "Monday       0.156518\n",
      "Tuesday      0.154442\n",
      "Sunday       0.153976\n",
      "Wednesday    0.151522\n",
      "Saturday     0.150557\n",
      "Thursday     0.143181\n",
      "Friday       0.089805\n",
      "Name: proportion, dtype: float64\n"
     ]
    }
   ],
   "source": [
    "print(reviews_per_day)"
   ]
  },
  {
   "cell_type": "code",
   "execution_count": 28,
   "metadata": {},
   "outputs": [
    {
     "name": "stdout",
     "output_type": "stream",
     "text": [
      "1.0\n"
     ]
    }
   ],
   "source": [
    "print(reviews_per_day.sum())  "
   ]
  },
  {
   "cell_type": "code",
   "execution_count": 29,
   "metadata": {},
   "outputs": [
    {
     "name": "stdout",
     "output_type": "stream",
     "text": [
      "week_day\n",
      "Monday       531157\n",
      "Tuesday      524110\n",
      "Sunday       522528\n",
      "Wednesday    514200\n",
      "Saturday     510926\n",
      "Thursday     485894\n",
      "Friday       304759\n",
      "Name: count, dtype: int64\n"
     ]
    }
   ],
   "source": [
    "reviews_per_day_counts = df_reviews_light[\"week_day\"].value_counts()\n",
    "print(reviews_per_day_counts)"
   ]
  },
  {
   "cell_type": "code",
   "execution_count": 30,
   "metadata": {},
   "outputs": [
    {
     "data": {
      "image/png": "[encoded data removed]",
      "text/plain": [
       "<Figure size 1000x500 with 1 Axes>"
      ]
     },
     "metadata": {},
     "output_type": "display_data"
    }
   ],
   "source": [
    "plt.figure(figsize=(10,5))\n",
    "sns.barplot(x=reviews_per_day.index, y=reviews_per_day.values, palette=\"viridis\")\n",
    "plt.xlabel(\"Day of the Week\")\n",
    "plt.ylabel(\"Proportion of Reviews\")\n",
    "plt.title(\"Estimated Purchase Distribution Based on Review Submission\")\n",
    "plt.xticks(rotation=45)\n",
    "plt.show()"
   ]
  },
  {
   "cell_type": "code",
   "execution_count": 31,
   "metadata": {},
   "outputs": [],
   "source": [
    "df_products_light[\"sales_count_week\"] = df_products_light[\"sales_count_week\"].fillna(0)\n",
    "daily_sales_estimate = {}\n",
    "\n",
    "for day, weight in reviews_per_day.items():\n",
    "    daily_sales_estimate[day] = df_products_light[\"sales_count_week\"] * weight\n",
    "\n",
    "df_daily_sales = pd.DataFrame(daily_sales_estimate)\n",
    "df_daily_sales[\"name\"] = df_products_light[\"name\"]\n",
    "df_daily_sales[\"price\"] = df_products_light[\"price\"]"
   ]
  },
  {
   "cell_type": "code",
   "execution_count": 32,
   "metadata": {},
   "outputs": [
    {
     "data": {
      "application/vnd.microsoft.datawrangler.viewer.v0+json": {
       "columns": [
        {
         "name": "index",
         "rawType": "int64",
         "type": "integer"
        },
        {
         "name": "Monday",
         "rawType": "float64",
         "type": "float"
        },
        {
         "name": "Tuesday",
         "rawType": "float64",
         "type": "float"
        },
        {
         "name": "Sunday",
         "rawType": "float64",
         "type": "float"
        },
        {
         "name": "Wednesday",
         "rawType": "float64",
         "type": "float"
        },
        {
         "name": "Saturday",
         "rawType": "float64",
         "type": "float"
        },
        {
         "name": "Thursday",
         "rawType": "float64",
         "type": "float"
        },
        {
         "name": "Friday",
         "rawType": "float64",
         "type": "float"
        },
        {
         "name": "name",
         "rawType": "object",
         "type": "unknown"
        },
        {
         "name": "price",
         "rawType": "float64",
         "type": "float"
        }
       ],
       "conversionMethod": "pd.DataFrame",
       "ref": "5d837aee-c845-4b5b-b711-38d6331a722a",
       "rows": [
        [
         "0",
         "2.191258537459327",
         "2.162186532546513",
         "2.1556600799039596",
         "2.1213033810372193",
         "2.107796676895804",
         "2.004528558976465",
         "1.2572662331807116",
         "پسته فندقی خندان امسالی یک کیلویی تضمین کیفیت و مرجوعی. ",
         "5170000.0"
        ],
        [
         "1",
         "2.034740070497947",
         "2.007744637364619",
         "2.0016843599108194",
         "1.9697817109631321",
         "1.9572397714032461",
         "1.8613479476210035",
         "1.167461502239232",
         "روغن زیتون فدک 1 لیتری مزرعه ارگانیک فدک سید احمد بلند نظر",
         "6600000.0"
        ],
        [
         "2",
         "1.8782216035365664",
         "1.8533027421827253",
         "1.8477086399176796",
         "1.818260040889045",
         "1.8066828659106888",
         "1.7181673362655419",
         "1.0776567712977527",
         "عناب درجه یک  بیرجند یک کیلویی. تضمین کیفیت و مرجوعی ",
         "1360000.0"
        ],
        [
         "3",
         "1.7217031365751858",
         "1.6988608470008315",
         "1.6937329199245397",
         "1.6667383708149581",
         "1.6561259604181315",
         "1.57498672491008",
         "0.9878520403562734",
         "هل سبز اکبر بنفش50گرمی.  سبز ودرشت وبسیار معطر",
         "1054000.0"
        ],
        [
         "4",
         "1.7217031365751858",
         "1.6988608470008315",
         "1.6937329199245397",
         "1.6667383708149581",
         "1.6561259604181315",
         "1.57498672491008",
         "0.9878520403562734",
         "زرشک دانه اناری اعلا 1402(یک کیلویی).محصول تضمین کیفیت ومرجوعی داره",
         "1830000.0"
        ],
        [
         "5",
         "1.7217031365751858",
         "1.6988608470008315",
         "1.6937329199245397",
         "1.6667383708149581",
         "1.6561259604181315",
         "1.57498672491008",
         "0.9878520403562734",
         " کیمچی کاهو",
         "980000.0"
        ],
        [
         "6",
         "1.5651846696138052",
         "1.5444189518189377",
         "1.5397571999313997",
         "1.515216700740871",
         "1.505569054925574",
         "1.431806113554618",
         "0.8980473094147939",
         "عسل چهل گیاه خوشمزه ( 1 کیلو) ساکارز زیر پنج 165 تومن ",
         "1650000.0"
        ],
        [
         "7",
         "1.5651846696138052",
         "1.5444189518189377",
         "1.5397571999313997",
         "1.515216700740871",
         "1.505569054925574",
         "1.431806113554618",
         "0.8980473094147939",
         "هل 25گرمی برتر. اکبر بنفش.تضمین کیفیت. دانه درشت. سبز.بسیارمعطر. ",
         "587000.0"
        ],
        [
         "8",
         "1.5651846696138052",
         "1.5444189518189377",
         "1.5397571999313997",
         "1.515216700740871",
         "1.505569054925574",
         "1.431806113554618",
         "0.8980473094147939",
         "مربای زرشک غلیظ اعلا خانگی.تازه. تولید اول ابان ماه ",
         "687000.0"
        ],
        [
         "9",
         "1.4086662026524248",
         "1.389977056637044",
         "1.3857814799382597",
         "1.3636950306667839",
         "1.3550121494330165",
         "1.2886255021991564",
         "0.8082425784733145",
         "برنج عنبر بو با کد تخفیف ویژه 10 کیلو  مستقیم از کارخانه تا سفره ی شما عزیزان امساله خوزستان گران نخرید ارسال رایگان ",
         "5990000.0"
        ],
        [
         "10",
         "1.4086662026524248",
         "1.389977056637044",
         "1.3857814799382597",
         "1.3636950306667839",
         "1.3550121494330165",
         "1.2886255021991564",
         "0.8082425784733145",
         "نبات زعفرانی لوکس بسته بندی6تایی ",
         "270000.0"
        ],
        [
         "11",
         "1.4086662026524248",
         "1.389977056637044",
         "1.3857814799382597",
         "1.3636950306667839",
         "1.3550121494330165",
         "1.2886255021991564",
         "0.8082425784733145",
         "مغز پسته سالم وگلدار 500گرمی.محصول ضمانت کیفیت ومرجوعی دارد",
         "4670000.0"
        ],
        [
         "12",
         "1.4086662026524248",
         "1.389977056637044",
         "1.3857814799382597",
         "1.3636950306667839",
         "1.3550121494330165",
         "1.2886255021991564",
         "0.8082425784733145",
         "نبات گیاهی لوکس بسته بندی12تایی ",
         "785000.0"
        ],
        [
         "13",
         "1.4086662026524248",
         "1.389977056637044",
         "1.3857814799382597",
         "1.3636950306667839",
         "1.3550121494330165",
         "1.2886255021991564",
         "0.8082425784733145",
         "کشمش سبز اعلا 500گرمی. محصول ضمانت کیفیت ومرجوعی دارد",
         "987000.0"
        ],
        [
         "14",
         "1.4086662026524248",
         "1.389977056637044",
         "1.3857814799382597",
         "1.3636950306667839",
         "1.3550121494330165",
         "1.2886255021991564",
         "0.8082425784733145",
         "مغز پسته درشت اعلا 500گرمی(کاملا سالم وگلدار ) تضمین کیفیت ومرجوعی بدون قید وشرط. ",
         "4485000.0"
        ],
        [
         "15",
         "1.4086662026524248",
         "1.389977056637044",
         "1.3857814799382597",
         "1.3636950306667839",
         "1.3550121494330165",
         "1.2886255021991564",
         "0.8082425784733145",
         "اجیل چهار مغز شور تازه درجه یک تخفیف ویژه عید نوروز  1 کیلو گرم",
         "6900000.0"
        ],
        [
         "16",
         "1.2521477356910442",
         "1.2355351614551502",
         "1.2318057599451198",
         "1.2121733605926968",
         "1.2044552439404592",
         "1.1454448908436945",
         "0.7184378475318351",
         "جوانه گندم بین استار 25 ساشه ای اصل قویترین پرکننده صورت  ",
         "1115000.0"
        ],
        [
         "17",
         "1.0956292687296636",
         "1.0810932662732564",
         "1.0778300399519798",
         "1.0606516905186096",
         "1.053898338447902",
         "1.0022642794882326",
         "0.6286331165903558",
         "شکلات ترافل پینک محصول کشور روسیه . pink truffle",
         "1090000.0"
        ],
        [
         "18",
         "0.9391108017682832",
         "0.9266513710913626",
         "0.9238543199588398",
         "0.9091300204445225",
         "0.9033414329553444",
         "0.8590836681327709",
         "0.5388283856488764",
         "ارده کنجد فله 10 کیلویی",
         "13700000.0"
        ],
        [
         "19",
         "0.9391108017682832",
         "0.9266513710913626",
         "0.9238543199588398",
         "0.9091300204445225",
         "0.9033414329553444",
         "0.8590836681327709",
         "0.5388283856488764",
         "برنج قهوه ای 10 کیلویی مستقیم از کارخانه تا سفره ی شما عزیزان ",
         "5350000.0"
        ],
        [
         "20",
         "0.9391108017682832",
         "0.9266513710913626",
         "0.9238543199588398",
         "0.9091300204445225",
         "0.9033414329553444",
         "0.8590836681327709",
         "0.5388283856488764",
         "آرد برنج موچی گلوتینوس 500 گرم برند مونتی اصل ویتنام پک1عددی آرد مونتی موچی",
         "1550000.0"
        ],
        [
         "21",
         "0.9391108017682832",
         "0.9266513710913626",
         "0.9238543199588398",
         "0.9091300204445225",
         "0.9033414329553444",
         "0.8590836681327709",
         "0.5388283856488764",
         "ارده کنجد ممتاز اردکان یک کیلویی  با تضمین کیفیت ",
         "1650000.0"
        ],
        [
         "22",
         "0.9391108017682832",
         "0.9266513710913626",
         "0.9238543199588398",
         "0.9091300204445225",
         "0.9033414329553444",
         "0.8590836681327709",
         "0.5388283856488764",
         "پک افطاری روزه اولی ها (شما خرید میکنید ما به دست نیازمندان میرسانیم)",
         "1500000.0"
        ],
        [
         "23",
         "0.7825923348069026",
         "0.7722094759094689",
         "0.7698785999656999",
         "0.7576083503704355",
         "0.752784527462787",
         "0.715903056777309",
         "0.44902365470739697",
         "بادام زمینی شور آستانه درجه یک و تازه امساله 250 گرمی",
         "880000.0"
        ],
        [
         "24",
         "0.7825923348069026",
         "0.7722094759094689",
         "0.7698785999656999",
         "0.7576083503704355",
         "0.752784527462787",
         "0.715903056777309",
         "0.44902365470739697",
         "عسل دیابتی کوهستان 1کیلویی ساکارز زیر نیم درصد(مستقبم از زنبوردار)ارسال رایگان",
         "2770000.0"
        ],
        [
         "25",
         "0.7825923348069026",
         "0.7722094759094689",
         "0.7698785999656999",
         "0.7576083503704355",
         "0.752784527462787",
         "0.715903056777309",
         "0.44902365470739697",
         "پودر چهار زیره اعلا 100 گرمی اعتماد تازه ساب(چهارزیره)",
         "297000.0"
        ],
        [
         "26",
         "0.7825923348069026",
         "0.7722094759094689",
         "0.7698785999656999",
         "0.7576083503704355",
         "0.752784527462787",
         "0.715903056777309",
         "0.44902365470739697",
         "سیب زمینی شیرین نارنجی به صورت ضربه خورده 1کیلوگرمی  ( ارسال با باربری ویا  تیپاکس و پس کرایه)",
         "1800000.0"
        ],
        [
         "27",
         "0.7825923348069026",
         "0.7722094759094689",
         "0.7698785999656999",
         "0.7576083503704355",
         "0.752784527462787",
         "0.715903056777309",
         "0.44902365470739697",
         "آجیل عید پک ویژه 7 قلم 2400 گرم بعلاوه هدیه و ارسال رایگان آجیل و خشکبار روناس",
         "9970000.0"
        ],
        [
         "28",
         "0.7825923348069026",
         "0.7722094759094689",
         "0.7698785999656999",
         "0.7576083503704355",
         "0.752784527462787",
         "0.715903056777309",
         "0.44902365470739697",
         "برنج طارم هاشمی آستانه اشرفیه 10 کیلو",
         "8500000.0"
        ],
        [
         "29",
         "0.7825923348069026",
         "0.7722094759094689",
         "0.7698785999656999",
         "0.7576083503704355",
         "0.752784527462787",
         "0.715903056777309",
         "0.44902365470739697",
         "مغز بادام کوهی  شیراز 500 گرم(بوداده بدون نمک)",
         "2900000.0"
        ],
        [
         "30",
         "0.7825923348069026",
         "0.7722094759094689",
         "0.7698785999656999",
         "0.7576083503704355",
         "0.752784527462787",
         "0.715903056777309",
         "0.44902365470739697",
         "عصاره زعفران ممتاز قائنات ( قاینات )  یک لیتر",
         "320000.0"
        ],
        [
         "31",
         "0.7825923348069026",
         "0.7722094759094689",
         "0.7698785999656999",
         "0.7576083503704355",
         "0.752784527462787",
         "0.715903056777309",
         "0.44902365470739697",
         "عسل طبیعی کوهی خام 1 کیلویی (مستقیم از زنبوردار)ارسال رایگان",
         "1870000.0"
        ],
        [
         "32",
         "0.7825923348069026",
         "0.7722094759094689",
         "0.7698785999656999",
         "0.7576083503704355",
         "0.752784527462787",
         "0.715903056777309",
         "0.44902365470739697",
         "پسته اکبری شور زعفرانی امسالی درجه یک، یک کیلویی ارسال رایگان",
         "6300000.0"
        ],
        [
         "33",
         "0.7825923348069026",
         "0.7722094759094689",
         "0.7698785999656999",
         "0.7576083503704355",
         "0.752784527462787",
         "0.715903056777309",
         "0.44902365470739697",
         "چیپس ذرت پنیری اسنک تازه و خوشمزه 200 گرمی آجیل و خشکبار مهران ",
         "336000.0"
        ],
        [
         "34",
         "0.7825923348069026",
         "0.7722094759094689",
         "0.7698785999656999",
         "0.7576083503704355",
         "0.752784527462787",
         "0.715903056777309",
         "0.44902365470739697",
         "چای سبز  لاهیجان اصل قلم بدون ساقه طبیعی محصول بهاره امساله (1000گرمی) فقط برگ",
         "1700000.0"
        ],
        [
         "35",
         "0.7825923348069026",
         "0.7722094759094689",
         "0.7698785999656999",
         "0.7576083503704355",
         "0.752784527462787",
         "0.715903056777309",
         "0.44902365470739697",
         "قرص قهوه دبل کافی جویدنی مکنون اصلی 24 عدد در هر بسته آجیل و خشکبار مهران ",
         "380000.0"
        ],
        [
         "36",
         "0.7825923348069026",
         "0.7722094759094689",
         "0.7698785999656999",
         "0.7576083503704355",
         "0.752784527462787",
         "0.715903056777309",
         "0.44902365470739697",
         "آجیل مخلوط اقتصادی تازه 1000 گرمی ",
         "3290000.0"
        ],
        [
         "37",
         "0.7825923348069026",
         "0.7722094759094689",
         "0.7698785999656999",
         "0.7576083503704355",
         "0.752784527462787",
         "0.715903056777309",
         "0.44902365470739697",
         "پاستیل مخلوط آیدین خوشمزه و تازه 200 گرمی آجیل و خشکبار مهران ",
         "330000.0"
        ],
        [
         "38",
         "0.7825923348069026",
         "0.7722094759094689",
         "0.7698785999656999",
         "0.7576083503704355",
         "0.752784527462787",
         "0.715903056777309",
         "0.44902365470739697",
         "خرما شاهانی لوکس بوشهر 3کیلویی بدون شیره ",
         "2100000.0"
        ],
        [
         "39",
         "0.7825923348069026",
         "0.7722094759094689",
         "0.7698785999656999",
         "0.7576083503704355",
         "0.752784527462787",
         "0.715903056777309",
         "0.44902365470739697",
         "پودر زعفران زرین خراسان 20 گرمی با کیفیت وعطر عالی پودرزعفران سفارش بالای 50 عدد",
         "57500.0"
        ],
        [
         "40",
         "0.6260738678455221",
         "0.6177675807275751",
         "0.6159028799725599",
         "0.6060866802963484",
         "0.6022276219702296",
         "0.5727224454218472",
         "0.3592189237659176",
         "عصاره زعفران ممتاز قائنات(ممتاز و درجه یک)",
         "190000.0"
        ],
        [
         "41",
         "0.6260738678455221",
         "0.6177675807275751",
         "0.6159028799725599",
         "0.6060866802963484",
         "0.6022276219702296",
         "0.5727224454218472",
         "0.3592189237659176",
         "نودل هاتی کارا",
         "58000.0"
        ],
        [
         "42",
         "0.6260738678455221",
         "0.6177675807275751",
         "0.6159028799725599",
         "0.6060866802963484",
         "0.6022276219702296",
         "0.5727224454218472",
         "0.3592189237659176",
         "دانه سویا( لوبیای سویا خام ) 1 کیلویی اعلا",
         "899000.0"
        ],
        [
         "43",
         "0.6260738678455221",
         "0.6177675807275751",
         "0.6159028799725599",
         "0.6060866802963484",
         "0.6022276219702296",
         "0.5727224454218472",
         "0.3592189237659176",
         "چای سیاه قلم لیزری اعلا بدون ساقه یک کیلویی",
         "1250000.0"
        ],
        [
         "44",
         "0.6260738678455221",
         "0.6177675807275751",
         "0.6159028799725599",
         "0.6060866802963484",
         "0.6022276219702296",
         "0.5727224454218472",
         "0.3592189237659176",
         "خرید نمک اپسوم یا سولفات منیزیم خوراکی بسته 400  گرمی",
         "1350000.0"
        ],
        [
         "45",
         "0.6260738678455221",
         "0.6177675807275751",
         "0.6159028799725599",
         "0.6060866802963484",
         "0.6022276219702296",
         "0.5727224454218472",
         "0.3592189237659176",
         "تخم نطفه دار قرقاول",
         "250000.0"
        ],
        [
         "46",
         "0.6260738678455221",
         "0.6177675807275751",
         "0.6159028799725599",
         "0.6060866802963484",
         "0.6022276219702296",
         "0.5727224454218472",
         "0.3592189237659176",
         "پودر ژله کرم کارامل وانیلی جلید دراژه 50گرمی",
         "139500.0"
        ],
        [
         "47",
         "0.6260738678455221",
         "0.6177675807275751",
         "0.6159028799725599",
         "0.6060866802963484",
         "0.6022276219702296",
         "0.5727224454218472",
         "0.3592189237659176",
         "خرید عسل چهل گیاه (3 کیلو )ساکارز زیر پنج ارسال به سراسر کشور رایگان",
         "4450000.0"
        ],
        [
         "48",
         "0.6260738678455221",
         "0.6177675807275751",
         "0.6159028799725599",
         "0.6060866802963484",
         "0.6022276219702296",
         "0.5727224454218472",
         "0.3592189237659176",
         "عرق کاسنی 1لیتری(کیفیت عالی)",
         "450000.0"
        ],
        [
         "49",
         "0.6260738678455221",
         "0.6177675807275751",
         "0.6159028799725599",
         "0.6060866802963484",
         "0.6022276219702296",
         "0.5727224454218472",
         "0.3592189237659176",
         "چای سرگل زرین 1402 (900گرمی) دستچین چین اول ",
         "1990000.0"
        ]
       ],
       "shape": {
        "columns": 9,
        "rows": 2411358
       }
      },
      "text/html": [
       "<div>\n",
       "<style scoped>\n",
       "    .dataframe tbody tr th:only-of-type {\n",
       "        vertical-align: middle;\n",
       "    }\n",
       "\n",
       "    .dataframe tbody tr th {\n",
       "        vertical-align: top;\n",
       "    }\n",
       "\n",
       "    .dataframe thead th {\n",
       "        text-align: right;\n",
       "    }\n",
       "</style>\n",
       "<table border=\"1\" class=\"dataframe\">\n",
       "  <thead>\n",
       "    <tr style=\"text-align: right;\">\n",
       "      <th></th>\n",
       "      <th>Monday</th>\n",
       "      <th>Tuesday</th>\n",
       "      <th>Sunday</th>\n",
       "      <th>Wednesday</th>\n",
       "      <th>Saturday</th>\n",
       "      <th>Thursday</th>\n",
       "      <th>Friday</th>\n",
       "      <th>name</th>\n",
       "      <th>price</th>\n",
       "    </tr>\n",
       "  </thead>\n",
       "  <tbody>\n",
       "    <tr>\n",
       "      <th>0</th>\n",
       "      <td>2.191259</td>\n",
       "      <td>2.162187</td>\n",
       "      <td>2.155660</td>\n",
       "      <td>2.121303</td>\n",
       "      <td>2.107797</td>\n",
       "      <td>2.004529</td>\n",
       "      <td>1.257266</td>\n",
       "      <td>پسته فندقی خندان امسالی یک کیلویی تضمین کیفیت ...</td>\n",
       "      <td>5170000.0</td>\n",
       "    </tr>\n",
       "    <tr>\n",
       "      <th>1</th>\n",
       "      <td>2.034740</td>\n",
       "      <td>2.007745</td>\n",
       "      <td>2.001684</td>\n",
       "      <td>1.969782</td>\n",
       "      <td>1.957240</td>\n",
       "      <td>1.861348</td>\n",
       "      <td>1.167462</td>\n",
       "      <td>روغن زیتون فدک 1 لیتری مزرعه ارگانیک فدک سید ا...</td>\n",
       "      <td>6600000.0</td>\n",
       "    </tr>\n",
       "    <tr>\n",
       "      <th>2</th>\n",
       "      <td>1.878222</td>\n",
       "      <td>1.853303</td>\n",
       "      <td>1.847709</td>\n",
       "      <td>1.818260</td>\n",
       "      <td>1.806683</td>\n",
       "      <td>1.718167</td>\n",
       "      <td>1.077657</td>\n",
       "      <td>عناب درجه یک  بیرجند یک کیلویی. تضمین کیفیت و ...</td>\n",
       "      <td>1360000.0</td>\n",
       "    </tr>\n",
       "    <tr>\n",
       "      <th>3</th>\n",
       "      <td>1.721703</td>\n",
       "      <td>1.698861</td>\n",
       "      <td>1.693733</td>\n",
       "      <td>1.666738</td>\n",
       "      <td>1.656126</td>\n",
       "      <td>1.574987</td>\n",
       "      <td>0.987852</td>\n",
       "      <td>هل سبز اکبر بنفش50گرمی.  سبز ودرشت وبسیار معطر</td>\n",
       "      <td>1054000.0</td>\n",
       "    </tr>\n",
       "    <tr>\n",
       "      <th>4</th>\n",
       "      <td>1.721703</td>\n",
       "      <td>1.698861</td>\n",
       "      <td>1.693733</td>\n",
       "      <td>1.666738</td>\n",
       "      <td>1.656126</td>\n",
       "      <td>1.574987</td>\n",
       "      <td>0.987852</td>\n",
       "      <td>زرشک دانه اناری اعلا 1402(یک کیلویی).محصول تضم...</td>\n",
       "      <td>1830000.0</td>\n",
       "    </tr>\n",
       "    <tr>\n",
       "      <th>...</th>\n",
       "      <td>...</td>\n",
       "      <td>...</td>\n",
       "      <td>...</td>\n",
       "      <td>...</td>\n",
       "      <td>...</td>\n",
       "      <td>...</td>\n",
       "      <td>...</td>\n",
       "      <td>...</td>\n",
       "      <td>...</td>\n",
       "    </tr>\n",
       "    <tr>\n",
       "      <th>2411353</th>\n",
       "      <td>0.000000</td>\n",
       "      <td>0.000000</td>\n",
       "      <td>0.000000</td>\n",
       "      <td>0.000000</td>\n",
       "      <td>0.000000</td>\n",
       "      <td>0.000000</td>\n",
       "      <td>0.000000</td>\n",
       "      <td>گارد سیلیکونی   MI  NOTE9  PRO</td>\n",
       "      <td>950000.0</td>\n",
       "    </tr>\n",
       "    <tr>\n",
       "      <th>2411354</th>\n",
       "      <td>0.000000</td>\n",
       "      <td>0.000000</td>\n",
       "      <td>0.000000</td>\n",
       "      <td>0.000000</td>\n",
       "      <td>0.000000</td>\n",
       "      <td>0.000000</td>\n",
       "      <td>0.000000</td>\n",
       "      <td>استند لوگو گیم سوپر ماریو Super Mario جنس چوب ...</td>\n",
       "      <td>1350000.0</td>\n",
       "    </tr>\n",
       "    <tr>\n",
       "      <th>2411355</th>\n",
       "      <td>0.000000</td>\n",
       "      <td>0.000000</td>\n",
       "      <td>0.000000</td>\n",
       "      <td>0.000000</td>\n",
       "      <td>0.000000</td>\n",
       "      <td>0.000000</td>\n",
       "      <td>0.000000</td>\n",
       "      <td>گارد.کاورشیائومی POCO-F3مدل اکلیلی رنگ صورتی ط...</td>\n",
       "      <td>1190000.0</td>\n",
       "    </tr>\n",
       "    <tr>\n",
       "      <th>2411356</th>\n",
       "      <td>0.000000</td>\n",
       "      <td>0.000000</td>\n",
       "      <td>0.000000</td>\n",
       "      <td>0.000000</td>\n",
       "      <td>0.000000</td>\n",
       "      <td>0.000000</td>\n",
       "      <td>0.000000</td>\n",
       "      <td>بند miband3  miband4و5و6و7</td>\n",
       "      <td>550000.0</td>\n",
       "    </tr>\n",
       "    <tr>\n",
       "      <th>2411357</th>\n",
       "      <td>0.000000</td>\n",
       "      <td>0.000000</td>\n",
       "      <td>0.000000</td>\n",
       "      <td>0.000000</td>\n",
       "      <td>0.000000</td>\n",
       "      <td>0.000000</td>\n",
       "      <td>0.000000</td>\n",
       "      <td>گارد طرح دار نوکیا 7.</td>\n",
       "      <td>355000.0</td>\n",
       "    </tr>\n",
       "  </tbody>\n",
       "</table>\n",
       "<p>2411358 rows × 9 columns</p>\n",
       "</div>"
      ],
      "text/plain": [
       "           Monday   Tuesday    Sunday  Wednesday  Saturday  Thursday  \\\n",
       "0        2.191259  2.162187  2.155660   2.121303  2.107797  2.004529   \n",
       "1        2.034740  2.007745  2.001684   1.969782  1.957240  1.861348   \n",
       "2        1.878222  1.853303  1.847709   1.818260  1.806683  1.718167   \n",
       "3        1.721703  1.698861  1.693733   1.666738  1.656126  1.574987   \n",
       "4        1.721703  1.698861  1.693733   1.666738  1.656126  1.574987   \n",
       "...           ...       ...       ...        ...       ...       ...   \n",
       "2411353  0.000000  0.000000  0.000000   0.000000  0.000000  0.000000   \n",
       "2411354  0.000000  0.000000  0.000000   0.000000  0.000000  0.000000   \n",
       "2411355  0.000000  0.000000  0.000000   0.000000  0.000000  0.000000   \n",
       "2411356  0.000000  0.000000  0.000000   0.000000  0.000000  0.000000   \n",
       "2411357  0.000000  0.000000  0.000000   0.000000  0.000000  0.000000   \n",
       "\n",
       "           Friday                                               name  \\\n",
       "0        1.257266  پسته فندقی خندان امسالی یک کیلویی تضمین کیفیت ...   \n",
       "1        1.167462  روغن زیتون فدک 1 لیتری مزرعه ارگانیک فدک سید ا...   \n",
       "2        1.077657  عناب درجه یک  بیرجند یک کیلویی. تضمین کیفیت و ...   \n",
       "3        0.987852     هل سبز اکبر بنفش50گرمی.  سبز ودرشت وبسیار معطر   \n",
       "4        0.987852  زرشک دانه اناری اعلا 1402(یک کیلویی).محصول تضم...   \n",
       "...           ...                                                ...   \n",
       "2411353  0.000000       گارد سیلیکونی   MI  NOTE9  PRO                 \n",
       "2411354  0.000000  استند لوگو گیم سوپر ماریو Super Mario جنس چوب ...   \n",
       "2411355  0.000000  گارد.کاورشیائومی POCO-F3مدل اکلیلی رنگ صورتی ط...   \n",
       "2411356  0.000000                         بند miband3  miband4و5و6و7   \n",
       "2411357  0.000000                              گارد طرح دار نوکیا 7.   \n",
       "\n",
       "             price  \n",
       "0        5170000.0  \n",
       "1        6600000.0  \n",
       "2        1360000.0  \n",
       "3        1054000.0  \n",
       "4        1830000.0  \n",
       "...            ...  \n",
       "2411353   950000.0  \n",
       "2411354  1350000.0  \n",
       "2411355  1190000.0  \n",
       "2411356   550000.0  \n",
       "2411357   355000.0  \n",
       "\n",
       "[2411358 rows x 9 columns]"
      ]
     },
     "execution_count": 32,
     "metadata": {},
     "output_type": "execute_result"
    }
   ],
   "source": [
    "df_daily_sales"
   ]
  },
  {
   "cell_type": "code",
   "execution_count": 33,
   "metadata": {},
   "outputs": [
    {
     "name": "stdout",
     "output_type": "stream",
     "text": [
      "Monday       16518.959003\n",
      "Tuesday      16299.797617\n",
      "Sunday       16250.597488\n",
      "Wednesday    15991.597060\n",
      "Saturday     15889.775806\n",
      "Thursday     15111.281722\n",
      "Friday        9477.991304\n",
      "dtype: float64\n"
     ]
    }
   ],
   "source": [
    "total_sales_per_day = df_daily_sales.drop(columns=[\"name\",\"price\"]).sum()\n",
    "print(total_sales_per_day)"
   ]
  },
  {
   "cell_type": "code",
   "execution_count": 34,
   "metadata": {},
   "outputs": [
    {
     "data": {
      "image/png": "[encoded data removed]",
      "text/plain": [
       "<Figure size 1000x500 with 1 Axes>"
      ]
     },
     "metadata": {},
     "output_type": "display_data"
    }
   ],
   "source": [
    "plt.figure(figsize=(10, 5))\n",
    "sns.barplot(x=total_sales_per_day.index, y=total_sales_per_day.values, palette=\"viridis\")\n",
    "plt.xlabel(\"Day of the Week\")\n",
    "plt.ylabel(\"Total Sales\")\n",
    "plt.title(\"Estimated Daily Sales Distribution\")\n",
    "plt.xticks(rotation=45)\n",
    "plt.show()"
   ]
  },
  {
   "cell_type": "code",
   "execution_count": 35,
   "metadata": {},
   "outputs": [
    {
     "data": {
      "application/vnd.microsoft.datawrangler.viewer.v0+json": {
       "columns": [
        {
         "name": "index",
         "rawType": "int64",
         "type": "integer"
        },
        {
         "name": "Monday",
         "rawType": "float64",
         "type": "float"
        },
        {
         "name": "Tuesday",
         "rawType": "float64",
         "type": "float"
        },
        {
         "name": "Sunday",
         "rawType": "float64",
         "type": "float"
        },
        {
         "name": "Wednesday",
         "rawType": "float64",
         "type": "float"
        },
        {
         "name": "Saturday",
         "rawType": "float64",
         "type": "float"
        },
        {
         "name": "Thursday",
         "rawType": "float64",
         "type": "float"
        },
        {
         "name": "Friday",
         "rawType": "float64",
         "type": "float"
        },
        {
         "name": "name",
         "rawType": "object",
         "type": "unknown"
        },
        {
         "name": "price",
         "rawType": "float64",
         "type": "float"
        }
       ],
       "conversionMethod": "pd.DataFrame",
       "ref": "f6901525-3376-4fde-9265-3d6447672119",
       "rows": [
        [
         "0",
         "2.191258537459327",
         "2.162186532546513",
         "2.1556600799039596",
         "2.1213033810372193",
         "2.107796676895804",
         "2.004528558976465",
         "1.2572662331807116",
         "پسته فندقی خندان امسالی یک کیلویی تضمین کیفیت و مرجوعی. ",
         "5170000.0"
        ],
        [
         "1",
         "2.034740070497947",
         "2.007744637364619",
         "2.0016843599108194",
         "1.9697817109631321",
         "1.9572397714032461",
         "1.8613479476210035",
         "1.167461502239232",
         "روغن زیتون فدک 1 لیتری مزرعه ارگانیک فدک سید احمد بلند نظر",
         "6600000.0"
        ],
        [
         "2",
         "1.8782216035365664",
         "1.8533027421827253",
         "1.8477086399176796",
         "1.818260040889045",
         "1.8066828659106888",
         "1.7181673362655419",
         "1.0776567712977527",
         "عناب درجه یک  بیرجند یک کیلویی. تضمین کیفیت و مرجوعی ",
         "1360000.0"
        ],
        [
         "3",
         "1.7217031365751858",
         "1.6988608470008315",
         "1.6937329199245397",
         "1.6667383708149581",
         "1.6561259604181315",
         "1.57498672491008",
         "0.9878520403562734",
         "هل سبز اکبر بنفش50گرمی.  سبز ودرشت وبسیار معطر",
         "1054000.0"
        ],
        [
         "4",
         "1.7217031365751858",
         "1.6988608470008315",
         "1.6937329199245397",
         "1.6667383708149581",
         "1.6561259604181315",
         "1.57498672491008",
         "0.9878520403562734",
         "زرشک دانه اناری اعلا 1402(یک کیلویی).محصول تضمین کیفیت ومرجوعی داره",
         "1830000.0"
        ],
        [
         "5",
         "1.7217031365751858",
         "1.6988608470008315",
         "1.6937329199245397",
         "1.6667383708149581",
         "1.6561259604181315",
         "1.57498672491008",
         "0.9878520403562734",
         " کیمچی کاهو",
         "980000.0"
        ],
        [
         "6",
         "1.5651846696138052",
         "1.5444189518189377",
         "1.5397571999313997",
         "1.515216700740871",
         "1.505569054925574",
         "1.431806113554618",
         "0.8980473094147939",
         "عسل چهل گیاه خوشمزه ( 1 کیلو) ساکارز زیر پنج 165 تومن ",
         "1650000.0"
        ],
        [
         "7",
         "1.5651846696138052",
         "1.5444189518189377",
         "1.5397571999313997",
         "1.515216700740871",
         "1.505569054925574",
         "1.431806113554618",
         "0.8980473094147939",
         "هل 25گرمی برتر. اکبر بنفش.تضمین کیفیت. دانه درشت. سبز.بسیارمعطر. ",
         "587000.0"
        ],
        [
         "8",
         "1.5651846696138052",
         "1.5444189518189377",
         "1.5397571999313997",
         "1.515216700740871",
         "1.505569054925574",
         "1.431806113554618",
         "0.8980473094147939",
         "مربای زرشک غلیظ اعلا خانگی.تازه. تولید اول ابان ماه ",
         "687000.0"
        ],
        [
         "9",
         "1.4086662026524248",
         "1.389977056637044",
         "1.3857814799382597",
         "1.3636950306667839",
         "1.3550121494330165",
         "1.2886255021991564",
         "0.8082425784733145",
         "برنج عنبر بو با کد تخفیف ویژه 10 کیلو  مستقیم از کارخانه تا سفره ی شما عزیزان امساله خوزستان گران نخرید ارسال رایگان ",
         "5990000.0"
        ],
        [
         "10",
         "1.4086662026524248",
         "1.389977056637044",
         "1.3857814799382597",
         "1.3636950306667839",
         "1.3550121494330165",
         "1.2886255021991564",
         "0.8082425784733145",
         "نبات زعفرانی لوکس بسته بندی6تایی ",
         "270000.0"
        ],
        [
         "11",
         "1.4086662026524248",
         "1.389977056637044",
         "1.3857814799382597",
         "1.3636950306667839",
         "1.3550121494330165",
         "1.2886255021991564",
         "0.8082425784733145",
         "مغز پسته سالم وگلدار 500گرمی.محصول ضمانت کیفیت ومرجوعی دارد",
         "4670000.0"
        ],
        [
         "12",
         "1.4086662026524248",
         "1.389977056637044",
         "1.3857814799382597",
         "1.3636950306667839",
         "1.3550121494330165",
         "1.2886255021991564",
         "0.8082425784733145",
         "نبات گیاهی لوکس بسته بندی12تایی ",
         "785000.0"
        ],
        [
         "13",
         "1.4086662026524248",
         "1.389977056637044",
         "1.3857814799382597",
         "1.3636950306667839",
         "1.3550121494330165",
         "1.2886255021991564",
         "0.8082425784733145",
         "کشمش سبز اعلا 500گرمی. محصول ضمانت کیفیت ومرجوعی دارد",
         "987000.0"
        ],
        [
         "14",
         "1.4086662026524248",
         "1.389977056637044",
         "1.3857814799382597",
         "1.3636950306667839",
         "1.3550121494330165",
         "1.2886255021991564",
         "0.8082425784733145",
         "مغز پسته درشت اعلا 500گرمی(کاملا سالم وگلدار ) تضمین کیفیت ومرجوعی بدون قید وشرط. ",
         "4485000.0"
        ],
        [
         "15",
         "1.4086662026524248",
         "1.389977056637044",
         "1.3857814799382597",
         "1.3636950306667839",
         "1.3550121494330165",
         "1.2886255021991564",
         "0.8082425784733145",
         "اجیل چهار مغز شور تازه درجه یک تخفیف ویژه عید نوروز  1 کیلو گرم",
         "6900000.0"
        ],
        [
         "16",
         "1.2521477356910442",
         "1.2355351614551502",
         "1.2318057599451198",
         "1.2121733605926968",
         "1.2044552439404592",
         "1.1454448908436945",
         "0.7184378475318351",
         "جوانه گندم بین استار 25 ساشه ای اصل قویترین پرکننده صورت  ",
         "1115000.0"
        ],
        [
         "17",
         "1.0956292687296636",
         "1.0810932662732564",
         "1.0778300399519798",
         "1.0606516905186096",
         "1.053898338447902",
         "1.0022642794882326",
         "0.6286331165903558",
         "شکلات ترافل پینک محصول کشور روسیه . pink truffle",
         "1090000.0"
        ],
        [
         "18",
         "0.9391108017682832",
         "0.9266513710913626",
         "0.9238543199588398",
         "0.9091300204445225",
         "0.9033414329553444",
         "0.8590836681327709",
         "0.5388283856488764",
         "ارده کنجد فله 10 کیلویی",
         "13700000.0"
        ],
        [
         "19",
         "0.9391108017682832",
         "0.9266513710913626",
         "0.9238543199588398",
         "0.9091300204445225",
         "0.9033414329553444",
         "0.8590836681327709",
         "0.5388283856488764",
         "برنج قهوه ای 10 کیلویی مستقیم از کارخانه تا سفره ی شما عزیزان ",
         "5350000.0"
        ],
        [
         "20",
         "0.9391108017682832",
         "0.9266513710913626",
         "0.9238543199588398",
         "0.9091300204445225",
         "0.9033414329553444",
         "0.8590836681327709",
         "0.5388283856488764",
         "آرد برنج موچی گلوتینوس 500 گرم برند مونتی اصل ویتنام پک1عددی آرد مونتی موچی",
         "1550000.0"
        ],
        [
         "21",
         "0.9391108017682832",
         "0.9266513710913626",
         "0.9238543199588398",
         "0.9091300204445225",
         "0.9033414329553444",
         "0.8590836681327709",
         "0.5388283856488764",
         "ارده کنجد ممتاز اردکان یک کیلویی  با تضمین کیفیت ",
         "1650000.0"
        ],
        [
         "22",
         "0.9391108017682832",
         "0.9266513710913626",
         "0.9238543199588398",
         "0.9091300204445225",
         "0.9033414329553444",
         "0.8590836681327709",
         "0.5388283856488764",
         "پک افطاری روزه اولی ها (شما خرید میکنید ما به دست نیازمندان میرسانیم)",
         "1500000.0"
        ],
        [
         "23",
         "0.7825923348069026",
         "0.7722094759094689",
         "0.7698785999656999",
         "0.7576083503704355",
         "0.752784527462787",
         "0.715903056777309",
         "0.44902365470739697",
         "بادام زمینی شور آستانه درجه یک و تازه امساله 250 گرمی",
         "880000.0"
        ],
        [
         "24",
         "0.7825923348069026",
         "0.7722094759094689",
         "0.7698785999656999",
         "0.7576083503704355",
         "0.752784527462787",
         "0.715903056777309",
         "0.44902365470739697",
         "عسل دیابتی کوهستان 1کیلویی ساکارز زیر نیم درصد(مستقبم از زنبوردار)ارسال رایگان",
         "2770000.0"
        ],
        [
         "25",
         "0.7825923348069026",
         "0.7722094759094689",
         "0.7698785999656999",
         "0.7576083503704355",
         "0.752784527462787",
         "0.715903056777309",
         "0.44902365470739697",
         "پودر چهار زیره اعلا 100 گرمی اعتماد تازه ساب(چهارزیره)",
         "297000.0"
        ],
        [
         "26",
         "0.7825923348069026",
         "0.7722094759094689",
         "0.7698785999656999",
         "0.7576083503704355",
         "0.752784527462787",
         "0.715903056777309",
         "0.44902365470739697",
         "سیب زمینی شیرین نارنجی به صورت ضربه خورده 1کیلوگرمی  ( ارسال با باربری ویا  تیپاکس و پس کرایه)",
         "1800000.0"
        ],
        [
         "27",
         "0.7825923348069026",
         "0.7722094759094689",
         "0.7698785999656999",
         "0.7576083503704355",
         "0.752784527462787",
         "0.715903056777309",
         "0.44902365470739697",
         "آجیل عید پک ویژه 7 قلم 2400 گرم بعلاوه هدیه و ارسال رایگان آجیل و خشکبار روناس",
         "9970000.0"
        ],
        [
         "28",
         "0.7825923348069026",
         "0.7722094759094689",
         "0.7698785999656999",
         "0.7576083503704355",
         "0.752784527462787",
         "0.715903056777309",
         "0.44902365470739697",
         "برنج طارم هاشمی آستانه اشرفیه 10 کیلو",
         "8500000.0"
        ],
        [
         "29",
         "0.7825923348069026",
         "0.7722094759094689",
         "0.7698785999656999",
         "0.7576083503704355",
         "0.752784527462787",
         "0.715903056777309",
         "0.44902365470739697",
         "مغز بادام کوهی  شیراز 500 گرم(بوداده بدون نمک)",
         "2900000.0"
        ],
        [
         "30",
         "0.7825923348069026",
         "0.7722094759094689",
         "0.7698785999656999",
         "0.7576083503704355",
         "0.752784527462787",
         "0.715903056777309",
         "0.44902365470739697",
         "عصاره زعفران ممتاز قائنات ( قاینات )  یک لیتر",
         "320000.0"
        ],
        [
         "31",
         "0.7825923348069026",
         "0.7722094759094689",
         "0.7698785999656999",
         "0.7576083503704355",
         "0.752784527462787",
         "0.715903056777309",
         "0.44902365470739697",
         "عسل طبیعی کوهی خام 1 کیلویی (مستقیم از زنبوردار)ارسال رایگان",
         "1870000.0"
        ],
        [
         "32",
         "0.7825923348069026",
         "0.7722094759094689",
         "0.7698785999656999",
         "0.7576083503704355",
         "0.752784527462787",
         "0.715903056777309",
         "0.44902365470739697",
         "پسته اکبری شور زعفرانی امسالی درجه یک، یک کیلویی ارسال رایگان",
         "6300000.0"
        ],
        [
         "33",
         "0.7825923348069026",
         "0.7722094759094689",
         "0.7698785999656999",
         "0.7576083503704355",
         "0.752784527462787",
         "0.715903056777309",
         "0.44902365470739697",
         "چیپس ذرت پنیری اسنک تازه و خوشمزه 200 گرمی آجیل و خشکبار مهران ",
         "336000.0"
        ],
        [
         "34",
         "0.7825923348069026",
         "0.7722094759094689",
         "0.7698785999656999",
         "0.7576083503704355",
         "0.752784527462787",
         "0.715903056777309",
         "0.44902365470739697",
         "چای سبز  لاهیجان اصل قلم بدون ساقه طبیعی محصول بهاره امساله (1000گرمی) فقط برگ",
         "1700000.0"
        ],
        [
         "35",
         "0.7825923348069026",
         "0.7722094759094689",
         "0.7698785999656999",
         "0.7576083503704355",
         "0.752784527462787",
         "0.715903056777309",
         "0.44902365470739697",
         "قرص قهوه دبل کافی جویدنی مکنون اصلی 24 عدد در هر بسته آجیل و خشکبار مهران ",
         "380000.0"
        ],
        [
         "36",
         "0.7825923348069026",
         "0.7722094759094689",
         "0.7698785999656999",
         "0.7576083503704355",
         "0.752784527462787",
         "0.715903056777309",
         "0.44902365470739697",
         "آجیل مخلوط اقتصادی تازه 1000 گرمی ",
         "3290000.0"
        ],
        [
         "37",
         "0.7825923348069026",
         "0.7722094759094689",
         "0.7698785999656999",
         "0.7576083503704355",
         "0.752784527462787",
         "0.715903056777309",
         "0.44902365470739697",
         "پاستیل مخلوط آیدین خوشمزه و تازه 200 گرمی آجیل و خشکبار مهران ",
         "330000.0"
        ],
        [
         "38",
         "0.7825923348069026",
         "0.7722094759094689",
         "0.7698785999656999",
         "0.7576083503704355",
         "0.752784527462787",
         "0.715903056777309",
         "0.44902365470739697",
         "خرما شاهانی لوکس بوشهر 3کیلویی بدون شیره ",
         "2100000.0"
        ],
        [
         "39",
         "0.7825923348069026",
         "0.7722094759094689",
         "0.7698785999656999",
         "0.7576083503704355",
         "0.752784527462787",
         "0.715903056777309",
         "0.44902365470739697",
         "پودر زعفران زرین خراسان 20 گرمی با کیفیت وعطر عالی پودرزعفران سفارش بالای 50 عدد",
         "57500.0"
        ],
        [
         "40",
         "0.6260738678455221",
         "0.6177675807275751",
         "0.6159028799725599",
         "0.6060866802963484",
         "0.6022276219702296",
         "0.5727224454218472",
         "0.3592189237659176",
         "عصاره زعفران ممتاز قائنات(ممتاز و درجه یک)",
         "190000.0"
        ],
        [
         "41",
         "0.6260738678455221",
         "0.6177675807275751",
         "0.6159028799725599",
         "0.6060866802963484",
         "0.6022276219702296",
         "0.5727224454218472",
         "0.3592189237659176",
         "نودل هاتی کارا",
         "58000.0"
        ],
        [
         "42",
         "0.6260738678455221",
         "0.6177675807275751",
         "0.6159028799725599",
         "0.6060866802963484",
         "0.6022276219702296",
         "0.5727224454218472",
         "0.3592189237659176",
         "دانه سویا( لوبیای سویا خام ) 1 کیلویی اعلا",
         "899000.0"
        ],
        [
         "43",
         "0.6260738678455221",
         "0.6177675807275751",
         "0.6159028799725599",
         "0.6060866802963484",
         "0.6022276219702296",
         "0.5727224454218472",
         "0.3592189237659176",
         "چای سیاه قلم لیزری اعلا بدون ساقه یک کیلویی",
         "1250000.0"
        ],
        [
         "44",
         "0.6260738678455221",
         "0.6177675807275751",
         "0.6159028799725599",
         "0.6060866802963484",
         "0.6022276219702296",
         "0.5727224454218472",
         "0.3592189237659176",
         "خرید نمک اپسوم یا سولفات منیزیم خوراکی بسته 400  گرمی",
         "1350000.0"
        ],
        [
         "45",
         "0.6260738678455221",
         "0.6177675807275751",
         "0.6159028799725599",
         "0.6060866802963484",
         "0.6022276219702296",
         "0.5727224454218472",
         "0.3592189237659176",
         "تخم نطفه دار قرقاول",
         "250000.0"
        ],
        [
         "46",
         "0.6260738678455221",
         "0.6177675807275751",
         "0.6159028799725599",
         "0.6060866802963484",
         "0.6022276219702296",
         "0.5727224454218472",
         "0.3592189237659176",
         "پودر ژله کرم کارامل وانیلی جلید دراژه 50گرمی",
         "139500.0"
        ],
        [
         "47",
         "0.6260738678455221",
         "0.6177675807275751",
         "0.6159028799725599",
         "0.6060866802963484",
         "0.6022276219702296",
         "0.5727224454218472",
         "0.3592189237659176",
         "خرید عسل چهل گیاه (3 کیلو )ساکارز زیر پنج ارسال به سراسر کشور رایگان",
         "4450000.0"
        ],
        [
         "48",
         "0.6260738678455221",
         "0.6177675807275751",
         "0.6159028799725599",
         "0.6060866802963484",
         "0.6022276219702296",
         "0.5727224454218472",
         "0.3592189237659176",
         "عرق کاسنی 1لیتری(کیفیت عالی)",
         "450000.0"
        ],
        [
         "49",
         "0.6260738678455221",
         "0.6177675807275751",
         "0.6159028799725599",
         "0.6060866802963484",
         "0.6022276219702296",
         "0.5727224454218472",
         "0.3592189237659176",
         "چای سرگل زرین 1402 (900گرمی) دستچین چین اول ",
         "1990000.0"
        ]
       ],
       "shape": {
        "columns": 9,
        "rows": 2411358
       }
      },
      "text/html": [
       "<div>\n",
       "<style scoped>\n",
       "    .dataframe tbody tr th:only-of-type {\n",
       "        vertical-align: middle;\n",
       "    }\n",
       "\n",
       "    .dataframe tbody tr th {\n",
       "        vertical-align: top;\n",
       "    }\n",
       "\n",
       "    .dataframe thead th {\n",
       "        text-align: right;\n",
       "    }\n",
       "</style>\n",
       "<table border=\"1\" class=\"dataframe\">\n",
       "  <thead>\n",
       "    <tr style=\"text-align: right;\">\n",
       "      <th></th>\n",
       "      <th>Monday</th>\n",
       "      <th>Tuesday</th>\n",
       "      <th>Sunday</th>\n",
       "      <th>Wednesday</th>\n",
       "      <th>Saturday</th>\n",
       "      <th>Thursday</th>\n",
       "      <th>Friday</th>\n",
       "      <th>name</th>\n",
       "      <th>price</th>\n",
       "    </tr>\n",
       "  </thead>\n",
       "  <tbody>\n",
       "    <tr>\n",
       "      <th>0</th>\n",
       "      <td>2.191259</td>\n",
       "      <td>2.162187</td>\n",
       "      <td>2.155660</td>\n",
       "      <td>2.121303</td>\n",
       "      <td>2.107797</td>\n",
       "      <td>2.004529</td>\n",
       "      <td>1.257266</td>\n",
       "      <td>پسته فندقی خندان امسالی یک کیلویی تضمین کیفیت ...</td>\n",
       "      <td>5170000.0</td>\n",
       "    </tr>\n",
       "    <tr>\n",
       "      <th>1</th>\n",
       "      <td>2.034740</td>\n",
       "      <td>2.007745</td>\n",
       "      <td>2.001684</td>\n",
       "      <td>1.969782</td>\n",
       "      <td>1.957240</td>\n",
       "      <td>1.861348</td>\n",
       "      <td>1.167462</td>\n",
       "      <td>روغن زیتون فدک 1 لیتری مزرعه ارگانیک فدک سید ا...</td>\n",
       "      <td>6600000.0</td>\n",
       "    </tr>\n",
       "    <tr>\n",
       "      <th>2</th>\n",
       "      <td>1.878222</td>\n",
       "      <td>1.853303</td>\n",
       "      <td>1.847709</td>\n",
       "      <td>1.818260</td>\n",
       "      <td>1.806683</td>\n",
       "      <td>1.718167</td>\n",
       "      <td>1.077657</td>\n",
       "      <td>عناب درجه یک  بیرجند یک کیلویی. تضمین کیفیت و ...</td>\n",
       "      <td>1360000.0</td>\n",
       "    </tr>\n",
       "    <tr>\n",
       "      <th>3</th>\n",
       "      <td>1.721703</td>\n",
       "      <td>1.698861</td>\n",
       "      <td>1.693733</td>\n",
       "      <td>1.666738</td>\n",
       "      <td>1.656126</td>\n",
       "      <td>1.574987</td>\n",
       "      <td>0.987852</td>\n",
       "      <td>هل سبز اکبر بنفش50گرمی.  سبز ودرشت وبسیار معطر</td>\n",
       "      <td>1054000.0</td>\n",
       "    </tr>\n",
       "    <tr>\n",
       "      <th>4</th>\n",
       "      <td>1.721703</td>\n",
       "      <td>1.698861</td>\n",
       "      <td>1.693733</td>\n",
       "      <td>1.666738</td>\n",
       "      <td>1.656126</td>\n",
       "      <td>1.574987</td>\n",
       "      <td>0.987852</td>\n",
       "      <td>زرشک دانه اناری اعلا 1402(یک کیلویی).محصول تضم...</td>\n",
       "      <td>1830000.0</td>\n",
       "    </tr>\n",
       "    <tr>\n",
       "      <th>...</th>\n",
       "      <td>...</td>\n",
       "      <td>...</td>\n",
       "      <td>...</td>\n",
       "      <td>...</td>\n",
       "      <td>...</td>\n",
       "      <td>...</td>\n",
       "      <td>...</td>\n",
       "      <td>...</td>\n",
       "      <td>...</td>\n",
       "    </tr>\n",
       "    <tr>\n",
       "      <th>2411353</th>\n",
       "      <td>0.000000</td>\n",
       "      <td>0.000000</td>\n",
       "      <td>0.000000</td>\n",
       "      <td>0.000000</td>\n",
       "      <td>0.000000</td>\n",
       "      <td>0.000000</td>\n",
       "      <td>0.000000</td>\n",
       "      <td>گارد سیلیکونی   MI  NOTE9  PRO</td>\n",
       "      <td>950000.0</td>\n",
       "    </tr>\n",
       "    <tr>\n",
       "      <th>2411354</th>\n",
       "      <td>0.000000</td>\n",
       "      <td>0.000000</td>\n",
       "      <td>0.000000</td>\n",
       "      <td>0.000000</td>\n",
       "      <td>0.000000</td>\n",
       "      <td>0.000000</td>\n",
       "      <td>0.000000</td>\n",
       "      <td>استند لوگو گیم سوپر ماریو Super Mario جنس چوب ...</td>\n",
       "      <td>1350000.0</td>\n",
       "    </tr>\n",
       "    <tr>\n",
       "      <th>2411355</th>\n",
       "      <td>0.000000</td>\n",
       "      <td>0.000000</td>\n",
       "      <td>0.000000</td>\n",
       "      <td>0.000000</td>\n",
       "      <td>0.000000</td>\n",
       "      <td>0.000000</td>\n",
       "      <td>0.000000</td>\n",
       "      <td>گارد.کاورشیائومی POCO-F3مدل اکلیلی رنگ صورتی ط...</td>\n",
       "      <td>1190000.0</td>\n",
       "    </tr>\n",
       "    <tr>\n",
       "      <th>2411356</th>\n",
       "      <td>0.000000</td>\n",
       "      <td>0.000000</td>\n",
       "      <td>0.000000</td>\n",
       "      <td>0.000000</td>\n",
       "      <td>0.000000</td>\n",
       "      <td>0.000000</td>\n",
       "      <td>0.000000</td>\n",
       "      <td>بند miband3  miband4و5و6و7</td>\n",
       "      <td>550000.0</td>\n",
       "    </tr>\n",
       "    <tr>\n",
       "      <th>2411357</th>\n",
       "      <td>0.000000</td>\n",
       "      <td>0.000000</td>\n",
       "      <td>0.000000</td>\n",
       "      <td>0.000000</td>\n",
       "      <td>0.000000</td>\n",
       "      <td>0.000000</td>\n",
       "      <td>0.000000</td>\n",
       "      <td>گارد طرح دار نوکیا 7.</td>\n",
       "      <td>355000.0</td>\n",
       "    </tr>\n",
       "  </tbody>\n",
       "</table>\n",
       "<p>2411358 rows × 9 columns</p>\n",
       "</div>"
      ],
      "text/plain": [
       "           Monday   Tuesday    Sunday  Wednesday  Saturday  Thursday  \\\n",
       "0        2.191259  2.162187  2.155660   2.121303  2.107797  2.004529   \n",
       "1        2.034740  2.007745  2.001684   1.969782  1.957240  1.861348   \n",
       "2        1.878222  1.853303  1.847709   1.818260  1.806683  1.718167   \n",
       "3        1.721703  1.698861  1.693733   1.666738  1.656126  1.574987   \n",
       "4        1.721703  1.698861  1.693733   1.666738  1.656126  1.574987   \n",
       "...           ...       ...       ...        ...       ...       ...   \n",
       "2411353  0.000000  0.000000  0.000000   0.000000  0.000000  0.000000   \n",
       "2411354  0.000000  0.000000  0.000000   0.000000  0.000000  0.000000   \n",
       "2411355  0.000000  0.000000  0.000000   0.000000  0.000000  0.000000   \n",
       "2411356  0.000000  0.000000  0.000000   0.000000  0.000000  0.000000   \n",
       "2411357  0.000000  0.000000  0.000000   0.000000  0.000000  0.000000   \n",
       "\n",
       "           Friday                                               name  \\\n",
       "0        1.257266  پسته فندقی خندان امسالی یک کیلویی تضمین کیفیت ...   \n",
       "1        1.167462  روغن زیتون فدک 1 لیتری مزرعه ارگانیک فدک سید ا...   \n",
       "2        1.077657  عناب درجه یک  بیرجند یک کیلویی. تضمین کیفیت و ...   \n",
       "3        0.987852     هل سبز اکبر بنفش50گرمی.  سبز ودرشت وبسیار معطر   \n",
       "4        0.987852  زرشک دانه اناری اعلا 1402(یک کیلویی).محصول تضم...   \n",
       "...           ...                                                ...   \n",
       "2411353  0.000000       گارد سیلیکونی   MI  NOTE9  PRO                 \n",
       "2411354  0.000000  استند لوگو گیم سوپر ماریو Super Mario جنس چوب ...   \n",
       "2411355  0.000000  گارد.کاورشیائومی POCO-F3مدل اکلیلی رنگ صورتی ط...   \n",
       "2411356  0.000000                         بند miband3  miband4و5و6و7   \n",
       "2411357  0.000000                              گارد طرح دار نوکیا 7.   \n",
       "\n",
       "             price  \n",
       "0        5170000.0  \n",
       "1        6600000.0  \n",
       "2        1360000.0  \n",
       "3        1054000.0  \n",
       "4        1830000.0  \n",
       "...            ...  \n",
       "2411353   950000.0  \n",
       "2411354  1350000.0  \n",
       "2411355  1190000.0  \n",
       "2411356   550000.0  \n",
       "2411357   355000.0  \n",
       "\n",
       "[2411358 rows x 9 columns]"
      ]
     },
     "execution_count": 35,
     "metadata": {},
     "output_type": "execute_result"
    }
   ],
   "source": [
    "df_daily_sales"
   ]
  },
  {
   "cell_type": "code",
   "execution_count": 36,
   "metadata": {},
   "outputs": [],
   "source": [
    "df_revenue_per_product = df_daily_sales.copy()"
   ]
  },
  {
   "cell_type": "code",
   "execution_count": 37,
   "metadata": {},
   "outputs": [
    {
     "name": "stdout",
     "output_type": "stream",
     "text": [
      "Monday       5.419762e+10\n",
      "Tuesday      5.347857e+10\n",
      "Sunday       5.331714e+10\n",
      "Wednesday    5.246738e+10\n",
      "Saturday     5.213331e+10\n",
      "Thursday     4.957912e+10\n",
      "Friday       3.109667e+10\n",
      "dtype: float64\n"
     ]
    }
   ],
   "source": [
    "weekdays = [\"Monday\", \"Tuesday\", \"Sunday\", \"Wednesday\", \"Saturday\", \"Thursday\", \"Friday\"]\n",
    "for day in weekdays:\n",
    "    df_revenue_per_product[day] = df_revenue_per_product[day] * df_revenue_per_product[\"price\"]\n",
    "\n",
    "daily_total_revenue = df_revenue_per_product[weekdays].sum()\n",
    "\n",
    "print(daily_total_revenue)"
   ]
  },
  {
   "cell_type": "code",
   "execution_count": 38,
   "metadata": {},
   "outputs": [
    {
     "name": "stdout",
     "output_type": "stream",
     "text": [
      "Monday        54.2 B\n",
      "Tuesday      53.48 B\n",
      "Sunday       53.32 B\n",
      "Wednesday    52.47 B\n",
      "Saturday     52.13 B\n",
      "Thursday     49.58 B\n",
      "Friday        31.1 B\n",
      "dtype: object\n"
     ]
    }
   ],
   "source": [
    "daily_total_revenue_billion = daily_total_revenue / 1e9\n",
    "\n",
    "print(daily_total_revenue_billion.round(2).astype(str) + \" B\")"
   ]
  },
  {
   "cell_type": "code",
   "execution_count": 39,
   "metadata": {},
   "outputs": [
    {
     "name": "stderr",
     "output_type": "stream",
     "text": [
      "/opt/anaconda3/lib/python3.11/site-packages/seaborn/_oldcore.py:1765: FutureWarning: unique with argument that is not not a Series, Index, ExtensionArray, or np.ndarray is deprecated and will raise in a future version.\n",
      "  order = pd.unique(vector)\n"
     ]
    },
    {
     "data": {
      "image/png": "[encoded data removed]",
      "text/plain": [
       "<Figure size 1000x500 with 1 Axes>"
      ]
     },
     "metadata": {},
     "output_type": "display_data"
    }
   ],
   "source": [
    "plt.figure(figsize=(10, 5))\n",
    "sns.barplot(x=weekdays, y=daily_total_revenue.values, palette=\"coolwarm\")\n",
    "\n",
    "plt.xlabel(\"Days of the Week\")\n",
    "plt.ylabel(\"Total Revenue (Toman)\")\n",
    "plt.title(\"Daily Revenue Distribution\")\n",
    "plt.show()"
   ]
  },
  {
   "cell_type": "code",
   "execution_count": 40,
   "metadata": {},
   "outputs": [
    {
     "data": {
      "text/plain": [
       "Monday       5.419762e+10\n",
       "Tuesday      5.347857e+10\n",
       "Sunday       5.331714e+10\n",
       "Wednesday    5.246738e+10\n",
       "Saturday     5.213331e+10\n",
       "Thursday     4.957912e+10\n",
       "Friday       3.109667e+10\n",
       "dtype: float64"
      ]
     },
     "execution_count": 40,
     "metadata": {},
     "output_type": "execute_result"
    }
   ],
   "source": [
    "daily_total_revenue"
   ]
  },
  {
   "cell_type": "code",
   "execution_count": 41,
   "metadata": {},
   "outputs": [
    {
     "name": "stdout",
     "output_type": "stream",
     "text": [
      "Products : 22,337,060,839,089.00\n",
      "Answer : 346,269,809,374.00\n",
      "False\n"
     ]
    }
   ],
   "source": [
    "total_price_sum = df_daily_sales['price'].sum()\n",
    "\n",
    "total_revenue_sum = daily_total_revenue.sum()\n",
    "\n",
    "print(f\"Products : {total_price_sum:,.2f}\")\n",
    "print(f\"Answer : {total_revenue_sum:,.2f}\")\n",
    "\n",
    "if round(total_price_sum, 2) == round(total_revenue_sum, 2):\n",
    "    print(\"Correct answer\")\n",
    "else:\n",
    "    print(\"False\")"
   ]
  },
  {
   "cell_type": "code",
   "execution_count": 45,
   "metadata": {},
   "outputs": [
    {
     "name": "stdout",
     "output_type": "stream",
     "text": [
      "346269809374.0\n"
     ]
    }
   ],
   "source": [
    "total_price_sum = (df_products['sales_count_week'] * df_products['price']).sum()\n",
    "print(total_price_sum)"
   ]
  },
  {
   "cell_type": "markdown",
   "metadata": {},
   "source": [
    "# What is the amount of sales in different categories?"
   ]
  },
  {
   "cell_type": "code",
   "execution_count": 42,
   "metadata": {},
   "outputs": [
    {
     "data": {
      "application/vnd.microsoft.datawrangler.viewer.v0+json": {
       "columns": [
        {
         "name": "index",
         "rawType": "int64",
         "type": "integer"
        },
        {
         "name": "categoryTitle",
         "rawType": "object",
         "type": "string"
        },
        {
         "name": "sales_count_week",
         "rawType": "int64",
         "type": "integer"
        }
       ],
       "conversionMethod": "pd.DataFrame",
       "ref": "194fb943-326f-438c-9456-a5510277572a",
       "rows": [
        [
         "728",
         "کتاب چاپی",
         "2683"
        ],
        [
         "745",
         "کفش و دمپایی زنانه",
         "2165"
        ],
        [
         "101",
         "بذر و تخم گیاهان",
         "2022"
        ],
        [
         "750",
         "کفش، دمپایی مردانه",
         "1928"
        ],
        [
         "314",
         "سایر",
         "1838"
        ],
        [
         "420",
         "عطر و ادکلن زنانه و مردانه",
         "1808"
        ],
        [
         "536",
         "مانتو و تونیک",
         "1562"
        ],
        [
         "370",
         "شال و روسری زنانه",
         "1282"
        ],
        [
         "474",
         "لباس زیر زنانه",
         "1275"
        ],
        [
         "225",
         "داروهای گیاهی",
         "1237"
        ],
        [
         "299",
         "زیورآلات زنانه",
         "1172"
        ],
        [
         "52",
         "ادویه",
         "1141"
        ],
        [
         "528",
         "ماسک صورت",
         "1095"
        ],
        [
         "516",
         "لوازم پخت و پز",
         "1046"
        ],
        [
         "806",
         "گیاهان آپارتمانی",
         "965"
        ],
        [
         "114",
         "بلوز، پیراهن و شومیز زنانه",
         "960"
        ],
        [
         "326",
         "سایر لوازم خودرو",
         "930"
        ],
        [
         "807",
         "گیاهان دارویی",
         "929"
        ],
        [
         "730",
         "کرم دست، صورت و بدن",
         "922"
        ],
        [
         "377",
         "شلوار و سرهمی زنانه",
         "907"
        ],
        [
         "410",
         "ظروف سرو و پذیرایی",
         "758"
        ],
        [
         "180",
         "تیشرت و پولوشرت مردانه",
         "726"
        ],
        [
         "122",
         "تاپ و تیشرت زنانه",
         "722"
        ],
        [
         "149",
         "تجهیزات کمپینگ و کوهنوردی",
         "706"
        ],
        [
         "408",
         "ظروف آشپزخانه",
         "705"
        ],
        [
         "724",
         "کتاب های روانشناسی و خودیاری",
         "694"
        ],
        [
         "384",
         "شوینده بدن و مو",
         "693"
        ],
        [
         "779",
         "کیف زنانه",
         "691"
        ],
        [
         "379",
         "شلوار و شلوارک مردانه",
         "677"
        ],
        [
         "93",
         "بازی آموزشی و سرگرمی",
         "659"
        ],
        [
         "417",
         "عسل",
         "618"
        ],
        [
         "280",
         "روغن های درمانی",
         "590"
        ],
        [
         "467",
         "لامپ، چراغ و مهتابی",
         "581"
        ],
        [
         "75",
         "اکسسوری زنانه",
         "566"
        ],
        [
         "176",
         "تنقلات",
         "556"
        ],
        [
         "416",
         "عروسک و فیگور",
         "551"
        ],
        [
         "499",
         "لوازم جانبی هدفون و هدست",
         "548"
        ],
        [
         "601",
         "میوه خشک",
         "542"
        ],
        [
         "622",
         "نوشت افزار",
         "534"
        ],
        [
         "110",
         "بلوز و پیراهن مردانه",
         "533"
        ],
        [
         "41",
         "ابزار نظافت",
         "531"
        ],
        [
         "309",
         "ساعت مردانه",
         "515"
        ],
        [
         "43",
         "ابزار های پزشکی",
         "515"
        ],
        [
         "102",
         "براش و برس و پد",
         "510"
        ],
        [
         "675",
         "چای ساز و قهوه ساز",
         "500"
        ],
        [
         "196",
         "جوراب، ساق و ساپورت زنانه",
         "496"
        ],
        [
         "388",
         "شکلات و آبنبات",
         "492"
        ],
        [
         "350",
         "سنگ های قیمتی",
         "486"
        ],
        [
         "211",
         "خاک، کود و آفت کش",
         "481"
        ],
        [
         "737",
         "کرم پودر",
         "453"
        ]
       ],
       "shape": {
        "columns": 2,
        "rows": 813
       }
      },
      "text/html": [
       "<div>\n",
       "<style scoped>\n",
       "    .dataframe tbody tr th:only-of-type {\n",
       "        vertical-align: middle;\n",
       "    }\n",
       "\n",
       "    .dataframe tbody tr th {\n",
       "        vertical-align: top;\n",
       "    }\n",
       "\n",
       "    .dataframe thead th {\n",
       "        text-align: right;\n",
       "    }\n",
       "</style>\n",
       "<table border=\"1\" class=\"dataframe\">\n",
       "  <thead>\n",
       "    <tr style=\"text-align: right;\">\n",
       "      <th></th>\n",
       "      <th>categoryTitle</th>\n",
       "      <th>sales_count_week</th>\n",
       "    </tr>\n",
       "  </thead>\n",
       "  <tbody>\n",
       "    <tr>\n",
       "      <th>728</th>\n",
       "      <td>کتاب چاپی</td>\n",
       "      <td>2683</td>\n",
       "    </tr>\n",
       "    <tr>\n",
       "      <th>745</th>\n",
       "      <td>کفش و دمپایی زنانه</td>\n",
       "      <td>2165</td>\n",
       "    </tr>\n",
       "    <tr>\n",
       "      <th>101</th>\n",
       "      <td>بذر و تخم گیاهان</td>\n",
       "      <td>2022</td>\n",
       "    </tr>\n",
       "    <tr>\n",
       "      <th>750</th>\n",
       "      <td>کفش، دمپایی مردانه</td>\n",
       "      <td>1928</td>\n",
       "    </tr>\n",
       "    <tr>\n",
       "      <th>314</th>\n",
       "      <td>سایر</td>\n",
       "      <td>1838</td>\n",
       "    </tr>\n",
       "    <tr>\n",
       "      <th>...</th>\n",
       "      <td>...</td>\n",
       "      <td>...</td>\n",
       "    </tr>\n",
       "    <tr>\n",
       "      <th>158</th>\n",
       "      <td>ترجمه</td>\n",
       "      <td>0</td>\n",
       "    </tr>\n",
       "    <tr>\n",
       "      <th>155</th>\n",
       "      <td>تذهیب</td>\n",
       "      <td>0</td>\n",
       "    </tr>\n",
       "    <tr>\n",
       "      <th>525</th>\n",
       "      <td>مادربورد</td>\n",
       "      <td>0</td>\n",
       "    </tr>\n",
       "    <tr>\n",
       "      <th>547</th>\n",
       "      <td>مجلات خارجی</td>\n",
       "      <td>0</td>\n",
       "    </tr>\n",
       "    <tr>\n",
       "      <th>296</th>\n",
       "      <td>زنجیر چرخ</td>\n",
       "      <td>0</td>\n",
       "    </tr>\n",
       "  </tbody>\n",
       "</table>\n",
       "<p>813 rows × 2 columns</p>\n",
       "</div>"
      ],
      "text/plain": [
       "          categoryTitle  sales_count_week\n",
       "728           کتاب چاپی              2683\n",
       "745  کفش و دمپایی زنانه              2165\n",
       "101    بذر و تخم گیاهان              2022\n",
       "750  کفش، دمپایی مردانه              1928\n",
       "314                سایر              1838\n",
       "..                  ...               ...\n",
       "158               ترجمه                 0\n",
       "155               تذهیب                 0\n",
       "525            مادربورد                 0\n",
       "547         مجلات خارجی                 0\n",
       "296           زنجیر چرخ                 0\n",
       "\n",
       "[813 rows x 2 columns]"
      ]
     },
     "execution_count": 42,
     "metadata": {},
     "output_type": "execute_result"
    }
   ],
   "source": [
    "sales_per_category_weekly = df_products_light.groupby('categoryTitle')['sales_count_week'].sum().reset_index()\n",
    "sales_per_category_weekly = sales_per_category_weekly.sort_values(by='sales_count_week', ascending=False)\n",
    "sales_per_category_weekly.sort_index\n",
    "sales_per_category_weekly"
   ]
  },
  {
   "cell_type": "code",
   "execution_count": 43,
   "metadata": {},
   "outputs": [
    {
     "data": {
      "application/vnd.microsoft.datawrangler.viewer.v0+json": {
       "columns": [
        {
         "name": "index",
         "rawType": "int64",
         "type": "integer"
        },
        {
         "name": "categoryTitle",
         "rawType": "object",
         "type": "string"
        },
        {
         "name": "weekly_revenue",
         "rawType": "float64",
         "type": "float"
        }
       ],
       "conversionMethod": "pd.DataFrame",
       "ref": "09660d05-3328-4802-b03e-682c8edea833",
       "rows": [
        [
         "516",
         "لوازم پخت و پز",
         "10465878010.0"
        ],
        [
         "750",
         "کفش، دمپایی مردانه",
         "9193759230.0"
        ],
        [
         "745",
         "کفش و دمپایی زنانه",
         "7664685710.0"
        ],
        [
         "336",
         "سرخ کن و کباب پز",
         "6865884000.0"
        ],
        [
         "536",
         "مانتو و تونیک",
         "6455193000.0"
        ],
        [
         "314",
         "سایر",
         "5519817300.0"
        ],
        [
         "675",
         "چای ساز و قهوه ساز",
         "5146741400.0"
        ],
        [
         "769",
         "کولر گازی و آبی",
         "4976769000.0"
        ],
        [
         "185",
         "جاروبرقی، جاروشارژی و بخارشوی",
         "4132277770.0"
        ],
        [
         "728",
         "کتاب چاپی",
         "3830099319.0"
        ],
        [
         "678",
         "چرخ خیاطی",
         "3531190000.0"
        ],
        [
         "114",
         "بلوز، پیراهن و شومیز زنانه",
         "3378388990.0"
        ],
        [
         "213",
         "خردکن و غذاساز",
         "3325549520.0"
        ],
        [
         "533",
         "ماشین ظرفشویی",
         "3268510000.0"
        ],
        [
         "260",
         "دوچرخه و تجهیزات دوچرخه",
         "3264458900.0"
        ],
        [
         "812",
         "یخچال و فریزر",
         "3184897480.0"
        ],
        [
         "149",
         "تجهیزات کمپینگ و کوهنوردی",
         "3157418890.0"
        ],
        [
         "326",
         "سایر لوازم خودرو",
         "3120271000.0"
        ],
        [
         "410",
         "ظروف سرو و پذیرایی",
         "3112719390.0"
        ],
        [
         "50",
         "اجاق گاز و تنور",
         "2949786900.0"
        ],
        [
         "399",
         "صوتی تصویری خودرو",
         "2947385000.0"
        ],
        [
         "49",
         "اتو و میز اتو",
         "2946048000.0"
        ],
        [
         "408",
         "ظروف آشپزخانه",
         "2811191330.0"
        ],
        [
         "420",
         "عطر و ادکلن زنانه و مردانه",
         "2808726610.0"
        ],
        [
         "596",
         "میز",
         "2709904990.0"
        ],
        [
         "41",
         "ابزار نظافت",
         "2640572900.0"
        ],
        [
         "309",
         "ساعت مردانه",
         "2634640000.0"
        ],
        [
         "377",
         "شلوار و سرهمی زنانه",
         "2609792000.0"
        ],
        [
         "9",
         "آبمیوه گیری و آب مرکبات گیری",
         "2574167000.0"
        ],
        [
         "379",
         "شلوار و شلوارک مردانه",
         "2422041340.0"
        ],
        [
         "67",
         "اسپیکر، میکروفون و لوازم جانبی",
         "2397310960.0"
        ],
        [
         "234",
         "دریل و مته",
         "2394815400.0"
        ],
        [
         "532",
         "ماشین اصلاح",
         "2283614990.0"
        ],
        [
         "370",
         "شال و روسری زنانه",
         "2240973100.0"
        ],
        [
         "507",
         "لوازم دستشویی",
         "2230585630.0"
        ],
        [
         "310",
         "ساعت هوشمند",
         "2224625000.0"
        ],
        [
         "299",
         "زیورآلات زنانه",
         "2194237280.0"
        ],
        [
         "544",
         "مبل",
         "2063697440.0"
        ],
        [
         "492",
         "لوازم تهیه و سرو چای",
         "2014781920.0"
        ],
        [
         "390",
         "شیرآلات",
         "2012176170.0"
        ],
        [
         "714",
         "کت و ست رسمی زنانه",
         "2002388000.0"
        ],
        [
         "438",
         "فرش ماشینی",
         "1895410000.0"
        ],
        [
         "110",
         "بلوز و پیراهن مردانه",
         "1830093000.0"
        ],
        [
         "673",
         "چادر و پوشش اسلامی",
         "1762558000.0"
        ],
        [
         "417",
         "عسل",
         "1756440700.0"
        ],
        [
         "180",
         "تیشرت و پولوشرت مردانه",
         "1728857000.0"
        ],
        [
         "519",
         "لوستر",
         "1717316000.0"
        ],
        [
         "43",
         "ابزار های پزشکی",
         "1696102270.0"
        ],
        [
         "165",
         "تشک",
         "1692736800.0"
        ],
        [
         "779",
         "کیف زنانه",
         "1667520000.0"
        ]
       ],
       "shape": {
        "columns": 2,
        "rows": 813
       }
      },
      "text/html": [
       "<div>\n",
       "<style scoped>\n",
       "    .dataframe tbody tr th:only-of-type {\n",
       "        vertical-align: middle;\n",
       "    }\n",
       "\n",
       "    .dataframe tbody tr th {\n",
       "        vertical-align: top;\n",
       "    }\n",
       "\n",
       "    .dataframe thead th {\n",
       "        text-align: right;\n",
       "    }\n",
       "</style>\n",
       "<table border=\"1\" class=\"dataframe\">\n",
       "  <thead>\n",
       "    <tr style=\"text-align: right;\">\n",
       "      <th></th>\n",
       "      <th>categoryTitle</th>\n",
       "      <th>weekly_revenue</th>\n",
       "    </tr>\n",
       "  </thead>\n",
       "  <tbody>\n",
       "    <tr>\n",
       "      <th>516</th>\n",
       "      <td>لوازم پخت و پز</td>\n",
       "      <td>1.046588e+10</td>\n",
       "    </tr>\n",
       "    <tr>\n",
       "      <th>750</th>\n",
       "      <td>کفش، دمپایی مردانه</td>\n",
       "      <td>9.193759e+09</td>\n",
       "    </tr>\n",
       "    <tr>\n",
       "      <th>745</th>\n",
       "      <td>کفش و دمپایی زنانه</td>\n",
       "      <td>7.664686e+09</td>\n",
       "    </tr>\n",
       "    <tr>\n",
       "      <th>336</th>\n",
       "      <td>سرخ کن و کباب پز</td>\n",
       "      <td>6.865884e+09</td>\n",
       "    </tr>\n",
       "    <tr>\n",
       "      <th>536</th>\n",
       "      <td>مانتو و تونیک</td>\n",
       "      <td>6.455193e+09</td>\n",
       "    </tr>\n",
       "    <tr>\n",
       "      <th>...</th>\n",
       "      <td>...</td>\n",
       "      <td>...</td>\n",
       "    </tr>\n",
       "    <tr>\n",
       "      <th>525</th>\n",
       "      <td>مادربورد</td>\n",
       "      <td>0.000000e+00</td>\n",
       "    </tr>\n",
       "    <tr>\n",
       "      <th>776</th>\n",
       "      <td>کیس کامپیوتر</td>\n",
       "      <td>0.000000e+00</td>\n",
       "    </tr>\n",
       "    <tr>\n",
       "      <th>296</th>\n",
       "      <td>زنجیر چرخ</td>\n",
       "      <td>0.000000e+00</td>\n",
       "    </tr>\n",
       "    <tr>\n",
       "      <th>290</th>\n",
       "      <td>رک شبکه و لوازم جانبی</td>\n",
       "      <td>0.000000e+00</td>\n",
       "    </tr>\n",
       "    <tr>\n",
       "      <th>364</th>\n",
       "      <td>سیستم نوبت دهی</td>\n",
       "      <td>0.000000e+00</td>\n",
       "    </tr>\n",
       "  </tbody>\n",
       "</table>\n",
       "<p>813 rows × 2 columns</p>\n",
       "</div>"
      ],
      "text/plain": [
       "             categoryTitle  weekly_revenue\n",
       "516         لوازم پخت و پز    1.046588e+10\n",
       "750     کفش، دمپایی مردانه    9.193759e+09\n",
       "745     کفش و دمپایی زنانه    7.664686e+09\n",
       "336       سرخ کن و کباب پز    6.865884e+09\n",
       "536          مانتو و تونیک    6.455193e+09\n",
       "..                     ...             ...\n",
       "525               مادربورد    0.000000e+00\n",
       "776           کیس کامپیوتر    0.000000e+00\n",
       "296              زنجیر چرخ    0.000000e+00\n",
       "290  رک شبکه و لوازم جانبی    0.000000e+00\n",
       "364         سیستم نوبت دهی    0.000000e+00\n",
       "\n",
       "[813 rows x 2 columns]"
      ]
     },
     "execution_count": 43,
     "metadata": {},
     "output_type": "execute_result"
    }
   ],
   "source": [
    "df_products_light['weekly_revenue'] = df_products_light['sales_count_week'] * df_products_light['price']\n",
    "\n",
    "revenue_per_category_weekly = df_products_light.groupby('categoryTitle')['weekly_revenue'].sum().reset_index()\n",
    "revenue_per_category_weekly = revenue_per_category_weekly.sort_values(by='weekly_revenue', ascending=False)\n",
    "revenue_per_category_weekly"
   ]
  },
  {
   "cell_type": "code",
   "execution_count": 44,
   "metadata": {},
   "outputs": [
    {
     "data": {
      "application/vnd.microsoft.datawrangler.viewer.v0+json": {
       "columns": [
        {
         "name": "index",
         "rawType": "int64",
         "type": "integer"
        },
        {
         "name": "categoryTitle",
         "rawType": "object",
         "type": "string"
        },
        {
         "name": "total_sales",
         "rawType": "int64",
         "type": "integer"
        },
        {
         "name": "total_revenue",
         "rawType": "float64",
         "type": "float"
        }
       ],
       "conversionMethod": "pd.DataFrame",
       "ref": "7785a51b-5d6d-4f67-aab5-277f758cad92",
       "rows": [
        [
         "728",
         "کتاب چاپی",
         "2683",
         "3830099319.0"
        ],
        [
         "745",
         "کفش و دمپایی زنانه",
         "2165",
         "7664685710.0"
        ],
        [
         "101",
         "بذر و تخم گیاهان",
         "2022",
         "490822400.0"
        ],
        [
         "750",
         "کفش، دمپایی مردانه",
         "1928",
         "9193759230.0"
        ],
        [
         "314",
         "سایر",
         "1838",
         "5519817300.0"
        ],
        [
         "420",
         "عطر و ادکلن زنانه و مردانه",
         "1808",
         "2808726610.0"
        ],
        [
         "536",
         "مانتو و تونیک",
         "1562",
         "6455193000.0"
        ],
        [
         "370",
         "شال و روسری زنانه",
         "1282",
         "2240973100.0"
        ],
        [
         "474",
         "لباس زیر زنانه",
         "1275",
         "1661913500.0"
        ],
        [
         "225",
         "داروهای گیاهی",
         "1237",
         "1629979540.0"
        ],
        [
         "299",
         "زیورآلات زنانه",
         "1172",
         "2194237280.0"
        ],
        [
         "52",
         "ادویه",
         "1141",
         "1005451400.0"
        ],
        [
         "528",
         "ماسک صورت",
         "1095",
         "387411150.0"
        ],
        [
         "516",
         "لوازم پخت و پز",
         "1046",
         "10465878010.0"
        ],
        [
         "806",
         "گیاهان آپارتمانی",
         "965",
         "1029947490.0"
        ],
        [
         "114",
         "بلوز، پیراهن و شومیز زنانه",
         "960",
         "3378388990.0"
        ],
        [
         "326",
         "سایر لوازم خودرو",
         "930",
         "3120271000.0"
        ],
        [
         "807",
         "گیاهان دارویی",
         "929",
         "1303210510.0"
        ],
        [
         "730",
         "کرم دست، صورت و بدن",
         "922",
         "1523378610.0"
        ],
        [
         "377",
         "شلوار و سرهمی زنانه",
         "907",
         "2609792000.0"
        ],
        [
         "410",
         "ظروف سرو و پذیرایی",
         "758",
         "3112719390.0"
        ],
        [
         "180",
         "تیشرت و پولوشرت مردانه",
         "726",
         "1728857000.0"
        ],
        [
         "122",
         "تاپ و تیشرت زنانه",
         "722",
         "1113226000.0"
        ],
        [
         "149",
         "تجهیزات کمپینگ و کوهنوردی",
         "706",
         "3157418890.0"
        ],
        [
         "408",
         "ظروف آشپزخانه",
         "705",
         "2811191330.0"
        ],
        [
         "724",
         "کتاب های روانشناسی و خودیاری",
         "694",
         "538174000.0"
        ],
        [
         "384",
         "شوینده بدن و مو",
         "693",
         "881979310.0"
        ],
        [
         "779",
         "کیف زنانه",
         "691",
         "1667520000.0"
        ],
        [
         "379",
         "شلوار و شلوارک مردانه",
         "677",
         "2422041340.0"
        ],
        [
         "93",
         "بازی آموزشی و سرگرمی",
         "659",
         "1003831880.0"
        ],
        [
         "417",
         "عسل",
         "618",
         "1756440700.0"
        ],
        [
         "280",
         "روغن های درمانی",
         "590",
         "543619120.0"
        ],
        [
         "467",
         "لامپ، چراغ و مهتابی",
         "581",
         "1013073200.0"
        ],
        [
         "75",
         "اکسسوری زنانه",
         "566",
         "385323970.0"
        ],
        [
         "176",
         "تنقلات",
         "556",
         "544615600.0"
        ],
        [
         "416",
         "عروسک و فیگور",
         "551",
         "1184027990.0"
        ],
        [
         "499",
         "لوازم جانبی هدفون و هدست",
         "548",
         "1578137900.0"
        ],
        [
         "601",
         "میوه خشک",
         "542",
         "804673350.0"
        ],
        [
         "622",
         "نوشت افزار",
         "534",
         "595265150.0"
        ],
        [
         "110",
         "بلوز و پیراهن مردانه",
         "533",
         "1830093000.0"
        ],
        [
         "41",
         "ابزار نظافت",
         "531",
         "2640572900.0"
        ],
        [
         "309",
         "ساعت مردانه",
         "515",
         "2634640000.0"
        ],
        [
         "43",
         "ابزار های پزشکی",
         "515",
         "1696102270.0"
        ],
        [
         "102",
         "براش و برس و پد",
         "510",
         "181234800.0"
        ],
        [
         "675",
         "چای ساز و قهوه ساز",
         "500",
         "5146741400.0"
        ],
        [
         "196",
         "جوراب، ساق و ساپورت زنانه",
         "496",
         "507904790.0"
        ],
        [
         "388",
         "شکلات و آبنبات",
         "492",
         "489814260.0"
        ],
        [
         "350",
         "سنگ های قیمتی",
         "486",
         "512287260.0"
        ],
        [
         "211",
         "خاک، کود و آفت کش",
         "481",
         "1262364700.0"
        ],
        [
         "737",
         "کرم پودر",
         "453",
         "608133000.0"
        ]
       ],
       "shape": {
        "columns": 3,
        "rows": 813
       }
      },
      "text/html": [
       "<div>\n",
       "<style scoped>\n",
       "    .dataframe tbody tr th:only-of-type {\n",
       "        vertical-align: middle;\n",
       "    }\n",
       "\n",
       "    .dataframe tbody tr th {\n",
       "        vertical-align: top;\n",
       "    }\n",
       "\n",
       "    .dataframe thead th {\n",
       "        text-align: right;\n",
       "    }\n",
       "</style>\n",
       "<table border=\"1\" class=\"dataframe\">\n",
       "  <thead>\n",
       "    <tr style=\"text-align: right;\">\n",
       "      <th></th>\n",
       "      <th>categoryTitle</th>\n",
       "      <th>total_sales</th>\n",
       "      <th>total_revenue</th>\n",
       "    </tr>\n",
       "  </thead>\n",
       "  <tbody>\n",
       "    <tr>\n",
       "      <th>728</th>\n",
       "      <td>کتاب چاپی</td>\n",
       "      <td>2683</td>\n",
       "      <td>3.830099e+09</td>\n",
       "    </tr>\n",
       "    <tr>\n",
       "      <th>745</th>\n",
       "      <td>کفش و دمپایی زنانه</td>\n",
       "      <td>2165</td>\n",
       "      <td>7.664686e+09</td>\n",
       "    </tr>\n",
       "    <tr>\n",
       "      <th>101</th>\n",
       "      <td>بذر و تخم گیاهان</td>\n",
       "      <td>2022</td>\n",
       "      <td>4.908224e+08</td>\n",
       "    </tr>\n",
       "    <tr>\n",
       "      <th>750</th>\n",
       "      <td>کفش، دمپایی مردانه</td>\n",
       "      <td>1928</td>\n",
       "      <td>9.193759e+09</td>\n",
       "    </tr>\n",
       "    <tr>\n",
       "      <th>314</th>\n",
       "      <td>سایر</td>\n",
       "      <td>1838</td>\n",
       "      <td>5.519817e+09</td>\n",
       "    </tr>\n",
       "    <tr>\n",
       "      <th>...</th>\n",
       "      <td>...</td>\n",
       "      <td>...</td>\n",
       "      <td>...</td>\n",
       "    </tr>\n",
       "    <tr>\n",
       "      <th>158</th>\n",
       "      <td>ترجمه</td>\n",
       "      <td>0</td>\n",
       "      <td>0.000000e+00</td>\n",
       "    </tr>\n",
       "    <tr>\n",
       "      <th>155</th>\n",
       "      <td>تذهیب</td>\n",
       "      <td>0</td>\n",
       "      <td>0.000000e+00</td>\n",
       "    </tr>\n",
       "    <tr>\n",
       "      <th>525</th>\n",
       "      <td>مادربورد</td>\n",
       "      <td>0</td>\n",
       "      <td>0.000000e+00</td>\n",
       "    </tr>\n",
       "    <tr>\n",
       "      <th>547</th>\n",
       "      <td>مجلات خارجی</td>\n",
       "      <td>0</td>\n",
       "      <td>0.000000e+00</td>\n",
       "    </tr>\n",
       "    <tr>\n",
       "      <th>296</th>\n",
       "      <td>زنجیر چرخ</td>\n",
       "      <td>0</td>\n",
       "      <td>0.000000e+00</td>\n",
       "    </tr>\n",
       "  </tbody>\n",
       "</table>\n",
       "<p>813 rows × 3 columns</p>\n",
       "</div>"
      ],
      "text/plain": [
       "          categoryTitle  total_sales  total_revenue\n",
       "728           کتاب چاپی         2683   3.830099e+09\n",
       "745  کفش و دمپایی زنانه         2165   7.664686e+09\n",
       "101    بذر و تخم گیاهان         2022   4.908224e+08\n",
       "750  کفش، دمپایی مردانه         1928   9.193759e+09\n",
       "314                سایر         1838   5.519817e+09\n",
       "..                  ...          ...            ...\n",
       "158               ترجمه            0   0.000000e+00\n",
       "155               تذهیب            0   0.000000e+00\n",
       "525            مادربورد            0   0.000000e+00\n",
       "547         مجلات خارجی            0   0.000000e+00\n",
       "296           زنجیر چرخ            0   0.000000e+00\n",
       "\n",
       "[813 rows x 3 columns]"
      ]
     },
     "execution_count": 44,
     "metadata": {},
     "output_type": "execute_result"
    }
   ],
   "source": [
    "sales_revenue_per_category = df_products_light.groupby('categoryTitle').agg(\n",
    "    total_sales=('sales_count_week', 'sum'),\n",
    "    total_revenue=('weekly_revenue', 'sum')\n",
    ").reset_index().sort_values(by='total_sales', ascending=False)\n",
    "\n",
    "sales_revenue_per_category"
   ]
  },
  {
   "cell_type": "code",
   "execution_count": null,
   "metadata": {},
   "outputs": [],
   "source": []
  }
 ],
 "metadata": {
  "kernelspec": {
   "display_name": "base",
   "language": "python",
   "name": "python3"
  },
  "language_info": {
   "codemirror_mode": {
    "name": "ipython",
    "version": 3
   },
   "file_extension": ".py",
   "mimetype": "text/x-python",
   "name": "python",
   "nbconvert_exporter": "python",
   "pygments_lexer": "ipython3",
   "version": "3.11.7"
  }
 },
 "nbformat": 4,
 "nbformat_minor": 2
}
